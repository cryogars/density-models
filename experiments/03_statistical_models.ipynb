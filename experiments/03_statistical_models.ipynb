{
 "cells": [
  {
   "cell_type": "markdown",
   "metadata": {},
   "source": [
    "## Setup\n",
    "\n",
    "Load libraries"
   ]
  },
  {
   "cell_type": "code",
   "execution_count": 2,
   "metadata": {},
   "outputs": [],
   "source": [
    "import os\n",
    "import pickle\n",
    "from snowmodels.swe import HillSWE\n",
    "from snowmodels.density import SturmDensity, JonasDensity, PistochiDensity "
   ]
  },
  {
   "cell_type": "markdown",
   "metadata": {},
   "source": [
    "## Load Dataset"
   ]
  },
  {
   "cell_type": "code",
   "execution_count": 3,
   "metadata": {},
   "outputs": [],
   "source": [
    "with open('../data/data_splits.pkl', 'rb') as f:\n",
    "    data_splits = pickle.load(f)"
   ]
  },
  {
   "cell_type": "markdown",
   "metadata": {},
   "source": [
    "## Statistical Models"
   ]
  },
  {
   "cell_type": "markdown",
   "metadata": {},
   "source": [
    "### Density Prediction (Test Set)"
   ]
  },
  {
   "cell_type": "code",
   "execution_count": 4,
   "metadata": {},
   "outputs": [
    {
     "data": {
      "text/html": [
       "<div>\n",
       "<style scoped>\n",
       "    .dataframe tbody tr th:only-of-type {\n",
       "        vertical-align: middle;\n",
       "    }\n",
       "\n",
       "    .dataframe tbody tr th {\n",
       "        vertical-align: top;\n",
       "    }\n",
       "\n",
       "    .dataframe thead th {\n",
       "        text-align: right;\n",
       "    }\n",
       "</style>\n",
       "<table border=\"1\" class=\"dataframe\">\n",
       "  <thead>\n",
       "    <tr style=\"text-align: right;\">\n",
       "      <th></th>\n",
       "      <th>Snow_Class</th>\n",
       "      <th>Observed_Density</th>\n",
       "      <th>Jonas_Density</th>\n",
       "      <th>Pistochi_Density</th>\n",
       "      <th>Sturm_Density</th>\n",
       "    </tr>\n",
       "  </thead>\n",
       "  <tbody>\n",
       "    <tr>\n",
       "      <th>0</th>\n",
       "      <td>Alpine</td>\n",
       "      <td>0.190909</td>\n",
       "      <td>0.229395</td>\n",
       "      <td>0.315</td>\n",
       "      <td>0.249035</td>\n",
       "    </tr>\n",
       "    <tr>\n",
       "      <th>1</th>\n",
       "      <td>Alpine</td>\n",
       "      <td>0.319048</td>\n",
       "      <td>0.285868</td>\n",
       "      <td>0.397</td>\n",
       "      <td>0.333826</td>\n",
       "    </tr>\n",
       "    <tr>\n",
       "      <th>2</th>\n",
       "      <td>Alpine</td>\n",
       "      <td>0.209524</td>\n",
       "      <td>0.258474</td>\n",
       "      <td>0.318</td>\n",
       "      <td>0.262308</td>\n",
       "    </tr>\n",
       "    <tr>\n",
       "      <th>3</th>\n",
       "      <td>Alpine</td>\n",
       "      <td>0.450649</td>\n",
       "      <td>0.348602</td>\n",
       "      <td>0.435</td>\n",
       "      <td>0.405091</td>\n",
       "    </tr>\n",
       "    <tr>\n",
       "      <th>4</th>\n",
       "      <td>Alpine</td>\n",
       "      <td>0.273913</td>\n",
       "      <td>0.236378</td>\n",
       "      <td>0.331</td>\n",
       "      <td>0.260724</td>\n",
       "    </tr>\n",
       "  </tbody>\n",
       "</table>\n",
       "</div>"
      ],
      "text/plain": [
       "  Snow_Class  Observed_Density  Jonas_Density  Pistochi_Density  Sturm_Density\n",
       "0     Alpine          0.190909       0.229395             0.315       0.249035\n",
       "1     Alpine          0.319048       0.285868             0.397       0.333826\n",
       "2     Alpine          0.209524       0.258474             0.318       0.262308\n",
       "3     Alpine          0.450649       0.348602             0.435       0.405091\n",
       "4     Alpine          0.273913       0.236378             0.331       0.260724"
      ]
     },
     "execution_count": 4,
     "metadata": {},
     "output_type": "execute_result"
    }
   ],
   "source": [
    "density_results=(\n",
    "    data_splits['X_test']\n",
    "    .assign(\n",
    "        Observed_Density=data_splits['y_test'],\n",
    "        Jonas_Density=lambda x: x.loc[:, ('Snow_Depth', 'Date', 'Elevation')].apply(lambda y: JonasDensity().compute_density(snow_depth=y.Snow_Depth*0.01, month=y.Date.month_name(), elevation= y.Elevation), axis=1),\n",
    "        Pistochi_Density=lambda x: x.loc[:, 'Pistochi_DOWY'].apply(lambda y: PistochiDensity().compute_density(DOY=y)),\n",
    "        Sturm_Density=lambda x: x.loc[:, ('Snow_Depth', 'Sturm_DOWY', 'Snow_Class')].apply(lambda y: SturmDensity().compute_density(snow_depth=y.Snow_Depth, DOY=y.Sturm_DOWY, snow_class= y.Snow_Class), axis=1) \n",
    "    )\n",
    "    .filter(items=['Snow_Class', 'Observed_Density', 'Jonas_Density', 'Pistochi_Density', 'Sturm_Density'])\n",
    "    .reset_index(drop=True)\n",
    ")\n",
    "\n",
    "density_results.head()"
   ]
  },
  {
   "cell_type": "markdown",
   "metadata": {},
   "source": [
    "### SWE Prediction (Test Set)"
   ]
  },
  {
   "cell_type": "code",
   "execution_count": 5,
   "metadata": {},
   "outputs": [
    {
     "data": {
      "text/html": [
       "<div>\n",
       "<style scoped>\n",
       "    .dataframe tbody tr th:only-of-type {\n",
       "        vertical-align: middle;\n",
       "    }\n",
       "\n",
       "    .dataframe tbody tr th {\n",
       "        vertical-align: top;\n",
       "    }\n",
       "\n",
       "    .dataframe thead th {\n",
       "        text-align: right;\n",
       "    }\n",
       "</style>\n",
       "<table border=\"1\" class=\"dataframe\">\n",
       "  <thead>\n",
       "    <tr style=\"text-align: right;\">\n",
       "      <th></th>\n",
       "      <th>Snow_Class</th>\n",
       "      <th>Observed_SWE</th>\n",
       "      <th>Jonas_SWE</th>\n",
       "      <th>Sturm_SWE</th>\n",
       "      <th>Pistochi_SWE</th>\n",
       "      <th>Hill_SWE</th>\n",
       "    </tr>\n",
       "  </thead>\n",
       "  <tbody>\n",
       "    <tr>\n",
       "      <th>0</th>\n",
       "      <td>Alpine</td>\n",
       "      <td>16.002</td>\n",
       "      <td>19.227922</td>\n",
       "      <td>20.874140</td>\n",
       "      <td>26.40330</td>\n",
       "      <td>26.611937</td>\n",
       "    </tr>\n",
       "    <tr>\n",
       "      <th>1</th>\n",
       "      <td>Alpine</td>\n",
       "      <td>17.018</td>\n",
       "      <td>15.248220</td>\n",
       "      <td>17.806287</td>\n",
       "      <td>21.17598</td>\n",
       "      <td>17.396827</td>\n",
       "    </tr>\n",
       "    <tr>\n",
       "      <th>2</th>\n",
       "      <td>Alpine</td>\n",
       "      <td>22.352</td>\n",
       "      <td>27.573964</td>\n",
       "      <td>27.982968</td>\n",
       "      <td>33.92424</td>\n",
       "      <td>32.438612</td>\n",
       "    </tr>\n",
       "    <tr>\n",
       "      <th>3</th>\n",
       "      <td>Alpine</td>\n",
       "      <td>88.138</td>\n",
       "      <td>68.179618</td>\n",
       "      <td>79.227638</td>\n",
       "      <td>85.07730</td>\n",
       "      <td>92.874028</td>\n",
       "    </tr>\n",
       "    <tr>\n",
       "      <th>4</th>\n",
       "      <td>Alpine</td>\n",
       "      <td>16.002</td>\n",
       "      <td>13.809226</td>\n",
       "      <td>15.231518</td>\n",
       "      <td>19.33702</td>\n",
       "      <td>NaN</td>\n",
       "    </tr>\n",
       "  </tbody>\n",
       "</table>\n",
       "</div>"
      ],
      "text/plain": [
       "  Snow_Class  Observed_SWE  Jonas_SWE  Sturm_SWE  Pistochi_SWE   Hill_SWE\n",
       "0     Alpine        16.002  19.227922  20.874140      26.40330  26.611937\n",
       "1     Alpine        17.018  15.248220  17.806287      21.17598  17.396827\n",
       "2     Alpine        22.352  27.573964  27.982968      33.92424  32.438612\n",
       "3     Alpine        88.138  68.179618  79.227638      85.07730  92.874028\n",
       "4     Alpine        16.002  13.809226  15.231518      19.33702        NaN"
      ]
     },
     "execution_count": 5,
     "metadata": {},
     "output_type": "execute_result"
    }
   ],
   "source": [
    "swe_results=(\n",
    "    density_results\n",
    "    .assign(\n",
    "        Observed_SWE=data_splits['X_test'].reset_index().SWE,\n",
    "        Snow_Depth=data_splits['X_test'].reset_index().Snow_Depth,\n",
    "        Jonas_SWE=lambda x: x.Jonas_Density * x.Snow_Depth,\n",
    "        Sturm_SWE=lambda x: x.Sturm_Density * x.Snow_Depth,\n",
    "        Pistochi_SWE=lambda x: x.Pistochi_Density * x.Snow_Depth,\n",
    "        Hill_SWE=data_splits['X_test'].reset_index()[['PPTWT', 'Temp_Diff', 'DOWY', 'Snow_Depth']].apply(lambda x: HillSWE().compute_swe(pptwt=x.PPTWT, TD=x.Temp_Diff, DOY=x.DOWY, snow_depth=x.Snow_Depth*10), axis=1)\n",
    "    )\n",
    "    .drop(\n",
    "        columns=[\n",
    "            'Observed_Density', \n",
    "            'Jonas_Density', \n",
    "            'Pistochi_Density', \n",
    "            'Sturm_Density', \n",
    "            'Snow_Depth',\n",
    "        ]\n",
    "    )\n",
    ")\n",
    "\n",
    "swe_results.head()"
   ]
  },
  {
   "cell_type": "markdown",
   "metadata": {},
   "source": [
    "## Store Predictions to File"
   ]
  },
  {
   "cell_type": "code",
   "execution_count": 6,
   "metadata": {},
   "outputs": [],
   "source": [
    "os.makedirs('../results', exist_ok=True)\n",
    "os.makedirs('../results/density', exist_ok=True)\n",
    "os.makedirs('../results/swe', exist_ok=True)\n",
    "\n",
    "density_results.to_parquet('../results/density/statistical_models_predictions.parquet', index=False, compression='gzip')\n",
    "swe_results.to_parquet('../results/swe/statistical_models_predictions.parquet', index=False, compression='gzip')"
   ]
  }
 ],
 "metadata": {
  "kernelspec": {
   "display_name": "ml_density_env",
   "language": "python",
   "name": "python3"
  },
  "language_info": {
   "codemirror_mode": {
    "name": "ipython",
    "version": 3
   },
   "file_extension": ".py",
   "mimetype": "text/x-python",
   "name": "python",
   "nbconvert_exporter": "python",
   "pygments_lexer": "ipython3",
   "version": "3.11.5"
  }
 },
 "nbformat": 4,
 "nbformat_minor": 2
}
