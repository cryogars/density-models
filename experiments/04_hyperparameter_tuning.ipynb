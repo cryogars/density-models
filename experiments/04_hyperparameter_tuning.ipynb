{
 "cells": [
  {
   "cell_type": "markdown",
   "metadata": {},
   "source": [
    "## Setup\n",
    "\n",
    "Load libraries"
   ]
  },
  {
   "cell_type": "code",
   "execution_count": 2,
   "metadata": {},
   "outputs": [],
   "source": [
    "import pickle\n",
    "from snowmodels.utils import DefaultTuner"
   ]
  },
  {
   "cell_type": "code",
   "execution_count": 3,
   "metadata": {},
   "outputs": [],
   "source": [
    "with open('../data/data_splits.pkl', 'rb') as f:\n",
    "    data_splits = pickle.load(f)"
   ]
  },
  {
   "cell_type": "markdown",
   "metadata": {},
   "source": [
    "## Default Hyperparameters\n",
    "\n",
    "We'll start by running all four models using their default hyperparamaters. This is essential to see if there is any performance gains from tuning."
   ]
  },
  {
   "cell_type": "code",
   "execution_count": null,
   "metadata": {},
   "outputs": [],
   "source": [
    "# Example usage:\n",
    "if __name__ == \"__main__\":\n",
    "    default_tuner = DefaultTuner(\n",
    "        X_train=X_train,\n",
    "        X_val=X_val,\n",
    "        y_train=y_train,\n",
    "        y_val=y_val\n",
    "    )\n",
    "    \n",
    "    baseline_results = default_tuner.run_default_models()"
   ]
  }
 ],
 "metadata": {
  "kernelspec": {
   "display_name": "ml_density_env",
   "language": "python",
   "name": "python3"
  },
  "language_info": {
   "codemirror_mode": {
    "name": "ipython",
    "version": 3
   },
   "file_extension": ".py",
   "mimetype": "text/x-python",
   "name": "python",
   "nbconvert_exporter": "python",
   "pygments_lexer": "ipython3",
   "version": "3.11.5"
  }
 },
 "nbformat": 4,
 "nbformat_minor": 2
}
