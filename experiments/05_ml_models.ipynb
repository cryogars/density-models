{
 "cells": [
  {
   "cell_type": "markdown",
   "metadata": {},
   "source": [
    "## Setup\n",
    "\n",
    "Load libraries:"
   ]
  },
  {
   "cell_type": "code",
   "execution_count": 1,
   "metadata": {},
   "outputs": [],
   "source": [
    "import sys\n",
    "\n",
    "sys.path.append('..')"
   ]
  },
  {
   "cell_type": "code",
   "execution_count": 38,
   "metadata": {},
   "outputs": [
    {
     "name": "stdout",
     "output_type": "stream",
     "text": [
      "XGBoost will run on cuda\n"
     ]
    }
   ],
   "source": [
    "import torch\n",
    "import pickle\n",
    "import pandas as pd\n",
    "import xgboost as xgb\n",
    "import lightgbm as lgb\n",
    "\n",
    "from category_encoders import TargetEncoder\n",
    "from snowmodels.utils import compare_multiple_models\n",
    "from sklearn.ensemble import RandomForestRegressor, ExtraTreesRegressor\n",
    "\n",
    "\n",
    "xgb_device = \"cuda\" if torch.cuda.is_available() else \"cpu\"\n",
    "\n",
    "print(f\"XGBoost will run on {xgb_device}\")"
   ]
  },
  {
   "cell_type": "markdown",
   "metadata": {},
   "source": [
    "## Load Dataset"
   ]
  },
  {
   "cell_type": "code",
   "execution_count": 7,
   "metadata": {},
   "outputs": [],
   "source": [
    "with open('../data/data_splits.pkl', 'rb') as f:\n",
    "    data_splits = pickle.load(f)"
   ]
  },
  {
   "cell_type": "code",
   "execution_count": 8,
   "metadata": {},
   "outputs": [],
   "source": [
    "X_train_raw = data_splits['X_temp'] # train + val instances\n",
    "X_test_raw = data_splits['X_test']\n",
    "y_train = data_splits['y_temp']\n",
    "y_test = data_splits['y_test']"
   ]
  },
  {
   "cell_type": "code",
   "execution_count": 10,
   "metadata": {},
   "outputs": [],
   "source": [
    "encoder = TargetEncoder(cols=['Snow_Class'], min_samples_leaf=20, smoothing=10)\n",
    "\n",
    "X_cat_train = encoder.fit_transform(X_train_raw['Snow_Class'], y_train)\n",
    "X_cat_test = encoder.transform(X_test_raw['Snow_Class'])\n",
    "\n",
    "# Combine with numerical features\n",
    "X_train_main = pd.concat([X_train_raw[['Elevation', 'Snow_Depth', 'DOWY']], X_cat_train], axis=1)\n",
    "X_train_climate = pd.concat([X_train_raw[['Elevation', 'Snow_Depth', 'DOWY','TAVG_lag_14d', 'PRECIPITATION_lag_14d']], X_cat_train], axis=1)\n",
    "\n",
    "\n",
    "X_test_main = pd.concat([X_test_raw[['Elevation', 'Snow_Depth', 'DOWY']], X_cat_test], axis=1)\n",
    "X_test_climate = pd.concat([X_test_raw[['Elevation', 'Snow_Depth', 'DOWY','TAVG_lag_14d', 'PRECIPITATION_lag_14d']], X_cat_test], axis=1)"
   ]
  },
  {
   "cell_type": "markdown",
   "metadata": {},
   "source": [
    "### Extra Trees"
   ]
  },
  {
   "cell_type": "code",
   "execution_count": 23,
   "metadata": {},
   "outputs": [],
   "source": [
    "ext_hyp_from_optuna = {\n",
    "    'n_estimators': 120,\n",
    "    'max_depth': None,\n",
    "    'min_samples_split': 14,\n",
    "    'min_samples_leaf': 1\n",
    "  }\n",
    "\n",
    "\n",
    "ext_trees_main=ExtraTreesRegressor(**ext_hyp_from_optuna, random_state=42, n_jobs=-1)\n",
    "\n",
    "ext_trees_main.fit(X_train_main, y_train)\n",
    "y_pred_ext_main = ext_trees_main.predict(X_test_main)"
   ]
  },
  {
   "cell_type": "markdown",
   "metadata": {},
   "source": [
    "### Random Forest"
   ]
  },
  {
   "cell_type": "code",
   "execution_count": null,
   "metadata": {},
   "outputs": [],
   "source": [
    "{'n_estimators': 438,\n",
    "  'max_depth': 25,\n",
    "  'min_samples_split': 9,\n",
    "  'min_samples_leaf': 3}"
   ]
  },
  {
   "cell_type": "code",
   "execution_count": 29,
   "metadata": {},
   "outputs": [],
   "source": [
    "rf_hyp_from_optuna = {\n",
    "    'n_estimators': 438,\n",
    "    'max_depth': None,\n",
    "    'min_samples_split': 9,\n",
    "    'min_samples_leaf': 3\n",
    "  }\n",
    "\n",
    "\n",
    "rf_trees_main=RandomForestRegressor(**rf_hyp_from_optuna, random_state=42, n_jobs=-1)\n",
    "\n",
    "rf_trees_main.fit(X_train_main, y_train)\n",
    "y_pred_rf_main = rf_trees_main.predict(X_test_main)"
   ]
  },
  {
   "cell_type": "markdown",
   "metadata": {},
   "source": [
    "### LightGBM"
   ]
  },
  {
   "cell_type": "code",
   "execution_count": null,
   "metadata": {},
   "outputs": [
    {
     "name": "stdout",
     "output_type": "stream",
     "text": [
      "[LightGBM] [Info] Auto-choosing row-wise multi-threading, the overhead of testing was 0.006686 seconds.\n",
      "You can set `force_row_wise=true` to remove the overhead.\n",
      "And if memory is not enough, you can set `force_col_wise=true`.\n",
      "[LightGBM] [Info] Total Bins 1246\n",
      "[LightGBM] [Info] Number of data points in the train set: 2178049, number of used features: 4\n",
      "[LightGBM] [Info] Start training from score 0.302427\n"
     ]
    }
   ],
   "source": [
    "params_from_optuna={\n",
    "    'objective': 'regression',\n",
    "    'random_state':42,\n",
    "    'learning_rate': 0.13597606223994746,\n",
    "    'num_leaves': 185,\n",
    "    'min_child_weight': 20.535024680037342,\n",
    "    'min_child_samples': 22,\n",
    "    'max_bin': 764,\n",
    "    'max_depth': 20,\n",
    "    'bagging_fraction': 1\n",
    "}\n",
    "\n",
    "train_data = lgb.Dataset(X_train_main, label=y_train,)\n",
    "\n",
    "lgbm_main = lgb.train(\n",
    "    params_from_optuna,\n",
    "    train_data,\n",
    "    num_boost_round=1500 # best iteration from Optuna\n",
    ")\n",
    "\n",
    "y_pred_lgbm_main = lgbm_main.predict(X_test_main)"
   ]
  },
  {
   "cell_type": "markdown",
   "metadata": {},
   "source": [
    "### XGBoost"
   ]
  },
  {
   "cell_type": "code",
   "execution_count": 35,
   "metadata": {},
   "outputs": [],
   "source": [
    "xgb_params_from_optuna={\n",
    "    'objective': 'reg:squarederror',\n",
    "    'random_state':42,\n",
    "    'learning_rate': 0.012571635462866944,\n",
    "    'gamma': 1.8331574770840668e-06,\n",
    "    'min_child_weight': 12.338531236617445,\n",
    "    'max_bin': 3350,\n",
    "    'max_depth': 17,\n",
    "    'subsample': 1,\n",
    "    'device': xgb_device,\n",
    "    'tree_method': 'hist',\n",
    "    'sampling_method': 'gradient_based'\n",
    "}\n",
    "\n",
    "dtrain = xgb.DMatrix(X_train_main, label=y_train)\n",
    "dtest = xgb.DMatrix(X_test_main)\n",
    "\n",
    "xgb_main = xgb.train(\n",
    "    xgb_params_from_optuna,\n",
    "    dtrain,\n",
    "    num_boost_round=1498, # best iteration from Optuna\n",
    ")\n",
    "\n",
    "y_pred_xgb_main = xgb_main.predict(dtest)"
   ]
  },
  {
   "cell_type": "markdown",
   "metadata": {},
   "source": [
    "## Model Comparison\n",
    "\n",
    "* Density"
   ]
  },
  {
   "cell_type": "code",
   "execution_count": 37,
   "metadata": {},
   "outputs": [
    {
     "data": {
      "text/html": [
       "<div>\n",
       "<style scoped>\n",
       "    .dataframe tbody tr th:only-of-type {\n",
       "        vertical-align: middle;\n",
       "    }\n",
       "\n",
       "    .dataframe tbody tr th {\n",
       "        vertical-align: top;\n",
       "    }\n",
       "\n",
       "    .dataframe thead th {\n",
       "        text-align: right;\n",
       "    }\n",
       "</style>\n",
       "<table border=\"1\" class=\"dataframe\">\n",
       "  <thead>\n",
       "    <tr style=\"text-align: right;\">\n",
       "      <th></th>\n",
       "      <th>EXT_Density</th>\n",
       "      <th>RF_Density</th>\n",
       "      <th>LGBM_Density</th>\n",
       "      <th>XGB_Density</th>\n",
       "      <th>True_Density</th>\n",
       "    </tr>\n",
       "  </thead>\n",
       "  <tbody>\n",
       "    <tr>\n",
       "      <th>0</th>\n",
       "      <td>0.205936</td>\n",
       "      <td>0.187287</td>\n",
       "      <td>0.203340</td>\n",
       "      <td>0.198362</td>\n",
       "      <td>0.190909</td>\n",
       "    </tr>\n",
       "    <tr>\n",
       "      <th>1</th>\n",
       "      <td>0.310802</td>\n",
       "      <td>0.298136</td>\n",
       "      <td>0.301686</td>\n",
       "      <td>0.309763</td>\n",
       "      <td>0.319048</td>\n",
       "    </tr>\n",
       "    <tr>\n",
       "      <th>2</th>\n",
       "      <td>0.229451</td>\n",
       "      <td>0.222444</td>\n",
       "      <td>0.227774</td>\n",
       "      <td>0.226534</td>\n",
       "      <td>0.209524</td>\n",
       "    </tr>\n",
       "    <tr>\n",
       "      <th>3</th>\n",
       "      <td>0.409145</td>\n",
       "      <td>0.407753</td>\n",
       "      <td>0.415537</td>\n",
       "      <td>0.410843</td>\n",
       "      <td>0.450649</td>\n",
       "    </tr>\n",
       "    <tr>\n",
       "      <th>4</th>\n",
       "      <td>0.270602</td>\n",
       "      <td>0.278175</td>\n",
       "      <td>0.259346</td>\n",
       "      <td>0.269569</td>\n",
       "      <td>0.273913</td>\n",
       "    </tr>\n",
       "  </tbody>\n",
       "</table>\n",
       "</div>"
      ],
      "text/plain": [
       "   EXT_Density  RF_Density  LGBM_Density  XGB_Density  True_Density\n",
       "0     0.205936    0.187287      0.203340     0.198362      0.190909\n",
       "1     0.310802    0.298136      0.301686     0.309763      0.319048\n",
       "2     0.229451    0.222444      0.227774     0.226534      0.209524\n",
       "3     0.409145    0.407753      0.415537     0.410843      0.450649\n",
       "4     0.270602    0.278175      0.259346     0.269569      0.273913"
      ]
     },
     "execution_count": 37,
     "metadata": {},
     "output_type": "execute_result"
    }
   ],
   "source": [
    "main_model_results=pd.DataFrame({\n",
    "    'EXT_Density': y_pred_ext_main,\n",
    "    'RF_Density': y_pred_rf_main,\n",
    "    'LGBM_Density': y_pred_lgbm_main,\n",
    "    'XGB_Density': y_pred_xgb_main,\n",
    "    'True_Density': y_test.values\n",
    "})\n",
    "\n",
    "main_model_results.head()"
   ]
  },
  {
   "cell_type": "code",
   "execution_count": 39,
   "metadata": {},
   "outputs": [
    {
     "data": {
      "text/html": [
       "<div>\n",
       "<style scoped>\n",
       "    .dataframe tbody tr th:only-of-type {\n",
       "        vertical-align: middle;\n",
       "    }\n",
       "\n",
       "    .dataframe tbody tr th {\n",
       "        vertical-align: top;\n",
       "    }\n",
       "\n",
       "    .dataframe thead th {\n",
       "        text-align: right;\n",
       "    }\n",
       "</style>\n",
       "<table border=\"1\" class=\"dataframe\">\n",
       "  <thead>\n",
       "    <tr style=\"text-align: right;\">\n",
       "      <th></th>\n",
       "      <th>EXT_Density</th>\n",
       "      <th>RF_Density</th>\n",
       "      <th>LGBM_Density</th>\n",
       "      <th>XGB_Density</th>\n",
       "    </tr>\n",
       "  </thead>\n",
       "  <tbody>\n",
       "    <tr>\n",
       "      <th>RMSE</th>\n",
       "      <td>0.045778</td>\n",
       "      <td>0.043575</td>\n",
       "      <td>0.043445</td>\n",
       "      <td>0.042854</td>\n",
       "    </tr>\n",
       "    <tr>\n",
       "      <th>MBE</th>\n",
       "      <td>0.000134</td>\n",
       "      <td>0.000175</td>\n",
       "      <td>0.000104</td>\n",
       "      <td>0.000120</td>\n",
       "    </tr>\n",
       "    <tr>\n",
       "      <th>RSQ</th>\n",
       "      <td>0.752531</td>\n",
       "      <td>0.775775</td>\n",
       "      <td>0.777112</td>\n",
       "      <td>0.783138</td>\n",
       "    </tr>\n",
       "  </tbody>\n",
       "</table>\n",
       "</div>"
      ],
      "text/plain": [
       "      EXT_Density  RF_Density  LGBM_Density  XGB_Density\n",
       "RMSE     0.045778    0.043575      0.043445     0.042854\n",
       "MBE      0.000134    0.000175      0.000104     0.000120\n",
       "RSQ      0.752531    0.775775      0.777112     0.783138"
      ]
     },
     "execution_count": 39,
     "metadata": {},
     "output_type": "execute_result"
    }
   ],
   "source": [
    "compare_multiple_models(main_model_results, 'True_Density')"
   ]
  },
  {
   "cell_type": "markdown",
   "metadata": {},
   "source": [
    "* SWE"
   ]
  },
  {
   "cell_type": "code",
   "execution_count": 42,
   "metadata": {},
   "outputs": [
    {
     "data": {
      "text/html": [
       "<div>\n",
       "<style scoped>\n",
       "    .dataframe tbody tr th:only-of-type {\n",
       "        vertical-align: middle;\n",
       "    }\n",
       "\n",
       "    .dataframe tbody tr th {\n",
       "        vertical-align: top;\n",
       "    }\n",
       "\n",
       "    .dataframe thead th {\n",
       "        text-align: right;\n",
       "    }\n",
       "</style>\n",
       "<table border=\"1\" class=\"dataframe\">\n",
       "  <thead>\n",
       "    <tr style=\"text-align: right;\">\n",
       "      <th></th>\n",
       "      <th>EXT_SWE</th>\n",
       "      <th>RF_SWE</th>\n",
       "      <th>LGBM_SWE</th>\n",
       "      <th>XGB_SWE</th>\n",
       "      <th>True_SWE</th>\n",
       "    </tr>\n",
       "  </thead>\n",
       "  <tbody>\n",
       "    <tr>\n",
       "      <th>0</th>\n",
       "      <td>17.261557</td>\n",
       "      <td>15.698420</td>\n",
       "      <td>17.043941</td>\n",
       "      <td>16.626680</td>\n",
       "      <td>16.002</td>\n",
       "    </tr>\n",
       "    <tr>\n",
       "      <th>1</th>\n",
       "      <td>16.578168</td>\n",
       "      <td>15.902558</td>\n",
       "      <td>16.091957</td>\n",
       "      <td>16.522734</td>\n",
       "      <td>17.018</td>\n",
       "    </tr>\n",
       "    <tr>\n",
       "      <th>2</th>\n",
       "      <td>24.477876</td>\n",
       "      <td>23.730374</td>\n",
       "      <td>24.298943</td>\n",
       "      <td>24.166656</td>\n",
       "      <td>22.352</td>\n",
       "    </tr>\n",
       "    <tr>\n",
       "      <th>3</th>\n",
       "      <td>80.020597</td>\n",
       "      <td>79.748333</td>\n",
       "      <td>81.270656</td>\n",
       "      <td>80.352758</td>\n",
       "      <td>88.138</td>\n",
       "    </tr>\n",
       "    <tr>\n",
       "      <th>4</th>\n",
       "      <td>15.808558</td>\n",
       "      <td>16.250980</td>\n",
       "      <td>15.150965</td>\n",
       "      <td>15.748223</td>\n",
       "      <td>16.002</td>\n",
       "    </tr>\n",
       "  </tbody>\n",
       "</table>\n",
       "</div>"
      ],
      "text/plain": [
       "     EXT_SWE     RF_SWE   LGBM_SWE    XGB_SWE  True_SWE\n",
       "0  17.261557  15.698420  17.043941  16.626680    16.002\n",
       "1  16.578168  15.902558  16.091957  16.522734    17.018\n",
       "2  24.477876  23.730374  24.298943  24.166656    22.352\n",
       "3  80.020597  79.748333  81.270656  80.352758    88.138\n",
       "4  15.808558  16.250980  15.150965  15.748223    16.002"
      ]
     },
     "execution_count": 42,
     "metadata": {},
     "output_type": "execute_result"
    }
   ],
   "source": [
    "main_model_swe_results=pd.DataFrame({\n",
    "    'EXT_SWE': main_model_results.EXT_Density.values*X_test_main.Snow_Depth.values,\n",
    "    'RF_SWE': main_model_results.RF_Density.values*X_test_main.Snow_Depth.values,\n",
    "    'LGBM_SWE': main_model_results.LGBM_Density.values*X_test_main.Snow_Depth.values,\n",
    "    'XGB_SWE': main_model_results.XGB_Density.values*X_test_main.Snow_Depth.values,\n",
    "    'True_SWE': X_test_raw.SWE.values,\n",
    "})\n",
    "\n",
    "main_model_swe_results.head()"
   ]
  },
  {
   "cell_type": "code",
   "execution_count": 43,
   "metadata": {},
   "outputs": [
    {
     "data": {
      "text/html": [
       "<div>\n",
       "<style scoped>\n",
       "    .dataframe tbody tr th:only-of-type {\n",
       "        vertical-align: middle;\n",
       "    }\n",
       "\n",
       "    .dataframe tbody tr th {\n",
       "        vertical-align: top;\n",
       "    }\n",
       "\n",
       "    .dataframe thead th {\n",
       "        text-align: right;\n",
       "    }\n",
       "</style>\n",
       "<table border=\"1\" class=\"dataframe\">\n",
       "  <thead>\n",
       "    <tr style=\"text-align: right;\">\n",
       "      <th></th>\n",
       "      <th>EXT_SWE</th>\n",
       "      <th>RF_SWE</th>\n",
       "      <th>LGBM_SWE</th>\n",
       "      <th>XGB_SWE</th>\n",
       "    </tr>\n",
       "  </thead>\n",
       "  <tbody>\n",
       "    <tr>\n",
       "      <th>RMSE</th>\n",
       "      <td>4.419633</td>\n",
       "      <td>4.141154</td>\n",
       "      <td>4.132439</td>\n",
       "      <td>4.065121</td>\n",
       "    </tr>\n",
       "    <tr>\n",
       "      <th>MBE</th>\n",
       "      <td>0.013464</td>\n",
       "      <td>0.017980</td>\n",
       "      <td>0.008473</td>\n",
       "      <td>0.012441</td>\n",
       "    </tr>\n",
       "    <tr>\n",
       "      <th>RSQ</th>\n",
       "      <td>0.975537</td>\n",
       "      <td>0.978523</td>\n",
       "      <td>0.978613</td>\n",
       "      <td>0.979304</td>\n",
       "    </tr>\n",
       "  </tbody>\n",
       "</table>\n",
       "</div>"
      ],
      "text/plain": [
       "       EXT_SWE    RF_SWE  LGBM_SWE   XGB_SWE\n",
       "RMSE  4.419633  4.141154  4.132439  4.065121\n",
       "MBE   0.013464  0.017980  0.008473  0.012441\n",
       "RSQ   0.975537  0.978523  0.978613  0.979304"
      ]
     },
     "execution_count": 43,
     "metadata": {},
     "output_type": "execute_result"
    }
   ],
   "source": [
    "compare_multiple_models(main_model_swe_results, 'True_SWE')"
   ]
  },
  {
   "cell_type": "markdown",
   "metadata": {},
   "source": [
    "* XGBoost for the Win!"
   ]
  },
  {
   "cell_type": "code",
   "execution_count": 20,
   "metadata": {},
   "outputs": [],
   "source": [
    "from sklearn.metrics import root_mean_squared_error as rmse, r2_score"
   ]
  },
  {
   "cell_type": "code",
   "execution_count": 24,
   "metadata": {},
   "outputs": [
    {
     "name": "stdout",
     "output_type": "stream",
     "text": [
      "RMSE: 0.04577819968806074\n",
      "R²: 0.7525312813368727\n"
     ]
    }
   ],
   "source": [
    "print(f\"RMSE: {rmse(y_true=y_test, y_pred=y_pred_ext_main)}\\nR²: {r2_score(y_true=y_test, y_pred=y_pred_ext_main)}\")"
   ]
  },
  {
   "cell_type": "code",
   "execution_count": 30,
   "metadata": {},
   "outputs": [
    {
     "name": "stdout",
     "output_type": "stream",
     "text": [
      "RMSE: 0.043575322947233416\n",
      "R²: 0.775774954883345\n"
     ]
    }
   ],
   "source": [
    "print(f\"RMSE: {rmse(y_true=y_test, y_pred=y_pred_rf_main)}\\nR²: {r2_score(y_true=y_test, y_pred=y_pred_rf_main)}\")"
   ]
  },
  {
   "cell_type": "code",
   "execution_count": 34,
   "metadata": {},
   "outputs": [
    {
     "name": "stdout",
     "output_type": "stream",
     "text": [
      "RMSE: 0.043445239409770284\n",
      "R²: 0.7771116954106951\n"
     ]
    }
   ],
   "source": [
    "print(f\"RMSE: {rmse(y_true=y_test, y_pred=y_pred_lgbm_main)}\\nR²: {r2_score(y_true=y_test, y_pred=y_pred_lgbm_main)}\")"
   ]
  },
  {
   "cell_type": "code",
   "execution_count": 36,
   "metadata": {},
   "outputs": [
    {
     "name": "stdout",
     "output_type": "stream",
     "text": [
      "RMSE: 0.04285386266912323\n",
      "R²: 0.7831383098463478\n"
     ]
    }
   ],
   "source": [
    "print(f\"RMSE: {rmse(y_true=y_test, y_pred=y_pred_xgb_main)}\\nR²: {r2_score(y_true=y_test, y_pred=y_pred_xgb_main)}\")"
   ]
  }
 ],
 "metadata": {
  "kernelspec": {
   "display_name": "ml_density_env",
   "language": "python",
   "name": "python3"
  },
  "language_info": {
   "codemirror_mode": {
    "name": "ipython",
    "version": 3
   },
   "file_extension": ".py",
   "mimetype": "text/x-python",
   "name": "python",
   "nbconvert_exporter": "python",
   "pygments_lexer": "ipython3",
   "version": "3.11.5"
  }
 },
 "nbformat": 4,
 "nbformat_minor": 2
}
