{
 "cells": [
  {
   "cell_type": "markdown",
   "metadata": {},
   "source": [
    "## Setup\n",
    "\n",
    "Load libraries:"
   ]
  },
  {
   "cell_type": "code",
   "execution_count": 85,
   "metadata": {},
   "outputs": [
    {
     "name": "stdout",
     "output_type": "stream",
     "text": [
      "XGBoost will run on cuda\n"
     ]
    }
   ],
   "source": [
    "import os\n",
    "import torch\n",
    "import pickle\n",
    "import pandas as pd\n",
    "import xgboost as xgb\n",
    "import lightgbm as lgb\n",
    "\n",
    "from category_encoders import TargetEncoder\n",
    "from snowmodels.utils import compare_multiple_models\n",
    "from sklearn.ensemble import RandomForestRegressor, ExtraTreesRegressor\n",
    "\n",
    "\n",
    "xgb_device = \"cuda\" if torch.cuda.is_available() else \"cpu\"\n",
    "\n",
    "print(f\"XGBoost will run on {xgb_device}\")"
   ]
  },
  {
   "cell_type": "markdown",
   "metadata": {},
   "source": [
    "## Load Dataset"
   ]
  },
  {
   "cell_type": "code",
   "execution_count": 7,
   "metadata": {},
   "outputs": [],
   "source": [
    "with open('../data/data_splits.pkl', 'rb') as f:\n",
    "    data_splits = pickle.load(f)"
   ]
  },
  {
   "cell_type": "code",
   "execution_count": 8,
   "metadata": {},
   "outputs": [],
   "source": [
    "X_train_raw = data_splits['X_temp'] # train + val instances\n",
    "X_test_raw = data_splits['X_test']\n",
    "y_train = data_splits['y_temp']\n",
    "y_test = data_splits['y_test']"
   ]
  },
  {
   "cell_type": "code",
   "execution_count": null,
   "metadata": {},
   "outputs": [],
   "source": [
    "encoder = TargetEncoder(cols=['Snow_Class'], min_samples_leaf=20, smoothing=10)\n",
    "\n",
    "X_cat_train = encoder.fit_transform(X_train_raw['Snow_Class'], y_train)\n",
    "X_cat_test = encoder.transform(X_test_raw['Snow_Class'])\n",
    "\n",
    "# Combine with numerical features\n",
    "X_train_main = pd.concat([X_train_raw[['Elevation', 'Snow_Depth', 'DOWY']], X_cat_train], axis=1)\n",
    "X_test_main = pd.concat([X_test_raw[['Elevation', 'Snow_Depth', 'DOWY']], X_cat_test], axis=1)"
   ]
  },
  {
   "cell_type": "code",
   "execution_count": 63,
   "metadata": {},
   "outputs": [],
   "source": [
    "climate_train=(\n",
    "    X_train_raw\n",
    "    .filter(items=['Elevation', 'Snow_Depth', 'DOWY', 'TAVG_lag_14d', 'PRECIPITATION_lag_14d', 'Snow_Class', 'SWE'])\n",
    "    .assign(Snow_Density=y_train)\n",
    "    .dropna(subset = ['TAVG_lag_14d', 'PRECIPITATION_lag_14d'])\n",
    ")\n",
    "\n",
    "climate_test=(\n",
    "    X_test_raw\n",
    "    .filter(items=['Elevation', 'Snow_Depth', 'DOWY', 'TAVG_lag_14d', 'PRECIPITATION_lag_14d', 'Snow_Class', 'SWE'])\n",
    "    .assign(Snow_Density=y_test)\n",
    "    .dropna(subset = ['TAVG_lag_14d', 'PRECIPITATION_lag_14d'])\n",
    ")\n",
    "\n",
    "y_train_climate=climate_train.Snow_Density\n",
    "y_test_climate=climate_test.Snow_Density\n",
    "\n",
    "encoder_climate = TargetEncoder(cols=['Snow_Class'], min_samples_leaf=20, smoothing=10)\n",
    "\n",
    "X_cat_train_climate = encoder_climate.fit_transform(climate_train['Snow_Class'], y_train_climate)\n",
    "X_cat_test_climate = encoder_climate.transform(climate_test['Snow_Class'])\n",
    "\n",
    "\n",
    "X_train_climate = pd.concat([climate_train[['Elevation', 'Snow_Depth', 'DOWY','TAVG_lag_14d', 'PRECIPITATION_lag_14d']], X_cat_train_climate], axis=1)\n",
    "X_test_climate = pd.concat([climate_test[['Elevation', 'Snow_Depth', 'DOWY','TAVG_lag_14d', 'PRECIPITATION_lag_14d']], X_cat_test_climate], axis=1)"
   ]
  },
  {
   "cell_type": "markdown",
   "metadata": {},
   "source": [
    "### Extra Trees"
   ]
  },
  {
   "cell_type": "code",
   "execution_count": 23,
   "metadata": {},
   "outputs": [],
   "source": [
    "ext_hyp_from_optuna = {\n",
    "    'n_estimators': 120,\n",
    "    'max_depth': None,\n",
    "    'min_samples_split': 14,\n",
    "    'min_samples_leaf': 1\n",
    "  }\n",
    "\n",
    "\n",
    "ext_trees_main=ExtraTreesRegressor(**ext_hyp_from_optuna, random_state=42, n_jobs=-1)\n",
    "\n",
    "ext_trees_main.fit(X_train_main, y_train)\n",
    "y_pred_ext_main = ext_trees_main.predict(X_test_main)"
   ]
  },
  {
   "cell_type": "markdown",
   "metadata": {},
   "source": [
    "### Random Forest"
   ]
  },
  {
   "cell_type": "code",
   "execution_count": 29,
   "metadata": {},
   "outputs": [],
   "source": [
    "rf_hyp_from_optuna = {\n",
    "    'n_estimators': 438,\n",
    "    'max_depth': None,\n",
    "    'min_samples_split': 9,\n",
    "    'min_samples_leaf': 3\n",
    "  }\n",
    "\n",
    "\n",
    "rf_trees_main=RandomForestRegressor(**rf_hyp_from_optuna, random_state=42, n_jobs=-1)\n",
    "\n",
    "rf_trees_main.fit(X_train_main, y_train)\n",
    "y_pred_rf_main = rf_trees_main.predict(X_test_main)"
   ]
  },
  {
   "cell_type": "markdown",
   "metadata": {},
   "source": [
    "### LightGBM"
   ]
  },
  {
   "cell_type": "code",
   "execution_count": null,
   "metadata": {},
   "outputs": [
    {
     "name": "stdout",
     "output_type": "stream",
     "text": [
      "[LightGBM] [Info] Auto-choosing row-wise multi-threading, the overhead of testing was 0.006686 seconds.\n",
      "You can set `force_row_wise=true` to remove the overhead.\n",
      "And if memory is not enough, you can set `force_col_wise=true`.\n",
      "[LightGBM] [Info] Total Bins 1246\n",
      "[LightGBM] [Info] Number of data points in the train set: 2178049, number of used features: 4\n",
      "[LightGBM] [Info] Start training from score 0.302427\n"
     ]
    }
   ],
   "source": [
    "params_from_optuna={\n",
    "    'objective': 'regression',\n",
    "    'random_state':42,\n",
    "    'learning_rate': 0.13597606223994746,\n",
    "    'num_leaves': 185,\n",
    "    'min_child_weight': 20.535024680037342,\n",
    "    'min_child_samples': 22,\n",
    "    'max_bin': 764,\n",
    "    'max_depth': 20,\n",
    "    'bagging_fraction': 1\n",
    "}\n",
    "\n",
    "train_data = lgb.Dataset(X_train_main, label=y_train,)\n",
    "\n",
    "lgbm_main = lgb.train(\n",
    "    params_from_optuna,\n",
    "    train_data,\n",
    "    num_boost_round=1500 # best iteration from Optuna\n",
    ")\n",
    "\n",
    "y_pred_lgbm_main = lgbm_main.predict(X_test_main)"
   ]
  },
  {
   "cell_type": "markdown",
   "metadata": {},
   "source": [
    "### XGBoost"
   ]
  },
  {
   "cell_type": "code",
   "execution_count": 35,
   "metadata": {},
   "outputs": [],
   "source": [
    "xgb_params_from_optuna={\n",
    "    'objective': 'reg:squarederror',\n",
    "    'random_state':42,\n",
    "    'learning_rate': 0.012571635462866944,\n",
    "    'gamma': 1.8331574770840668e-06,\n",
    "    'min_child_weight': 12.338531236617445,\n",
    "    'max_bin': 3350,\n",
    "    'max_depth': 17,\n",
    "    'subsample': 1,\n",
    "    'device': xgb_device,\n",
    "    'tree_method': 'hist',\n",
    "    'sampling_method': 'gradient_based'\n",
    "}\n",
    "\n",
    "dtrain = xgb.DMatrix(X_train_main, label=y_train)\n",
    "dtest = xgb.DMatrix(X_test_main)\n",
    "\n",
    "xgb_main = xgb.train(\n",
    "    xgb_params_from_optuna,\n",
    "    dtrain,\n",
    "    num_boost_round=1498, # best iteration from Optuna\n",
    ")\n",
    "\n",
    "y_pred_xgb_main = xgb_main.predict(dtest)"
   ]
  },
  {
   "cell_type": "markdown",
   "metadata": {},
   "source": [
    "## Model Comparison\n",
    "\n",
    "* Density"
   ]
  },
  {
   "cell_type": "code",
   "execution_count": 37,
   "metadata": {},
   "outputs": [
    {
     "data": {
      "text/html": [
       "<div>\n",
       "<style scoped>\n",
       "    .dataframe tbody tr th:only-of-type {\n",
       "        vertical-align: middle;\n",
       "    }\n",
       "\n",
       "    .dataframe tbody tr th {\n",
       "        vertical-align: top;\n",
       "    }\n",
       "\n",
       "    .dataframe thead th {\n",
       "        text-align: right;\n",
       "    }\n",
       "</style>\n",
       "<table border=\"1\" class=\"dataframe\">\n",
       "  <thead>\n",
       "    <tr style=\"text-align: right;\">\n",
       "      <th></th>\n",
       "      <th>EXT_Density</th>\n",
       "      <th>RF_Density</th>\n",
       "      <th>LGBM_Density</th>\n",
       "      <th>XGB_Density</th>\n",
       "      <th>True_Density</th>\n",
       "    </tr>\n",
       "  </thead>\n",
       "  <tbody>\n",
       "    <tr>\n",
       "      <th>0</th>\n",
       "      <td>0.205936</td>\n",
       "      <td>0.187287</td>\n",
       "      <td>0.203340</td>\n",
       "      <td>0.198362</td>\n",
       "      <td>0.190909</td>\n",
       "    </tr>\n",
       "    <tr>\n",
       "      <th>1</th>\n",
       "      <td>0.310802</td>\n",
       "      <td>0.298136</td>\n",
       "      <td>0.301686</td>\n",
       "      <td>0.309763</td>\n",
       "      <td>0.319048</td>\n",
       "    </tr>\n",
       "    <tr>\n",
       "      <th>2</th>\n",
       "      <td>0.229451</td>\n",
       "      <td>0.222444</td>\n",
       "      <td>0.227774</td>\n",
       "      <td>0.226534</td>\n",
       "      <td>0.209524</td>\n",
       "    </tr>\n",
       "    <tr>\n",
       "      <th>3</th>\n",
       "      <td>0.409145</td>\n",
       "      <td>0.407753</td>\n",
       "      <td>0.415537</td>\n",
       "      <td>0.410843</td>\n",
       "      <td>0.450649</td>\n",
       "    </tr>\n",
       "    <tr>\n",
       "      <th>4</th>\n",
       "      <td>0.270602</td>\n",
       "      <td>0.278175</td>\n",
       "      <td>0.259346</td>\n",
       "      <td>0.269569</td>\n",
       "      <td>0.273913</td>\n",
       "    </tr>\n",
       "  </tbody>\n",
       "</table>\n",
       "</div>"
      ],
      "text/plain": [
       "   EXT_Density  RF_Density  LGBM_Density  XGB_Density  True_Density\n",
       "0     0.205936    0.187287      0.203340     0.198362      0.190909\n",
       "1     0.310802    0.298136      0.301686     0.309763      0.319048\n",
       "2     0.229451    0.222444      0.227774     0.226534      0.209524\n",
       "3     0.409145    0.407753      0.415537     0.410843      0.450649\n",
       "4     0.270602    0.278175      0.259346     0.269569      0.273913"
      ]
     },
     "execution_count": 37,
     "metadata": {},
     "output_type": "execute_result"
    }
   ],
   "source": [
    "main_model_results=pd.DataFrame({\n",
    "    'EXT_Density': y_pred_ext_main,\n",
    "    'RF_Density': y_pred_rf_main,\n",
    "    'LGBM_Density': y_pred_lgbm_main,\n",
    "    'XGB_Density': y_pred_xgb_main,\n",
    "    'True_Density': y_test.values\n",
    "})\n",
    "\n",
    "main_model_results.head()"
   ]
  },
  {
   "cell_type": "code",
   "execution_count": 39,
   "metadata": {},
   "outputs": [
    {
     "data": {
      "text/html": [
       "<div>\n",
       "<style scoped>\n",
       "    .dataframe tbody tr th:only-of-type {\n",
       "        vertical-align: middle;\n",
       "    }\n",
       "\n",
       "    .dataframe tbody tr th {\n",
       "        vertical-align: top;\n",
       "    }\n",
       "\n",
       "    .dataframe thead th {\n",
       "        text-align: right;\n",
       "    }\n",
       "</style>\n",
       "<table border=\"1\" class=\"dataframe\">\n",
       "  <thead>\n",
       "    <tr style=\"text-align: right;\">\n",
       "      <th></th>\n",
       "      <th>EXT_Density</th>\n",
       "      <th>RF_Density</th>\n",
       "      <th>LGBM_Density</th>\n",
       "      <th>XGB_Density</th>\n",
       "    </tr>\n",
       "  </thead>\n",
       "  <tbody>\n",
       "    <tr>\n",
       "      <th>RMSE</th>\n",
       "      <td>0.045778</td>\n",
       "      <td>0.043575</td>\n",
       "      <td>0.043445</td>\n",
       "      <td>0.042854</td>\n",
       "    </tr>\n",
       "    <tr>\n",
       "      <th>MBE</th>\n",
       "      <td>0.000134</td>\n",
       "      <td>0.000175</td>\n",
       "      <td>0.000104</td>\n",
       "      <td>0.000120</td>\n",
       "    </tr>\n",
       "    <tr>\n",
       "      <th>RSQ</th>\n",
       "      <td>0.752531</td>\n",
       "      <td>0.775775</td>\n",
       "      <td>0.777112</td>\n",
       "      <td>0.783138</td>\n",
       "    </tr>\n",
       "  </tbody>\n",
       "</table>\n",
       "</div>"
      ],
      "text/plain": [
       "      EXT_Density  RF_Density  LGBM_Density  XGB_Density\n",
       "RMSE     0.045778    0.043575      0.043445     0.042854\n",
       "MBE      0.000134    0.000175      0.000104     0.000120\n",
       "RSQ      0.752531    0.775775      0.777112     0.783138"
      ]
     },
     "execution_count": 39,
     "metadata": {},
     "output_type": "execute_result"
    }
   ],
   "source": [
    "compare_multiple_models(main_model_results, 'True_Density')"
   ]
  },
  {
   "cell_type": "markdown",
   "metadata": {},
   "source": [
    "* SWE"
   ]
  },
  {
   "cell_type": "code",
   "execution_count": 42,
   "metadata": {},
   "outputs": [
    {
     "data": {
      "text/html": [
       "<div>\n",
       "<style scoped>\n",
       "    .dataframe tbody tr th:only-of-type {\n",
       "        vertical-align: middle;\n",
       "    }\n",
       "\n",
       "    .dataframe tbody tr th {\n",
       "        vertical-align: top;\n",
       "    }\n",
       "\n",
       "    .dataframe thead th {\n",
       "        text-align: right;\n",
       "    }\n",
       "</style>\n",
       "<table border=\"1\" class=\"dataframe\">\n",
       "  <thead>\n",
       "    <tr style=\"text-align: right;\">\n",
       "      <th></th>\n",
       "      <th>EXT_SWE</th>\n",
       "      <th>RF_SWE</th>\n",
       "      <th>LGBM_SWE</th>\n",
       "      <th>XGB_SWE</th>\n",
       "      <th>True_SWE</th>\n",
       "    </tr>\n",
       "  </thead>\n",
       "  <tbody>\n",
       "    <tr>\n",
       "      <th>0</th>\n",
       "      <td>17.261557</td>\n",
       "      <td>15.698420</td>\n",
       "      <td>17.043941</td>\n",
       "      <td>16.626680</td>\n",
       "      <td>16.002</td>\n",
       "    </tr>\n",
       "    <tr>\n",
       "      <th>1</th>\n",
       "      <td>16.578168</td>\n",
       "      <td>15.902558</td>\n",
       "      <td>16.091957</td>\n",
       "      <td>16.522734</td>\n",
       "      <td>17.018</td>\n",
       "    </tr>\n",
       "    <tr>\n",
       "      <th>2</th>\n",
       "      <td>24.477876</td>\n",
       "      <td>23.730374</td>\n",
       "      <td>24.298943</td>\n",
       "      <td>24.166656</td>\n",
       "      <td>22.352</td>\n",
       "    </tr>\n",
       "    <tr>\n",
       "      <th>3</th>\n",
       "      <td>80.020597</td>\n",
       "      <td>79.748333</td>\n",
       "      <td>81.270656</td>\n",
       "      <td>80.352758</td>\n",
       "      <td>88.138</td>\n",
       "    </tr>\n",
       "    <tr>\n",
       "      <th>4</th>\n",
       "      <td>15.808558</td>\n",
       "      <td>16.250980</td>\n",
       "      <td>15.150965</td>\n",
       "      <td>15.748223</td>\n",
       "      <td>16.002</td>\n",
       "    </tr>\n",
       "  </tbody>\n",
       "</table>\n",
       "</div>"
      ],
      "text/plain": [
       "     EXT_SWE     RF_SWE   LGBM_SWE    XGB_SWE  True_SWE\n",
       "0  17.261557  15.698420  17.043941  16.626680    16.002\n",
       "1  16.578168  15.902558  16.091957  16.522734    17.018\n",
       "2  24.477876  23.730374  24.298943  24.166656    22.352\n",
       "3  80.020597  79.748333  81.270656  80.352758    88.138\n",
       "4  15.808558  16.250980  15.150965  15.748223    16.002"
      ]
     },
     "execution_count": 42,
     "metadata": {},
     "output_type": "execute_result"
    }
   ],
   "source": [
    "main_model_swe_results=pd.DataFrame({\n",
    "    'EXT_SWE': main_model_results.EXT_Density.values*X_test_main.Snow_Depth.values,\n",
    "    'RF_SWE': main_model_results.RF_Density.values*X_test_main.Snow_Depth.values,\n",
    "    'LGBM_SWE': main_model_results.LGBM_Density.values*X_test_main.Snow_Depth.values,\n",
    "    'XGB_SWE': main_model_results.XGB_Density.values*X_test_main.Snow_Depth.values,\n",
    "    'True_SWE': X_test_raw.SWE.values,\n",
    "})\n",
    "\n",
    "main_model_swe_results.head()"
   ]
  },
  {
   "cell_type": "code",
   "execution_count": 43,
   "metadata": {},
   "outputs": [
    {
     "data": {
      "text/html": [
       "<div>\n",
       "<style scoped>\n",
       "    .dataframe tbody tr th:only-of-type {\n",
       "        vertical-align: middle;\n",
       "    }\n",
       "\n",
       "    .dataframe tbody tr th {\n",
       "        vertical-align: top;\n",
       "    }\n",
       "\n",
       "    .dataframe thead th {\n",
       "        text-align: right;\n",
       "    }\n",
       "</style>\n",
       "<table border=\"1\" class=\"dataframe\">\n",
       "  <thead>\n",
       "    <tr style=\"text-align: right;\">\n",
       "      <th></th>\n",
       "      <th>EXT_SWE</th>\n",
       "      <th>RF_SWE</th>\n",
       "      <th>LGBM_SWE</th>\n",
       "      <th>XGB_SWE</th>\n",
       "    </tr>\n",
       "  </thead>\n",
       "  <tbody>\n",
       "    <tr>\n",
       "      <th>RMSE</th>\n",
       "      <td>4.419633</td>\n",
       "      <td>4.141154</td>\n",
       "      <td>4.132439</td>\n",
       "      <td>4.065121</td>\n",
       "    </tr>\n",
       "    <tr>\n",
       "      <th>MBE</th>\n",
       "      <td>0.013464</td>\n",
       "      <td>0.017980</td>\n",
       "      <td>0.008473</td>\n",
       "      <td>0.012441</td>\n",
       "    </tr>\n",
       "    <tr>\n",
       "      <th>RSQ</th>\n",
       "      <td>0.975537</td>\n",
       "      <td>0.978523</td>\n",
       "      <td>0.978613</td>\n",
       "      <td>0.979304</td>\n",
       "    </tr>\n",
       "  </tbody>\n",
       "</table>\n",
       "</div>"
      ],
      "text/plain": [
       "       EXT_SWE    RF_SWE  LGBM_SWE   XGB_SWE\n",
       "RMSE  4.419633  4.141154  4.132439  4.065121\n",
       "MBE   0.013464  0.017980  0.008473  0.012441\n",
       "RSQ   0.975537  0.978523  0.978613  0.979304"
      ]
     },
     "execution_count": 43,
     "metadata": {},
     "output_type": "execute_result"
    }
   ],
   "source": [
    "compare_multiple_models(main_model_swe_results, 'True_SWE')"
   ]
  },
  {
   "cell_type": "markdown",
   "metadata": {},
   "source": [
    "* XGBoost for the Win - it did slightly better in density estimation."
   ]
  },
  {
   "cell_type": "markdown",
   "metadata": {},
   "source": [
    "## Adding Climatology\n",
    "\n",
    "### Extra Trees"
   ]
  },
  {
   "cell_type": "code",
   "execution_count": 67,
   "metadata": {},
   "outputs": [],
   "source": [
    "ext_trees_climate=ExtraTreesRegressor(random_state=42, n_jobs=-1)\n",
    "\n",
    "ext_trees_climate.fit(X_train_climate, y_train_climate)\n",
    "y_pred_ext_climate = ext_trees_climate.predict(X_test_climate)"
   ]
  },
  {
   "cell_type": "markdown",
   "metadata": {},
   "source": [
    "### Random Forest"
   ]
  },
  {
   "cell_type": "code",
   "execution_count": 69,
   "metadata": {},
   "outputs": [],
   "source": [
    "rf_hyp_from_optuna_climate = {\n",
    "    'n_estimators': 412,\n",
    "    'max_depth': None,\n",
    "    'min_samples_split': 2,\n",
    "    'min_samples_leaf': 1\n",
    "  }\n",
    "\n",
    "\n",
    "rf_trees_climate=RandomForestRegressor(**rf_hyp_from_optuna_climate, random_state=42, n_jobs=-1)\n",
    "\n",
    "rf_trees_climate.fit(X_train_climate, y_train_climate)\n",
    "y_pred_rf_climate = rf_trees_climate.predict(X_test_climate)"
   ]
  },
  {
   "cell_type": "markdown",
   "metadata": {},
   "source": [
    "### LightGBM"
   ]
  },
  {
   "cell_type": "code",
   "execution_count": 72,
   "metadata": {},
   "outputs": [
    {
     "name": "stdout",
     "output_type": "stream",
     "text": [
      "[LightGBM] [Info] Auto-choosing row-wise multi-threading, the overhead of testing was 0.008968 seconds.\n",
      "You can set `force_row_wise=true` to remove the overhead.\n",
      "And if memory is not enough, you can set `force_col_wise=true`.\n",
      "[LightGBM] [Info] Total Bins 5377\n",
      "[LightGBM] [Info] Number of data points in the train set: 2123709, number of used features: 6\n",
      "[LightGBM] [Info] Start training from score 0.302762\n",
      "[LightGBM] [Warning] No further splits with positive gain, best gain: -inf\n",
      "[LightGBM] [Warning] No further splits with positive gain, best gain: -inf\n",
      "[LightGBM] [Warning] No further splits with positive gain, best gain: -inf\n",
      "[LightGBM] [Warning] No further splits with positive gain, best gain: -inf\n",
      "[LightGBM] [Warning] No further splits with positive gain, best gain: -inf\n",
      "[LightGBM] [Warning] No further splits with positive gain, best gain: -inf\n",
      "[LightGBM] [Warning] No further splits with positive gain, best gain: -inf\n"
     ]
    }
   ],
   "source": [
    "params_from_optuna_climate={\n",
    "    'objective': 'regression',\n",
    "    'random_state':42,\n",
    "    'learning_rate': 0.28206964529038514,\n",
    "    'num_leaves': 166,\n",
    "    'min_child_weight': 29.631721026875745,\n",
    "    'min_child_samples': 25,\n",
    "    'max_bin': 3128,\n",
    "    'max_depth': 15,\n",
    "    'bagging_fraction': 1\n",
    "}\n",
    "\n",
    "train_data_climate = lgb.Dataset(X_train_climate, label=y_train_climate)\n",
    "\n",
    "lgbm_climate = lgb.train(\n",
    "    params_from_optuna_climate,\n",
    "    train_data_climate,\n",
    "    num_boost_round=1500 # best iteration from Optuna\n",
    ")\n",
    "\n",
    "y_pred_lgbm_climate = lgbm_climate.predict(X_test_climate)"
   ]
  },
  {
   "cell_type": "markdown",
   "metadata": {},
   "source": [
    "### XGBoost"
   ]
  },
  {
   "cell_type": "code",
   "execution_count": 74,
   "metadata": {},
   "outputs": [],
   "source": [
    "xgb_params_from_optun_climate={\n",
    "    'objective': 'reg:squarederror',\n",
    "    'random_state':42,\n",
    "    'learning_rate': 0.08039528136679829,\n",
    "    'gamma': 7.210110116555584e-07,\n",
    "    'min_child_weight': 2.8200619931422226,\n",
    "    'max_bin': 5817,\n",
    "    'max_depth': 18,\n",
    "    'subsample': 1,\n",
    "    'device': xgb_device,\n",
    "    'tree_method': 'hist',\n",
    "    'sampling_method': 'gradient_based'\n",
    "}\n",
    "\n",
    "dtrain_climate = xgb.DMatrix(X_train_climate, label=y_train_climate)\n",
    "dtest_climate = xgb.DMatrix(X_test_climate)\n",
    "\n",
    "xgb_climate = xgb.train(\n",
    "    xgb_params_from_optun_climate,\n",
    "    dtrain_climate,\n",
    "    num_boost_round=1498, # best iteration from Optuna\n",
    ")\n",
    "\n",
    "y_pred_xgb_climate = xgb_climate.predict(dtest_climate)"
   ]
  },
  {
   "cell_type": "markdown",
   "metadata": {},
   "source": [
    "## Model Comparison"
   ]
  },
  {
   "cell_type": "code",
   "execution_count": 77,
   "metadata": {},
   "outputs": [
    {
     "data": {
      "text/html": [
       "<div>\n",
       "<style scoped>\n",
       "    .dataframe tbody tr th:only-of-type {\n",
       "        vertical-align: middle;\n",
       "    }\n",
       "\n",
       "    .dataframe tbody tr th {\n",
       "        vertical-align: top;\n",
       "    }\n",
       "\n",
       "    .dataframe thead th {\n",
       "        text-align: right;\n",
       "    }\n",
       "</style>\n",
       "<table border=\"1\" class=\"dataframe\">\n",
       "  <thead>\n",
       "    <tr style=\"text-align: right;\">\n",
       "      <th></th>\n",
       "      <th>EXT_Density_climate</th>\n",
       "      <th>RF_Density_climate</th>\n",
       "      <th>LGBM_Density_climate</th>\n",
       "      <th>XGB_Density_climate</th>\n",
       "      <th>True_Density</th>\n",
       "    </tr>\n",
       "  </thead>\n",
       "  <tbody>\n",
       "    <tr>\n",
       "      <th>3999061</th>\n",
       "      <td>0.211203</td>\n",
       "      <td>0.206897</td>\n",
       "      <td>0.204054</td>\n",
       "      <td>0.188300</td>\n",
       "      <td>0.190909</td>\n",
       "    </tr>\n",
       "    <tr>\n",
       "      <th>6799768</th>\n",
       "      <td>0.286014</td>\n",
       "      <td>0.285066</td>\n",
       "      <td>0.304897</td>\n",
       "      <td>0.298061</td>\n",
       "      <td>0.319048</td>\n",
       "    </tr>\n",
       "    <tr>\n",
       "      <th>6324785</th>\n",
       "      <td>0.221815</td>\n",
       "      <td>0.223069</td>\n",
       "      <td>0.231225</td>\n",
       "      <td>0.225484</td>\n",
       "      <td>0.209524</td>\n",
       "    </tr>\n",
       "    <tr>\n",
       "      <th>3223533</th>\n",
       "      <td>0.443653</td>\n",
       "      <td>0.446124</td>\n",
       "      <td>0.416292</td>\n",
       "      <td>0.452195</td>\n",
       "      <td>0.450649</td>\n",
       "    </tr>\n",
       "    <tr>\n",
       "      <th>5933277</th>\n",
       "      <td>0.267886</td>\n",
       "      <td>0.272453</td>\n",
       "      <td>0.265592</td>\n",
       "      <td>0.278727</td>\n",
       "      <td>0.273913</td>\n",
       "    </tr>\n",
       "  </tbody>\n",
       "</table>\n",
       "</div>"
      ],
      "text/plain": [
       "         EXT_Density_climate  RF_Density_climate  LGBM_Density_climate  \\\n",
       "3999061             0.211203            0.206897              0.204054   \n",
       "6799768             0.286014            0.285066              0.304897   \n",
       "6324785             0.221815            0.223069              0.231225   \n",
       "3223533             0.443653            0.446124              0.416292   \n",
       "5933277             0.267886            0.272453              0.265592   \n",
       "\n",
       "         XGB_Density_climate  True_Density  \n",
       "3999061             0.188300      0.190909  \n",
       "6799768             0.298061      0.319048  \n",
       "6324785             0.225484      0.209524  \n",
       "3223533             0.452195      0.450649  \n",
       "5933277             0.278727      0.273913  "
      ]
     },
     "execution_count": 77,
     "metadata": {},
     "output_type": "execute_result"
    }
   ],
   "source": [
    "climate_density_results=pd.DataFrame({\n",
    "    'EXT_Density_climate': y_pred_ext_climate,\n",
    "    'RF_Density_climate': y_pred_rf_climate,\n",
    "    'LGBM_Density_climate': y_pred_lgbm_climate,\n",
    "    'XGB_Density_climate': y_pred_xgb_climate,\n",
    "    'True_Density': y_test_climate.values\n",
    "}, index=climate_test.index)\n",
    "\n",
    "climate_density_results.head()"
   ]
  },
  {
   "cell_type": "code",
   "execution_count": 80,
   "metadata": {},
   "outputs": [
    {
     "data": {
      "text/html": [
       "<div>\n",
       "<style scoped>\n",
       "    .dataframe tbody tr th:only-of-type {\n",
       "        vertical-align: middle;\n",
       "    }\n",
       "\n",
       "    .dataframe tbody tr th {\n",
       "        vertical-align: top;\n",
       "    }\n",
       "\n",
       "    .dataframe thead th {\n",
       "        text-align: right;\n",
       "    }\n",
       "</style>\n",
       "<table border=\"1\" class=\"dataframe\">\n",
       "  <thead>\n",
       "    <tr style=\"text-align: right;\">\n",
       "      <th></th>\n",
       "      <th>True_SWE</th>\n",
       "      <th>EXT_SWE_climate</th>\n",
       "      <th>RF_SWE_climate</th>\n",
       "      <th>LGBM_SWE_climate</th>\n",
       "      <th>XGB_SWE_climate</th>\n",
       "    </tr>\n",
       "  </thead>\n",
       "  <tbody>\n",
       "    <tr>\n",
       "      <th>3999061</th>\n",
       "      <td>16.002</td>\n",
       "      <td>17.703037</td>\n",
       "      <td>17.342088</td>\n",
       "      <td>17.103823</td>\n",
       "      <td>15.783300</td>\n",
       "    </tr>\n",
       "    <tr>\n",
       "      <th>6799768</th>\n",
       "      <td>17.018</td>\n",
       "      <td>15.255989</td>\n",
       "      <td>15.205407</td>\n",
       "      <td>16.263220</td>\n",
       "      <td>15.898551</td>\n",
       "    </tr>\n",
       "    <tr>\n",
       "      <th>6324785</th>\n",
       "      <td>22.352</td>\n",
       "      <td>23.663232</td>\n",
       "      <td>23.796979</td>\n",
       "      <td>24.667089</td>\n",
       "      <td>24.054614</td>\n",
       "    </tr>\n",
       "    <tr>\n",
       "      <th>3223533</th>\n",
       "      <td>88.138</td>\n",
       "      <td>86.769575</td>\n",
       "      <td>87.252916</td>\n",
       "      <td>81.418468</td>\n",
       "      <td>88.440389</td>\n",
       "    </tr>\n",
       "    <tr>\n",
       "      <th>5933277</th>\n",
       "      <td>16.002</td>\n",
       "      <td>15.649891</td>\n",
       "      <td>15.916689</td>\n",
       "      <td>15.515871</td>\n",
       "      <td>16.283207</td>\n",
       "    </tr>\n",
       "  </tbody>\n",
       "</table>\n",
       "</div>"
      ],
      "text/plain": [
       "         True_SWE  EXT_SWE_climate  RF_SWE_climate  LGBM_SWE_climate  \\\n",
       "3999061    16.002        17.703037       17.342088         17.103823   \n",
       "6799768    17.018        15.255989       15.205407         16.263220   \n",
       "6324785    22.352        23.663232       23.796979         24.667089   \n",
       "3223533    88.138        86.769575       87.252916         81.418468   \n",
       "5933277    16.002        15.649891       15.916689         15.515871   \n",
       "\n",
       "         XGB_SWE_climate  \n",
       "3999061        15.783300  \n",
       "6799768        15.898551  \n",
       "6324785        24.054614  \n",
       "3223533        88.440389  \n",
       "5933277        16.283207  "
      ]
     },
     "execution_count": 80,
     "metadata": {},
     "output_type": "execute_result"
    }
   ],
   "source": [
    "climate_swe_results=pd.DataFrame({\n",
    "    'True_SWE': climate_test.SWE.values,\n",
    "    'EXT_SWE_climate': climate_density_results.EXT_Density_climate.values*X_test_climate.Snow_Depth.values,\n",
    "    'RF_SWE_climate': climate_density_results.RF_Density_climate.values*X_test_climate.Snow_Depth.values,\n",
    "    'LGBM_SWE_climate': climate_density_results.LGBM_Density_climate.values*X_test_climate.Snow_Depth.values,\n",
    "    'XGB_SWE_climate': climate_density_results.XGB_Density_climate.values*X_test_climate.Snow_Depth.values,\n",
    "}, index=climate_test.index)\n",
    "\n",
    "climate_swe_results.head()"
   ]
  },
  {
   "cell_type": "code",
   "execution_count": 81,
   "metadata": {},
   "outputs": [
    {
     "data": {
      "text/html": [
       "<div>\n",
       "<style scoped>\n",
       "    .dataframe tbody tr th:only-of-type {\n",
       "        vertical-align: middle;\n",
       "    }\n",
       "\n",
       "    .dataframe tbody tr th {\n",
       "        vertical-align: top;\n",
       "    }\n",
       "\n",
       "    .dataframe thead th {\n",
       "        text-align: right;\n",
       "    }\n",
       "</style>\n",
       "<table border=\"1\" class=\"dataframe\">\n",
       "  <thead>\n",
       "    <tr style=\"text-align: right;\">\n",
       "      <th></th>\n",
       "      <th>EXT_Density_climate</th>\n",
       "      <th>RF_Density_climate</th>\n",
       "      <th>LGBM_Density_climate</th>\n",
       "      <th>XGB_Density_climate</th>\n",
       "    </tr>\n",
       "  </thead>\n",
       "  <tbody>\n",
       "    <tr>\n",
       "      <th>RMSE</th>\n",
       "      <td>0.037842</td>\n",
       "      <td>0.036007</td>\n",
       "      <td>0.037948</td>\n",
       "      <td>0.032268</td>\n",
       "    </tr>\n",
       "    <tr>\n",
       "      <th>MBE</th>\n",
       "      <td>0.000386</td>\n",
       "      <td>0.000349</td>\n",
       "      <td>0.000109</td>\n",
       "      <td>0.000144</td>\n",
       "    </tr>\n",
       "    <tr>\n",
       "      <th>RSQ</th>\n",
       "      <td>0.830659</td>\n",
       "      <td>0.846687</td>\n",
       "      <td>0.829713</td>\n",
       "      <td>0.876874</td>\n",
       "    </tr>\n",
       "  </tbody>\n",
       "</table>\n",
       "</div>"
      ],
      "text/plain": [
       "      EXT_Density_climate  RF_Density_climate  LGBM_Density_climate  \\\n",
       "RMSE             0.037842            0.036007              0.037948   \n",
       "MBE              0.000386            0.000349              0.000109   \n",
       "RSQ              0.830659            0.846687              0.829713   \n",
       "\n",
       "      XGB_Density_climate  \n",
       "RMSE             0.032268  \n",
       "MBE              0.000144  \n",
       "RSQ              0.876874  "
      ]
     },
     "execution_count": 81,
     "metadata": {},
     "output_type": "execute_result"
    }
   ],
   "source": [
    "compare_multiple_models(climate_density_results, 'True_Density')"
   ]
  },
  {
   "cell_type": "code",
   "execution_count": 84,
   "metadata": {},
   "outputs": [
    {
     "data": {
      "text/html": [
       "<div>\n",
       "<style scoped>\n",
       "    .dataframe tbody tr th:only-of-type {\n",
       "        vertical-align: middle;\n",
       "    }\n",
       "\n",
       "    .dataframe tbody tr th {\n",
       "        vertical-align: top;\n",
       "    }\n",
       "\n",
       "    .dataframe thead th {\n",
       "        text-align: right;\n",
       "    }\n",
       "</style>\n",
       "<table border=\"1\" class=\"dataframe\">\n",
       "  <thead>\n",
       "    <tr style=\"text-align: right;\">\n",
       "      <th></th>\n",
       "      <th>EXT_SWE_climate</th>\n",
       "      <th>RF_SWE_climate</th>\n",
       "      <th>LGBM_SWE_climate</th>\n",
       "      <th>XGB_SWE_climate</th>\n",
       "    </tr>\n",
       "  </thead>\n",
       "  <tbody>\n",
       "    <tr>\n",
       "      <th>RMSE</th>\n",
       "      <td>3.429781</td>\n",
       "      <td>3.252548</td>\n",
       "      <td>3.463989</td>\n",
       "      <td>2.830543</td>\n",
       "    </tr>\n",
       "    <tr>\n",
       "      <th>MBE</th>\n",
       "      <td>0.024725</td>\n",
       "      <td>0.018747</td>\n",
       "      <td>0.006377</td>\n",
       "      <td>0.004460</td>\n",
       "    </tr>\n",
       "    <tr>\n",
       "      <th>RSQ</th>\n",
       "      <td>0.985151</td>\n",
       "      <td>0.986646</td>\n",
       "      <td>0.984854</td>\n",
       "      <td>0.989887</td>\n",
       "    </tr>\n",
       "  </tbody>\n",
       "</table>\n",
       "</div>"
      ],
      "text/plain": [
       "      EXT_SWE_climate  RF_SWE_climate  LGBM_SWE_climate  XGB_SWE_climate\n",
       "RMSE         3.429781        3.252548          3.463989         2.830543\n",
       "MBE          0.024725        0.018747          0.006377         0.004460\n",
       "RSQ          0.985151        0.986646          0.984854         0.989887"
      ]
     },
     "execution_count": 84,
     "metadata": {},
     "output_type": "execute_result"
    }
   ],
   "source": [
    "compare_multiple_models(climate_swe_results, 'True_SWE')"
   ]
  },
  {
   "cell_type": "markdown",
   "metadata": {},
   "source": [
    "### XGBoost Wins!\n",
    "\n",
    "We'll save the model weights and encoder for later use."
   ]
  },
  {
   "cell_type": "code",
   "execution_count": 86,
   "metadata": {},
   "outputs": [],
   "source": [
    "if not os.path.exists('../ML_weights'):\n",
    "    os.makedirs('../ML_weights')\n",
    "else:\n",
    "    print('Folder already exists')"
   ]
  },
  {
   "cell_type": "code",
   "execution_count": 87,
   "metadata": {},
   "outputs": [],
   "source": [
    "xgb_main.save_model(\"../ML_weights/main_density_model.ubj\") # Non climate\n",
    "xgb_climate.save_model(\"../ML_weights/climate_density_model.ubj\") # Climate Enhanced"
   ]
  },
  {
   "cell_type": "code",
   "execution_count": 92,
   "metadata": {},
   "outputs": [],
   "source": [
    "# Save the encoders to a file\n",
    "with open('../ML_weights/encoder_climate.pkl', 'wb') as f:\n",
    "    pickle.dump(encoder_climate, f)\n",
    "\n",
    "with open('../ML_weights/encoder.pkl', 'wb') as f:\n",
    "    pickle.dump(encoder, f)"
   ]
  },
  {
   "cell_type": "markdown",
   "metadata": {},
   "source": [
    "### Store Predictions"
   ]
  },
  {
   "cell_type": "code",
   "execution_count": 90,
   "metadata": {},
   "outputs": [],
   "source": [
    "main_model_results.drop('True_Density', axis=1).to_parquet('../results/density/ML_models_predictions_baseline.parquet', index=False, compression='gzip')\n",
    "main_model_swe_results.drop('True_SWE', axis=1).to_parquet('../results/swe/ML_models_predictions_baseline.parquet', index=False, compression='gzip')"
   ]
  },
  {
   "cell_type": "code",
   "execution_count": 91,
   "metadata": {},
   "outputs": [],
   "source": [
    "climate_density_results.drop('True_Density', axis=1).to_parquet('../results/density/ML_models_predictions_climate.parquet', index=True, compression='gzip')\n",
    "climate_swe_results.drop('True_SWE', axis=1).to_parquet('../results/swe/ML_models_predictions_climate.parquet', index=True, compression='gzip')"
   ]
  },
  {
   "cell_type": "markdown",
   "metadata": {},
   "source": [
    "# The End!"
   ]
  }
 ],
 "metadata": {
  "kernelspec": {
   "display_name": "ml_density_env",
   "language": "python",
   "name": "python3"
  },
  "language_info": {
   "codemirror_mode": {
    "name": "ipython",
    "version": 3
   },
   "file_extension": ".py",
   "mimetype": "text/x-python",
   "name": "python",
   "nbconvert_exporter": "python",
   "pygments_lexer": "ipython3",
   "version": "3.11.5"
  }
 },
 "nbformat": 4,
 "nbformat_minor": 2
}
