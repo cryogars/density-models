{
 "cells": [
  {
   "cell_type": "markdown",
   "metadata": {},
   "source": [
    "## Setup\n",
    "\n",
    "Load libraries"
   ]
  },
  {
   "cell_type": "code",
   "execution_count": 1,
   "metadata": {},
   "outputs": [],
   "source": [
    "import sys\n",
    "\n",
    "sys.path.append('..')"
   ]
  },
  {
   "cell_type": "code",
   "execution_count": 2,
   "metadata": {},
   "outputs": [
    {
     "name": "stderr",
     "output_type": "stream",
     "text": [
      "/home/habeeb/miniconda3/envs/ml_density_env/lib/python3.11/site-packages/torch/cuda/__init__.py:182: UserWarning: CUDA initialization: CUDA unknown error - this may be due to an incorrectly set up environment, e.g. changing env variable CUDA_VISIBLE_DEVICES after program start. Setting the available devices to be zero. (Triggered internally at /pytorch/c10/cuda/CUDAFunctions.cpp:109.)\n",
      "  return torch._C._cuda_getDeviceCount() > 0\n"
     ]
    }
   ],
   "source": [
    "import os\n",
    "import pickle\n",
    "from snowmodels.swe import HillSWE\n",
    "from snowmodels.density import SturmDensity, JonasDensity, PistochiDensity "
   ]
  },
  {
   "cell_type": "markdown",
   "metadata": {},
   "source": [
    "## Load Dataset"
   ]
  },
  {
   "cell_type": "code",
   "execution_count": 3,
   "metadata": {},
   "outputs": [],
   "source": [
    "with open('../data/data_splits.pkl', 'rb') as f:\n",
    "    data_splits = pickle.load(f)"
   ]
  },
  {
   "cell_type": "markdown",
   "metadata": {},
   "source": [
    "## Statistical Models"
   ]
  },
  {
   "cell_type": "markdown",
   "metadata": {},
   "source": [
    "### Density Prediction (Test Set)"
   ]
  },
  {
   "cell_type": "code",
   "execution_count": 4,
   "metadata": {},
   "outputs": [
    {
     "data": {
      "text/plain": [
       "0          0.308333\n",
       "1          0.264286\n",
       "2          0.300000\n",
       "3          0.300000\n",
       "4          0.278571\n",
       "             ...   \n",
       "2713944    0.300000\n",
       "2713945    0.300000\n",
       "2713946    0.300000\n",
       "2713947    0.300000\n",
       "2713948    0.300000\n",
       "Name: Snow_Density, Length: 534818, dtype: float64"
      ]
     },
     "execution_count": 4,
     "metadata": {},
     "output_type": "execute_result"
    }
   ],
   "source": [
    "data_splits.y_test"
   ]
  },
  {
   "cell_type": "code",
   "execution_count": 5,
   "metadata": {},
   "outputs": [
    {
     "data": {
      "text/html": [
       "<div>\n",
       "<style scoped>\n",
       "    .dataframe tbody tr th:only-of-type {\n",
       "        vertical-align: middle;\n",
       "    }\n",
       "\n",
       "    .dataframe tbody tr th {\n",
       "        vertical-align: top;\n",
       "    }\n",
       "\n",
       "    .dataframe thead th {\n",
       "        text-align: right;\n",
       "    }\n",
       "</style>\n",
       "<table border=\"1\" class=\"dataframe\">\n",
       "  <thead>\n",
       "    <tr style=\"text-align: right;\">\n",
       "      <th></th>\n",
       "      <th>Snow_Class</th>\n",
       "      <th>Observed_Density</th>\n",
       "      <th>Jonas_Density</th>\n",
       "      <th>Pistochi_Density</th>\n",
       "      <th>Sturm_Density</th>\n",
       "    </tr>\n",
       "  </thead>\n",
       "  <tbody>\n",
       "    <tr>\n",
       "      <th>0</th>\n",
       "      <td>Prairie</td>\n",
       "      <td>0.308333</td>\n",
       "      <td>0.222326</td>\n",
       "      <td>0.323</td>\n",
       "      <td>0.251437</td>\n",
       "    </tr>\n",
       "    <tr>\n",
       "      <th>1</th>\n",
       "      <td>Prairie</td>\n",
       "      <td>0.264286</td>\n",
       "      <td>0.224713</td>\n",
       "      <td>0.324</td>\n",
       "      <td>0.255262</td>\n",
       "    </tr>\n",
       "    <tr>\n",
       "      <th>2</th>\n",
       "      <td>Prairie</td>\n",
       "      <td>0.300000</td>\n",
       "      <td>0.223519</td>\n",
       "      <td>0.325</td>\n",
       "      <td>0.254935</td>\n",
       "    </tr>\n",
       "    <tr>\n",
       "      <th>3</th>\n",
       "      <td>Prairie</td>\n",
       "      <td>0.300000</td>\n",
       "      <td>0.223519</td>\n",
       "      <td>0.326</td>\n",
       "      <td>0.255984</td>\n",
       "    </tr>\n",
       "    <tr>\n",
       "      <th>4</th>\n",
       "      <td>Prairie</td>\n",
       "      <td>0.278571</td>\n",
       "      <td>0.224713</td>\n",
       "      <td>0.327</td>\n",
       "      <td>0.258397</td>\n",
       "    </tr>\n",
       "  </tbody>\n",
       "</table>\n",
       "</div>"
      ],
      "text/plain": [
       "  Snow_Class  Observed_Density  Jonas_Density  Pistochi_Density  Sturm_Density\n",
       "0    Prairie          0.308333       0.222326             0.323       0.251437\n",
       "1    Prairie          0.264286       0.224713             0.324       0.255262\n",
       "2    Prairie          0.300000       0.223519             0.325       0.254935\n",
       "3    Prairie          0.300000       0.223519             0.326       0.255984\n",
       "4    Prairie          0.278571       0.224713             0.327       0.258397"
      ]
     },
     "execution_count": 5,
     "metadata": {},
     "output_type": "execute_result"
    }
   ],
   "source": [
    "density_results=(\n",
    "    data_splits.X_test\n",
    "    .assign(\n",
    "        Observed_Density=data_splits.y_test,\n",
    "        Jonas_Density=lambda x: x.loc[:, ('Snow_Depth', 'Date', 'Elevation')].apply(lambda y: JonasDensity().compute_density(snow_depth=y.Snow_Depth*0.01, month=y.Date.month_name(), elevation= y.Elevation), axis=1),\n",
    "        Pistochi_Density=lambda x: x.loc[:, 'Pistochi_DOWY'].apply(lambda y: PistochiDensity().compute_density(DOY=y)),\n",
    "        Sturm_Density=lambda x: x.loc[:, ('Snow_Depth', 'Sturm_DOWY', 'Snow_Class')].apply(lambda y: SturmDensity().compute_density(snow_depth=y.Snow_Depth, DOY=y.Sturm_DOWY, snow_class= y.Snow_Class), axis=1) \n",
    "    )\n",
    "    .filter(items=['Snow_Class', 'Observed_Density', 'Jonas_Density', 'Pistochi_Density', 'Sturm_Density'])\n",
    "    .reset_index(drop=True)\n",
    ")\n",
    "\n",
    "density_results.head()"
   ]
  },
  {
   "cell_type": "markdown",
   "metadata": {},
   "source": [
    "### SWE Prediction (Test Set)"
   ]
  },
  {
   "cell_type": "code",
   "execution_count": 6,
   "metadata": {},
   "outputs": [
    {
     "data": {
      "text/html": [
       "<div>\n",
       "<style scoped>\n",
       "    .dataframe tbody tr th:only-of-type {\n",
       "        vertical-align: middle;\n",
       "    }\n",
       "\n",
       "    .dataframe tbody tr th {\n",
       "        vertical-align: top;\n",
       "    }\n",
       "\n",
       "    .dataframe thead th {\n",
       "        text-align: right;\n",
       "    }\n",
       "</style>\n",
       "<table border=\"1\" class=\"dataframe\">\n",
       "  <thead>\n",
       "    <tr style=\"text-align: right;\">\n",
       "      <th></th>\n",
       "      <th>Snow_Class</th>\n",
       "      <th>Observed_SWE</th>\n",
       "      <th>Jonas_SWE</th>\n",
       "      <th>Sturm_SWE</th>\n",
       "      <th>Pistochi_SWE</th>\n",
       "      <th>Hill_SWE</th>\n",
       "    </tr>\n",
       "  </thead>\n",
       "  <tbody>\n",
       "    <tr>\n",
       "      <th>0</th>\n",
       "      <td>Prairie</td>\n",
       "      <td>9.398</td>\n",
       "      <td>6.776484</td>\n",
       "      <td>7.663798</td>\n",
       "      <td>9.84504</td>\n",
       "      <td>NaN</td>\n",
       "    </tr>\n",
       "    <tr>\n",
       "      <th>1</th>\n",
       "      <td>Prairie</td>\n",
       "      <td>9.398</td>\n",
       "      <td>7.990801</td>\n",
       "      <td>9.077107</td>\n",
       "      <td>11.52144</td>\n",
       "      <td>NaN</td>\n",
       "    </tr>\n",
       "    <tr>\n",
       "      <th>2</th>\n",
       "      <td>Prairie</td>\n",
       "      <td>9.906</td>\n",
       "      <td>7.380611</td>\n",
       "      <td>8.417954</td>\n",
       "      <td>10.73150</td>\n",
       "      <td>NaN</td>\n",
       "    </tr>\n",
       "    <tr>\n",
       "      <th>3</th>\n",
       "      <td>Prairie</td>\n",
       "      <td>9.906</td>\n",
       "      <td>7.380611</td>\n",
       "      <td>8.452608</td>\n",
       "      <td>10.76452</td>\n",
       "      <td>NaN</td>\n",
       "    </tr>\n",
       "    <tr>\n",
       "      <th>4</th>\n",
       "      <td>Prairie</td>\n",
       "      <td>9.906</td>\n",
       "      <td>7.990801</td>\n",
       "      <td>9.188611</td>\n",
       "      <td>11.62812</td>\n",
       "      <td>NaN</td>\n",
       "    </tr>\n",
       "  </tbody>\n",
       "</table>\n",
       "</div>"
      ],
      "text/plain": [
       "  Snow_Class  Observed_SWE  Jonas_SWE  Sturm_SWE  Pistochi_SWE  Hill_SWE\n",
       "0    Prairie         9.398   6.776484   7.663798       9.84504       NaN\n",
       "1    Prairie         9.398   7.990801   9.077107      11.52144       NaN\n",
       "2    Prairie         9.906   7.380611   8.417954      10.73150       NaN\n",
       "3    Prairie         9.906   7.380611   8.452608      10.76452       NaN\n",
       "4    Prairie         9.906   7.990801   9.188611      11.62812       NaN"
      ]
     },
     "execution_count": 6,
     "metadata": {},
     "output_type": "execute_result"
    }
   ],
   "source": [
    "swe_results=(\n",
    "    density_results\n",
    "    .assign(\n",
    "        Observed_SWE=data_splits.X_test.reset_index().SWE,\n",
    "        Snow_Depth=data_splits.X_test.reset_index().Snow_Depth,\n",
    "        Jonas_SWE=lambda x: x.Jonas_Density * x.Snow_Depth,\n",
    "        Sturm_SWE=lambda x: x.Sturm_Density * x.Snow_Depth,\n",
    "        Pistochi_SWE=lambda x: x.Pistochi_Density * x.Snow_Depth,\n",
    "        Hill_SWE=data_splits.X_test.reset_index()[['PPTWT', 'Temp_Diff', 'DOWY', 'Snow_Depth']].apply(lambda x: HillSWE().compute_swe(pptwt=x.PPTWT, TD=x.Temp_Diff, DOY=x.DOWY, snow_depth=x.Snow_Depth*10), axis=1)\n",
    "    )\n",
    "    .drop(\n",
    "        columns=[\n",
    "            'Observed_Density', \n",
    "            'Jonas_Density', \n",
    "            'Pistochi_Density', \n",
    "            'Sturm_Density', \n",
    "            'Snow_Depth',\n",
    "        ]\n",
    "    )\n",
    ")\n",
    "\n",
    "swe_results.head()"
   ]
  },
  {
   "cell_type": "code",
   "execution_count": 7,
   "metadata": {},
   "outputs": [
    {
     "data": {
      "text/plain": [
       "(0.06596123378916076, 0.44704173149188375)"
      ]
     },
     "execution_count": 7,
     "metadata": {},
     "output_type": "execute_result"
    }
   ],
   "source": [
    "from sklearn.metrics import root_mean_squared_error, r2_score\n",
    "\n",
    "\n",
    "root_mean_squared_error(y_true=density_results.dropna().Observed_Density, y_pred=density_results.dropna().Jonas_Density), r2_score(y_true=density_results.dropna().Observed_Density, y_pred=density_results.dropna().Jonas_Density)"
   ]
  },
  {
   "cell_type": "markdown",
   "metadata": {},
   "source": [
    "## Store Predictions to File"
   ]
  },
  {
   "cell_type": "code",
   "execution_count": 8,
   "metadata": {},
   "outputs": [],
   "source": [
    "os.makedirs('../results', exist_ok=True)\n",
    "os.makedirs('../results/density', exist_ok=True)\n",
    "os.makedirs('../results/swe', exist_ok=True)\n",
    "\n",
    "density_results.to_parquet('../results/density/statistical_models_predictions.parquet', index=False, compression='gzip')\n",
    "swe_results.to_parquet('../results/swe/statistical_models_predictions.parquet', index=False, compression='gzip')"
   ]
  },
  {
   "cell_type": "markdown",
   "metadata": {},
   "source": [
    "## The End!"
   ]
  }
 ],
 "metadata": {
  "kernelspec": {
   "display_name": "ml_density_env",
   "language": "python",
   "name": "python3"
  },
  "language_info": {
   "codemirror_mode": {
    "name": "ipython",
    "version": 3
   },
   "file_extension": ".py",
   "mimetype": "text/x-python",
   "name": "python",
   "nbconvert_exporter": "python",
   "pygments_lexer": "ipython3",
   "version": "3.11.5"
  }
 },
 "nbformat": 4,
 "nbformat_minor": 2
}
