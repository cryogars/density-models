{
 "cells": [
  {
   "cell_type": "markdown",
   "metadata": {},
   "source": [
    "## Setup\n",
    "\n",
    "Load libraries:"
   ]
  },
  {
   "cell_type": "code",
   "execution_count": 7,
   "metadata": {},
   "outputs": [],
   "source": [
    "## General libraries\n",
    "import os\n",
    "import yaml\n",
    "import pickle\n",
    "import numpy as np\n",
    "import pandas as pd\n",
    "from matplotlib import pyplot as plt\n",
    "\n",
    "## ML libraries\n",
    "import xgboost as xgb\n",
    "import lightgbm as lgb\n",
    "from sklearn.ensemble import RandomForestRegressor, ExtraTreesRegressor\n",
    "\n",
    "## Local imports\n",
    "from snowmodels.utils import compare_multiple_models, ecnoder_preprocessor, load_data, model_variant_selector, load_config\n",
    "\n",
    "## Set XGBoost device\n",
    "xgb_device = \"cpu\""
   ]
  },
  {
   "cell_type": "markdown",
   "metadata": {},
   "source": [
    "## Density Estimation\n",
    "\n",
    "- Load and Process Data for ML"
   ]
  },
  {
   "cell_type": "code",
   "execution_count": 2,
   "metadata": {},
   "outputs": [],
   "source": [
    "raw_data=load_data('../data/data_splits.pkl', final_eval=True) # we set final eval to true to combine train and tune/val sets\n",
    "main_config = model_variant_selector(variant='main', data=raw_data) # set variant to main\n",
    "all_config = load_config(config_path='../experiments/hyperparameters.yaml') # loading all config just for the global config\n",
    "\n",
    "processed_data_cat_main=ecnoder_preprocessor(\n",
    "    encoder='target',\n",
    "    cfg=all_config.global_cfg,\n",
    "    data=main_config\n",
    ")\n",
    "\n",
    "# extract train and test sets \n",
    "X_train_main = processed_data_cat_main.x_train\n",
    "X_test_main = processed_data_cat_main.x_val\n",
    "y_train = processed_data_cat_main.y_train\n",
    "y_test = processed_data_cat_main.y_val"
   ]
  },
  {
   "cell_type": "markdown",
   "metadata": {},
   "source": [
    "### Training the ML Models\n",
    "\n",
    "- ExtraTrees\n",
    "\n",
    "Note that only the best config will uploaded on GitHub. However, all configs from the hyperparameter tuning can be found in `../experiments/optuna_studies.db` and `../experiments/optuna_studies_SWE.db`."
   ]
  },
  {
   "cell_type": "code",
   "execution_count": 3,
   "metadata": {},
   "outputs": [],
   "source": [
    "with open('../experiments/results/tune_new/extratrees_main_tune_target_20250902_232842.yaml', mode='r', encoding=\"utf-8\") as file:\n",
    "            raw_config = yaml.safe_load(file)\n",
    "\n",
    "ext_hyp_from_optuna = raw_config['performance']['hyperparameters']\n",
    "\n",
    "ext_trees_main=ExtraTreesRegressor(**ext_hyp_from_optuna, random_state=all_config.global_cfg.seed, n_jobs=all_config.global_cfg.n_jobs)\n",
    "\n",
    "ext_trees_main.fit(X_train_main, y_train)\n",
    "y_pred_ext_main = ext_trees_main.predict(X_test_main)"
   ]
  },
  {
   "cell_type": "markdown",
   "metadata": {},
   "source": [
    "- Random Forest"
   ]
  },
  {
   "cell_type": "code",
   "execution_count": 4,
   "metadata": {},
   "outputs": [],
   "source": [
    "with open('../experiments/results/tune_new/rf_main_tune_target_20250902_232842.yaml', mode='r', encoding=\"utf-8\") as file:\n",
    "            raw_config = yaml.safe_load(file)\n",
    "\n",
    "rf_hyp_from_optuna = raw_config['performance']['hyperparameters']\n",
    "\n",
    "\n",
    "rf_trees_main=RandomForestRegressor(**rf_hyp_from_optuna, random_state=all_config.global_cfg.seed, n_jobs=all_config.global_cfg.n_jobs)\n",
    "\n",
    "rf_trees_main.fit(X_train_main, y_train)\n",
    "y_pred_rf_main = rf_trees_main.predict(X_test_main)"
   ]
  },
  {
   "cell_type": "markdown",
   "metadata": {},
   "source": [
    "- Light Gradient Boosting"
   ]
  },
  {
   "cell_type": "code",
   "execution_count": 5,
   "metadata": {},
   "outputs": [],
   "source": [
    "with open('../experiments/results/tune_new/lightgbm_main_tune_target_20250902_200431.yaml', mode='r', encoding=\"utf-8\") as file:\n",
    "            raw_config = yaml.safe_load(file)\n",
    "\n",
    "default_params= {\n",
    "    'objective': 'regression',\n",
    "    'metric': 'rmse',\n",
    "    'random_state': all_config.global_cfg.seed,\n",
    "    \"force_col_wise\": True,\n",
    "    \"verbosity\": all_config.global_cfg.verbosity,\n",
    "    \"deterministic\": True\n",
    "}\n",
    "\n",
    "params_from_optuna = raw_config['performance']['hyperparameters']\n",
    "params_from_optuna.update(default_params)\n",
    "\n",
    "train_data = lgb.Dataset(X_train_main, label=y_train)\n",
    "\n",
    "lgbm_main = lgb.train(\n",
    "    params_from_optuna,\n",
    "    train_data,\n",
    "    num_boost_round=raw_config['performance']['metrics']['best_iteration'] # best iteration from Optuna\n",
    ")\n",
    "\n",
    "y_pred_lgbm_main = lgbm_main.predict(X_test_main)"
   ]
  },
  {
   "cell_type": "markdown",
   "metadata": {},
   "source": [
    "- XGBoost"
   ]
  },
  {
   "cell_type": "code",
   "execution_count": 9,
   "metadata": {},
   "outputs": [],
   "source": [
    "with open('../experiments/results/tune_new/xgboost_main_tune_target_20250902_200431.yaml', mode='r', encoding=\"utf-8\") as file:\n",
    "            raw_config = yaml.safe_load(file)\n",
    "\n",
    "sampling_method = \"gradient_based\" if xgb_device == \"cuda\" else \"uniform\"\n",
    "\n",
    "default_params_xgb = {\n",
    "    \"objective\": \"reg:squarederror\",\n",
    "    \"seed\": all_config.global_cfg.seed,\n",
    "    \"tree_method\": \"hist\",\n",
    "    \"device\": xgb_device,\n",
    "    \"verbosity\": 0,\n",
    "    \"sampling_method\": sampling_method\n",
    "}\n",
    "\n",
    "\n",
    "xgb_params_from_optuna=raw_config['performance']['hyperparameters']\n",
    "xgb_params_from_optuna.update(default_params_xgb)\n",
    "\n",
    "dtrain = xgb.DMatrix(X_train_main, label=y_train)\n",
    "dtest = xgb.DMatrix(X_test_main)\n",
    "\n",
    "xgb_main = xgb.train(\n",
    "    xgb_params_from_optuna,\n",
    "    dtrain,\n",
    "    num_boost_round=raw_config['performance']['metrics']['best_iteration'], \n",
    ")\n",
    "\n",
    "y_pred_xgb_main = xgb_main.predict(dtest)"
   ]
  },
  {
   "cell_type": "markdown",
   "metadata": {},
   "source": [
    "## Adding Climatology\n",
    "\n",
    "- Extra Trees"
   ]
  },
  {
   "cell_type": "code",
   "execution_count": null,
   "metadata": {},
   "outputs": [],
   "source": []
  },
  {
   "cell_type": "code",
   "execution_count": null,
   "metadata": {},
   "outputs": [],
   "source": []
  },
  {
   "cell_type": "code",
   "execution_count": null,
   "metadata": {},
   "outputs": [],
   "source": []
  },
  {
   "cell_type": "code",
   "execution_count": null,
   "metadata": {},
   "outputs": [],
   "source": [
    "raw_data=load_data('../data/data_splits_SWE.pkl', final_eval=True) # raw_data\n",
    "main_config = model_variant_selector(variant='main', data=raw_data) # main configuration\n",
    "all_config = load_config(config_path='../experiments/hyperparameters.yaml') # all configuration\n",
    "\n",
    "processed_data_cat_main=ecnoder_preprocessor(\n",
    "    encoder='target',\n",
    "    cfg=all_config.global_cfg,\n",
    "    data=main_config\n",
    ")\n",
    "\n",
    "X_train_main = processed_data_cat_main.x_train\n",
    "X_test_main = processed_data_cat_main.x_val\n",
    "y_train = processed_data_cat_main.y_train\n",
    "y_test = processed_data_cat_main.y_val"
   ]
  },
  {
   "cell_type": "code",
   "execution_count": 3,
   "metadata": {},
   "outputs": [],
   "source": [
    "with open('../experiments/results/tune_SWE/lightgbm_main_tune_target_20250908_135834.yaml', mode='r', encoding=\"utf-8\") as file:\n",
    "            raw_config = yaml.safe_load(file)\n",
    "\n",
    "default_params= {\n",
    "    'objective': 'regression',\n",
    "    'metric': 'rmse',\n",
    "    'random_state': all_config.global_cfg.seed,\n",
    "    \"force_col_wise\": True,\n",
    "    \"verbosity\": all_config.global_cfg.verbosity,\n",
    "    \"deterministic\": True\n",
    "}\n",
    "\n",
    "params_from_optuna = raw_config['performance']['hyperparameters']\n",
    "params_from_optuna.update(default_params)\n",
    "\n",
    "train_data = lgb.Dataset(X_train_main, label=y_train)\n",
    "\n",
    "lgbm_main = lgb.train(\n",
    "    params_from_optuna,\n",
    "    train_data,\n",
    "    num_boost_round=raw_config['performance']['metrics']['best_iteration'] # best iteration from Optuna\n",
    ")\n",
    "\n",
    "y_pred_lgbm_main = lgbm_main.predict(X_test_main)"
   ]
  },
  {
   "cell_type": "code",
   "execution_count": 5,
   "metadata": {},
   "outputs": [
    {
     "data": {
      "text/plain": [
       "(534818,)"
      ]
     },
     "execution_count": 5,
     "metadata": {},
     "output_type": "execute_result"
    }
   ],
   "source": [
    "y_pred_lgbm_main.shape"
   ]
  },
  {
   "cell_type": "code",
   "execution_count": null,
   "metadata": {},
   "outputs": [],
   "source": [
    "pd.DataFrame(y_pred_lgbm_main, columns=['Direct_SWE']).to_parquet('../results/swe/ML_models_predictions_baseline.parquet', index=False, compression='gzip')"
   ]
  },
  {
   "cell_type": "code",
   "execution_count": 6,
   "metadata": {},
   "outputs": [
    {
     "name": "stdout",
     "output_type": "stream",
     "text": [
      "RMSE: 5.668603169521017\n",
      "RMSE: 0.9620212276268421\n"
     ]
    }
   ],
   "source": [
    "from sklearn.metrics import root_mean_squared_error as rmse, r2_score\n",
    "\n",
    "\n",
    "print(f\"RMSE: {rmse(y_true=y_test, y_pred=y_pred_lgbm_main)}\")\n",
    "print(f\"RMSE: {r2_score(y_true=y_test, y_pred=y_pred_lgbm_main)}\")"
   ]
  },
  {
   "cell_type": "code",
   "execution_count": 7,
   "metadata": {},
   "outputs": [
    {
     "data": {
      "text/plain": [
       "0.047451669595781995"
      ]
     },
     "execution_count": 7,
     "metadata": {},
     "output_type": "execute_result"
    }
   ],
   "source": [
    "(5.67 - 5.40)/5.69"
   ]
  },
  {
   "cell_type": "code",
   "execution_count": 10,
   "metadata": {},
   "outputs": [
    {
     "data": {
      "text/plain": [
       "0.048530501358359956"
      ]
     },
     "execution_count": 10,
     "metadata": {},
     "output_type": "execute_result"
    }
   ],
   "source": [
    "(5.6686 - 5.3935)/5.6686"
   ]
  },
  {
   "cell_type": "code",
   "execution_count": 9,
   "metadata": {},
   "outputs": [
    {
     "name": "stdout",
     "output_type": "stream",
     "text": [
      "RMSE: 5.266798496719169\n",
      "RMSE: 0.9672144693148189\n"
     ]
    }
   ],
   "source": [
    "raw_data=load_data('../data/data_splits_SWE.pkl', final_eval=True)\n",
    "main_config = model_variant_selector(variant='climate_7d', data=raw_data)\n",
    "all_config = load_config(config_path='../experiments/hyperparameters.yaml')\n",
    "\n",
    "processed_data_cat_main=ecnoder_preprocessor(\n",
    "    encoder='target',\n",
    "    cfg=all_config.global_cfg,\n",
    "    data=main_config\n",
    ")\n",
    "\n",
    "\n",
    "X_train_main = processed_data_cat_main.x_train\n",
    "X_test_main = processed_data_cat_main.x_val\n",
    "y_train = processed_data_cat_main.y_train\n",
    "y_test = processed_data_cat_main.y_val\n",
    "\n",
    "with open('../experiments/results/tune_SWE/lightgbm_climate_7d_tune_target_20250908_135834.yaml', mode='r', encoding=\"utf-8\") as file:\n",
    "            raw_config = yaml.safe_load(file)\n",
    "\n",
    "default_params= {\n",
    "    'objective': 'regression',\n",
    "    'metric': 'rmse',\n",
    "    'random_state': all_config.global_cfg.seed,\n",
    "    \"force_col_wise\": True,\n",
    "    \"verbosity\": all_config.global_cfg.verbosity,\n",
    "    \"deterministic\": True\n",
    "}\n",
    "\n",
    "params_from_optuna = raw_config['performance']['hyperparameters']\n",
    "params_from_optuna.update(default_params)\n",
    "\n",
    "train_data = lgb.Dataset(X_train_main, label=y_train)\n",
    "\n",
    "lgbm_main = lgb.train(\n",
    "    params_from_optuna,\n",
    "    train_data,\n",
    "    num_boost_round=raw_config['performance']['metrics']['best_iteration'] # best iteration from Optuna\n",
    ")\n",
    "\n",
    "y_pred_lgbm_main = lgbm_main.predict(X_test_main)\n",
    "\n",
    "print(f\"RMSE: {rmse(y_true=y_test, y_pred=y_pred_lgbm_main)}\")\n",
    "print(f\"RMSE: {r2_score(y_true=y_test, y_pred=y_pred_lgbm_main)}\")"
   ]
  },
  {
   "cell_type": "code",
   "execution_count": 11,
   "metadata": {},
   "outputs": [
    {
     "data": {
      "text/plain": [
       "0.04524568998253204"
      ]
     },
     "execution_count": 11,
     "metadata": {},
     "output_type": "execute_result"
    }
   ],
   "source": [
    "(5.2668 - 5.0285)/5.2668"
   ]
  },
  {
   "cell_type": "markdown",
   "metadata": {},
   "source": [
    "## Load Dataset"
   ]
  },
  {
   "cell_type": "code",
   "execution_count": 3,
   "metadata": {},
   "outputs": [],
   "source": [
    "raw_data=load_data('../data/data_splits.pkl', final_eval=True)\n",
    "main_config = model_variant_selector(variant='main', data=raw_data)\n",
    "all_config = load_config(config_path='../experiments/hyperparameters.yaml')\n",
    "\n",
    "processed_data_cat_main=ecnoder_preprocessor(\n",
    "    encoder='target',\n",
    "    cfg=all_config.global_cfg,\n",
    "    data=main_config\n",
    ")\n",
    "\n",
    "\n",
    "X_train_main = processed_data_cat_main.x_train\n",
    "X_test_main = processed_data_cat_main.x_val\n",
    "y_train = processed_data_cat_main.y_train\n",
    "y_test = processed_data_cat_main.y_val"
   ]
  },
  {
   "cell_type": "markdown",
   "metadata": {},
   "source": [
    "### Extra Trees"
   ]
  },
  {
   "cell_type": "code",
   "execution_count": 4,
   "metadata": {},
   "outputs": [],
   "source": [
    "with open('../experiments/results/tune_new/extratrees_main_tune_target_20250902_232842.yaml', mode='r', encoding=\"utf-8\") as file:\n",
    "            raw_config = yaml.safe_load(file)\n",
    "\n",
    "ext_hyp_from_optuna = raw_config['performance']['hyperparameters']\n",
    "\n",
    "\n",
    "ext_trees_main=ExtraTreesRegressor(**ext_hyp_from_optuna, random_state=all_config.global_cfg.seed, n_jobs=all_config.global_cfg.n_jobs)\n",
    "\n",
    "ext_trees_main.fit(X_train_main, y_train)\n",
    "y_pred_ext_main = ext_trees_main.predict(X_test_main)"
   ]
  },
  {
   "cell_type": "code",
   "execution_count": 84,
   "metadata": {},
   "outputs": [
    {
     "data": {
      "text/plain": [
       "Index(['Elevation', 'Snow_Depth', 'DOWY', 'Latitude', 'Longitude',\n",
       "       'Snow_Class'],\n",
       "      dtype='object')"
      ]
     },
     "execution_count": 84,
     "metadata": {},
     "output_type": "execute_result"
    }
   ],
   "source": [
    "X_train_main.columns"
   ]
  },
  {
   "cell_type": "markdown",
   "metadata": {},
   "source": [
    "### Random Forest"
   ]
  },
  {
   "cell_type": "code",
   "execution_count": 5,
   "metadata": {},
   "outputs": [],
   "source": [
    "with open('../experiments/results/tune_new/rf_main_tune_target_20250902_232842.yaml', mode='r', encoding=\"utf-8\") as file:\n",
    "            raw_config = yaml.safe_load(file)\n",
    "\n",
    "rf_hyp_from_optuna = raw_config['performance']['hyperparameters']\n",
    "\n",
    "\n",
    "rf_trees_main=RandomForestRegressor(**rf_hyp_from_optuna, random_state=all_config.global_cfg.seed, n_jobs=all_config.global_cfg.n_jobs)\n",
    "\n",
    "rf_trees_main.fit(X_train_main, y_train)\n",
    "y_pred_rf_main = rf_trees_main.predict(X_test_main)"
   ]
  },
  {
   "cell_type": "markdown",
   "metadata": {},
   "source": [
    "### LightGBM"
   ]
  },
  {
   "cell_type": "code",
   "execution_count": 66,
   "metadata": {},
   "outputs": [],
   "source": [
    "with open('../experiments/results/tune_new/lightgbm_main_tune_target_20250902_200431.yaml', mode='r', encoding=\"utf-8\") as file:\n",
    "            raw_config = yaml.safe_load(file)\n",
    "\n",
    "default_params= {\n",
    "    'objective': 'regression',\n",
    "    'metric': 'rmse',\n",
    "    'random_state': all_config.global_cfg.seed,\n",
    "    \"force_col_wise\": True,\n",
    "    \"verbosity\": all_config.global_cfg.verbosity,\n",
    "    \"deterministic\": True\n",
    "}\n",
    "\n",
    "params_from_optuna = raw_config['performance']['hyperparameters']\n",
    "params_from_optuna.update(default_params)\n",
    "\n",
    "train_data = lgb.Dataset(X_train_main, label=y_train)\n",
    "\n",
    "lgbm_main = lgb.train(\n",
    "    params_from_optuna,\n",
    "    train_data,\n",
    "    num_boost_round=raw_config['performance']['metrics']['best_iteration'] # best iteration from Optuna\n",
    ")\n",
    "\n",
    "y_pred_lgbm_main = lgbm_main.predict(X_test_main)"
   ]
  },
  {
   "cell_type": "code",
   "execution_count": 70,
   "metadata": {},
   "outputs": [
    {
     "data": {
      "image/png": "[encoded data removed]",
      "text/plain": [
       "<Figure size 700x600 with 1 Axes>"
      ]
     },
     "metadata": {},
     "output_type": "display_data"
    }
   ],
   "source": [
    "from matplotlib import pyplot as plt\n",
    "# Plot feature importance using Split\n",
    "lgb.plot_importance(lgbm_main, importance_type=\"gain\", figsize=(7,6), title=\"LightGBM Feature Importance (Gain)\")\n",
    "plt.show()"
   ]
  },
  {
   "cell_type": "code",
   "execution_count": 40,
   "metadata": {},
   "outputs": [
    {
     "data": {
      "image/png": "[encoded data removed]",
      "text/plain": [
       "<Figure size 700x600 with 1 Axes>"
      ]
     },
     "metadata": {},
     "output_type": "display_data"
    }
   ],
   "source": [
    "from matplotlib import pyplot as plt\n",
    "# Plot feature importance using Split\n",
    "lgb.plot_importance(lgbm_main, importance_type=\"gain\", figsize=(7,6), title=\"LightGBM Feature Importance (Gain)\")\n",
    "plt.show()"
   ]
  },
  {
   "cell_type": "code",
   "execution_count": 67,
   "metadata": {},
   "outputs": [],
   "source": [
    "import shap\n",
    "\n",
    "\n",
    "explainer = shap.TreeExplainer(lgbm_main)\n",
    "shap_values = explainer(X_test_main)"
   ]
  },
  {
   "cell_type": "code",
   "execution_count": 68,
   "metadata": {},
   "outputs": [
    {
     "data": {
      "text/html": [
       "<div>\n",
       "<style scoped>\n",
       "    .dataframe tbody tr th:only-of-type {\n",
       "        vertical-align: middle;\n",
       "    }\n",
       "\n",
       "    .dataframe tbody tr th {\n",
       "        vertical-align: top;\n",
       "    }\n",
       "\n",
       "    .dataframe thead th {\n",
       "        text-align: right;\n",
       "    }\n",
       "</style>\n",
       "<table border=\"1\" class=\"dataframe\">\n",
       "  <thead>\n",
       "    <tr style=\"text-align: right;\">\n",
       "      <th></th>\n",
       "      <th>Elevation</th>\n",
       "      <th>Snow Depth</th>\n",
       "      <th>DOWY</th>\n",
       "      <th>Latitude</th>\n",
       "      <th>Longitude</th>\n",
       "      <th>Snow Class</th>\n",
       "      <th>Raw_snow_class</th>\n",
       "    </tr>\n",
       "  </thead>\n",
       "  <tbody>\n",
       "    <tr>\n",
       "      <th>0</th>\n",
       "      <td>0.003626</td>\n",
       "      <td>0.000806</td>\n",
       "      <td>0.067875</td>\n",
       "      <td>0.001858</td>\n",
       "      <td>0.024820</td>\n",
       "      <td>0.006085</td>\n",
       "      <td>Prairie</td>\n",
       "    </tr>\n",
       "    <tr>\n",
       "      <th>1</th>\n",
       "      <td>0.003152</td>\n",
       "      <td>0.003325</td>\n",
       "      <td>0.065676</td>\n",
       "      <td>0.000443</td>\n",
       "      <td>0.024687</td>\n",
       "      <td>0.005729</td>\n",
       "      <td>Prairie</td>\n",
       "    </tr>\n",
       "    <tr>\n",
       "      <th>2</th>\n",
       "      <td>0.003751</td>\n",
       "      <td>0.001988</td>\n",
       "      <td>0.061057</td>\n",
       "      <td>0.000658</td>\n",
       "      <td>0.026601</td>\n",
       "      <td>0.005760</td>\n",
       "      <td>Prairie</td>\n",
       "    </tr>\n",
       "    <tr>\n",
       "      <th>3</th>\n",
       "      <td>0.003799</td>\n",
       "      <td>0.001797</td>\n",
       "      <td>0.058191</td>\n",
       "      <td>0.000507</td>\n",
       "      <td>0.027471</td>\n",
       "      <td>0.005566</td>\n",
       "      <td>Prairie</td>\n",
       "    </tr>\n",
       "    <tr>\n",
       "      <th>4</th>\n",
       "      <td>0.003438</td>\n",
       "      <td>0.002758</td>\n",
       "      <td>0.056389</td>\n",
       "      <td>0.001103</td>\n",
       "      <td>0.027722</td>\n",
       "      <td>0.005196</td>\n",
       "      <td>Prairie</td>\n",
       "    </tr>\n",
       "    <tr>\n",
       "      <th>...</th>\n",
       "      <td>...</td>\n",
       "      <td>...</td>\n",
       "      <td>...</td>\n",
       "      <td>...</td>\n",
       "      <td>...</td>\n",
       "      <td>...</td>\n",
       "      <td>...</td>\n",
       "    </tr>\n",
       "    <tr>\n",
       "      <th>534813</th>\n",
       "      <td>0.001756</td>\n",
       "      <td>0.006958</td>\n",
       "      <td>0.068474</td>\n",
       "      <td>0.002618</td>\n",
       "      <td>0.004834</td>\n",
       "      <td>0.007343</td>\n",
       "      <td>Prairie</td>\n",
       "    </tr>\n",
       "    <tr>\n",
       "      <th>534814</th>\n",
       "      <td>0.001756</td>\n",
       "      <td>0.006961</td>\n",
       "      <td>0.068460</td>\n",
       "      <td>0.002627</td>\n",
       "      <td>0.004843</td>\n",
       "      <td>0.007343</td>\n",
       "      <td>Prairie</td>\n",
       "    </tr>\n",
       "    <tr>\n",
       "      <th>534815</th>\n",
       "      <td>0.001789</td>\n",
       "      <td>0.006861</td>\n",
       "      <td>0.067963</td>\n",
       "      <td>0.002531</td>\n",
       "      <td>0.005179</td>\n",
       "      <td>0.007404</td>\n",
       "      <td>Prairie</td>\n",
       "    </tr>\n",
       "    <tr>\n",
       "      <th>534816</th>\n",
       "      <td>0.001789</td>\n",
       "      <td>0.006864</td>\n",
       "      <td>0.067913</td>\n",
       "      <td>0.002535</td>\n",
       "      <td>0.005179</td>\n",
       "      <td>0.007453</td>\n",
       "      <td>Prairie</td>\n",
       "    </tr>\n",
       "    <tr>\n",
       "      <th>534817</th>\n",
       "      <td>0.001790</td>\n",
       "      <td>0.006854</td>\n",
       "      <td>0.067853</td>\n",
       "      <td>0.002535</td>\n",
       "      <td>0.005192</td>\n",
       "      <td>0.007490</td>\n",
       "      <td>Prairie</td>\n",
       "    </tr>\n",
       "  </tbody>\n",
       "</table>\n",
       "<p>534818 rows × 7 columns</p>\n",
       "</div>"
      ],
      "text/plain": [
       "        Elevation  Snow Depth      DOWY  Latitude  Longitude  Snow Class  \\\n",
       "0        0.003626    0.000806  0.067875  0.001858   0.024820    0.006085   \n",
       "1        0.003152    0.003325  0.065676  0.000443   0.024687    0.005729   \n",
       "2        0.003751    0.001988  0.061057  0.000658   0.026601    0.005760   \n",
       "3        0.003799    0.001797  0.058191  0.000507   0.027471    0.005566   \n",
       "4        0.003438    0.002758  0.056389  0.001103   0.027722    0.005196   \n",
       "...           ...         ...       ...       ...        ...         ...   \n",
       "534813   0.001756    0.006958  0.068474  0.002618   0.004834    0.007343   \n",
       "534814   0.001756    0.006961  0.068460  0.002627   0.004843    0.007343   \n",
       "534815   0.001789    0.006861  0.067963  0.002531   0.005179    0.007404   \n",
       "534816   0.001789    0.006864  0.067913  0.002535   0.005179    0.007453   \n",
       "534817   0.001790    0.006854  0.067853  0.002535   0.005192    0.007490   \n",
       "\n",
       "       Raw_snow_class  \n",
       "0             Prairie  \n",
       "1             Prairie  \n",
       "2             Prairie  \n",
       "3             Prairie  \n",
       "4             Prairie  \n",
       "...               ...  \n",
       "534813        Prairie  \n",
       "534814        Prairie  \n",
       "534815        Prairie  \n",
       "534816        Prairie  \n",
       "534817        Prairie  \n",
       "\n",
       "[534818 rows x 7 columns]"
      ]
     },
     "execution_count": 68,
     "metadata": {},
     "output_type": "execute_result"
    }
   ],
   "source": [
    "shap_df=pd.DataFrame(abs(shap_values.values), columns=lgbm_main.feature_name())\n",
    "shap_df\n",
    "shap_df=shap_df.assign(Raw_snow_class = raw_data.x_val.Snow_Class.values)\n",
    "\n",
    "shap_df=shap_df.rename(columns={\n",
    "        'Snow_Class': 'Snow Class',\n",
    "        'Snow_Depth': 'Snow Depth',\n",
    "    })\n",
    "\n",
    "shap_df"
   ]
  },
  {
   "cell_type": "code",
   "execution_count": 69,
   "metadata": {},
   "outputs": [
    {
     "data": {
      "text/plain": [
       "DOWY          0.052164\n",
       "Snow Class    0.011241\n",
       "Snow Depth    0.011115\n",
       "Longitude     0.010083\n",
       "Latitude      0.006069\n",
       "Elevation     0.003332\n",
       "dtype: float64"
      ]
     },
     "execution_count": 69,
     "metadata": {},
     "output_type": "execute_result"
    }
   ],
   "source": [
    "shap_df.drop('Raw_snow_class', axis=1).mean().sort_values(ascending=False)"
   ]
  },
  {
   "cell_type": "code",
   "execution_count": 34,
   "metadata": {},
   "outputs": [],
   "source": [
    "import seaborn as sns"
   ]
  },
  {
   "cell_type": "code",
   "execution_count": 78,
   "metadata": {},
   "outputs": [
    {
     "data": {
      "image/png": "[encoded data removed]",
      "text/plain": [
       "<Figure size 1700x700 with 6 Axes>"
      ]
     },
     "metadata": {},
     "output_type": "display_data"
    }
   ],
   "source": [
    "fig, ax = plt.subplots(nrows=2, ncols=3, figsize=(17, 7))\n",
    "ax = ax.flatten()  # flatten the 2D array of axes into 1D\n",
    "\n",
    "for i, sc in enumerate(shap_df.Raw_snow_class.unique()):\n",
    "    current_class = (\n",
    "        shap_df.query(\"Raw_snow_class == @sc\")\n",
    "        .drop('Raw_snow_class', axis=1)\n",
    "        .mean()\n",
    "        .sort_values(ascending=False)\n",
    "        .to_frame()\n",
    "        .reset_index()\n",
    "        .rename(columns={'index': 'Feature', 0: 'Importance'})\n",
    "    )\n",
    "    \n",
    "    sns.barplot(x=\"Importance\", y=\"Feature\", data=current_class, ax=ax[i])\n",
    "    ax[i].set_title(f\"Snow class: {sc}\", fontsize=18)\n",
    "    ax[i].set_xlabel(\"SHAP $f_{MAIN}$\", fontsize=18)\n",
    "    ax[i].set_ylabel(\"Feature\", fontsize=18)\n",
    "    ax[i].tick_params(labelsize=10)\n",
    "\n",
    "plt.tight_layout()\n",
    "plt.savefig('../plots/shap_by_class.jpg', dpi=300, bbox_inches='tight')\n",
    "plt.show()\n"
   ]
  },
  {
   "cell_type": "code",
   "execution_count": null,
   "metadata": {},
   "outputs": [
    {
     "data": {
      "text/html": [
       "<div>\n",
       "<style scoped>\n",
       "    .dataframe tbody tr th:only-of-type {\n",
       "        vertical-align: middle;\n",
       "    }\n",
       "\n",
       "    .dataframe tbody tr th {\n",
       "        vertical-align: top;\n",
       "    }\n",
       "\n",
       "    .dataframe thead th {\n",
       "        text-align: right;\n",
       "    }\n",
       "</style>\n",
       "<table border=\"1\" class=\"dataframe\">\n",
       "  <thead>\n",
       "    <tr style=\"text-align: right;\">\n",
       "      <th></th>\n",
       "      <th>Feature</th>\n",
       "      <th>Importance</th>\n",
       "    </tr>\n",
       "  </thead>\n",
       "  <tbody>\n",
       "    <tr>\n",
       "      <th>0</th>\n",
       "      <td>DOWY</td>\n",
       "      <td>0.047447</td>\n",
       "    </tr>\n",
       "    <tr>\n",
       "      <th>1</th>\n",
       "      <td>Longitude</td>\n",
       "      <td>0.011445</td>\n",
       "    </tr>\n",
       "    <tr>\n",
       "      <th>2</th>\n",
       "      <td>Snow_Depth</td>\n",
       "      <td>0.011112</td>\n",
       "    </tr>\n",
       "    <tr>\n",
       "      <th>3</th>\n",
       "      <td>Snow_Class</td>\n",
       "      <td>0.005056</td>\n",
       "    </tr>\n",
       "    <tr>\n",
       "      <th>4</th>\n",
       "      <td>Elevation</td>\n",
       "      <td>0.003387</td>\n",
       "    </tr>\n",
       "    <tr>\n",
       "      <th>5</th>\n",
       "      <td>Latitude</td>\n",
       "      <td>0.002916</td>\n",
       "    </tr>\n",
       "  </tbody>\n",
       "</table>\n",
       "</div>"
      ],
      "text/plain": [
       "      Feature  Importance\n",
       "0        DOWY    0.047447\n",
       "1   Longitude    0.011445\n",
       "2  Snow_Depth    0.011112\n",
       "3  Snow_Class    0.005056\n",
       "4   Elevation    0.003387\n",
       "5    Latitude    0.002916"
      ]
     },
     "metadata": {},
     "output_type": "display_data"
    },
    {
     "data": {
      "text/html": [
       "<div>\n",
       "<style scoped>\n",
       "    .dataframe tbody tr th:only-of-type {\n",
       "        vertical-align: middle;\n",
       "    }\n",
       "\n",
       "    .dataframe tbody tr th {\n",
       "        vertical-align: top;\n",
       "    }\n",
       "\n",
       "    .dataframe thead th {\n",
       "        text-align: right;\n",
       "    }\n",
       "</style>\n",
       "<table border=\"1\" class=\"dataframe\">\n",
       "  <thead>\n",
       "    <tr style=\"text-align: right;\">\n",
       "      <th></th>\n",
       "      <th>Feature</th>\n",
       "      <th>Importance</th>\n",
       "    </tr>\n",
       "  </thead>\n",
       "  <tbody>\n",
       "    <tr>\n",
       "      <th>0</th>\n",
       "      <td>DOWY</td>\n",
       "      <td>0.052580</td>\n",
       "    </tr>\n",
       "    <tr>\n",
       "      <th>1</th>\n",
       "      <td>Snow_Depth</td>\n",
       "      <td>0.011603</td>\n",
       "    </tr>\n",
       "    <tr>\n",
       "      <th>2</th>\n",
       "      <td>Longitude</td>\n",
       "      <td>0.010219</td>\n",
       "    </tr>\n",
       "    <tr>\n",
       "      <th>3</th>\n",
       "      <td>Snow_Class</td>\n",
       "      <td>0.005207</td>\n",
       "    </tr>\n",
       "    <tr>\n",
       "      <th>4</th>\n",
       "      <td>Latitude</td>\n",
       "      <td>0.005080</td>\n",
       "    </tr>\n",
       "    <tr>\n",
       "      <th>5</th>\n",
       "      <td>Elevation</td>\n",
       "      <td>0.003451</td>\n",
       "    </tr>\n",
       "  </tbody>\n",
       "</table>\n",
       "</div>"
      ],
      "text/plain": [
       "      Feature  Importance\n",
       "0        DOWY    0.052580\n",
       "1  Snow_Depth    0.011603\n",
       "2   Longitude    0.010219\n",
       "3  Snow_Class    0.005207\n",
       "4    Latitude    0.005080\n",
       "5   Elevation    0.003451"
      ]
     },
     "metadata": {},
     "output_type": "display_data"
    },
    {
     "data": {
      "text/html": [
       "<div>\n",
       "<style scoped>\n",
       "    .dataframe tbody tr th:only-of-type {\n",
       "        vertical-align: middle;\n",
       "    }\n",
       "\n",
       "    .dataframe tbody tr th {\n",
       "        vertical-align: top;\n",
       "    }\n",
       "\n",
       "    .dataframe thead th {\n",
       "        text-align: right;\n",
       "    }\n",
       "</style>\n",
       "<table border=\"1\" class=\"dataframe\">\n",
       "  <thead>\n",
       "    <tr style=\"text-align: right;\">\n",
       "      <th></th>\n",
       "      <th>Feature</th>\n",
       "      <th>Importance</th>\n",
       "    </tr>\n",
       "  </thead>\n",
       "  <tbody>\n",
       "    <tr>\n",
       "      <th>0</th>\n",
       "      <td>DOWY</td>\n",
       "      <td>0.037518</td>\n",
       "    </tr>\n",
       "    <tr>\n",
       "      <th>1</th>\n",
       "      <td>Snow_Class</td>\n",
       "      <td>0.026664</td>\n",
       "    </tr>\n",
       "    <tr>\n",
       "      <th>2</th>\n",
       "      <td>Snow_Depth</td>\n",
       "      <td>0.014623</td>\n",
       "    </tr>\n",
       "    <tr>\n",
       "      <th>3</th>\n",
       "      <td>Longitude</td>\n",
       "      <td>0.013802</td>\n",
       "    </tr>\n",
       "    <tr>\n",
       "      <th>4</th>\n",
       "      <td>Latitude</td>\n",
       "      <td>0.005014</td>\n",
       "    </tr>\n",
       "    <tr>\n",
       "      <th>5</th>\n",
       "      <td>Elevation</td>\n",
       "      <td>0.002844</td>\n",
       "    </tr>\n",
       "  </tbody>\n",
       "</table>\n",
       "</div>"
      ],
      "text/plain": [
       "      Feature  Importance\n",
       "0        DOWY    0.037518\n",
       "1  Snow_Class    0.026664\n",
       "2  Snow_Depth    0.014623\n",
       "3   Longitude    0.013802\n",
       "4    Latitude    0.005014\n",
       "5   Elevation    0.002844"
      ]
     },
     "metadata": {},
     "output_type": "display_data"
    },
    {
     "data": {
      "text/html": [
       "<div>\n",
       "<style scoped>\n",
       "    .dataframe tbody tr th:only-of-type {\n",
       "        vertical-align: middle;\n",
       "    }\n",
       "\n",
       "    .dataframe tbody tr th {\n",
       "        vertical-align: top;\n",
       "    }\n",
       "\n",
       "    .dataframe thead th {\n",
       "        text-align: right;\n",
       "    }\n",
       "</style>\n",
       "<table border=\"1\" class=\"dataframe\">\n",
       "  <thead>\n",
       "    <tr style=\"text-align: right;\">\n",
       "      <th></th>\n",
       "      <th>Feature</th>\n",
       "      <th>Importance</th>\n",
       "    </tr>\n",
       "  </thead>\n",
       "  <tbody>\n",
       "    <tr>\n",
       "      <th>0</th>\n",
       "      <td>DOWY</td>\n",
       "      <td>0.054479</td>\n",
       "    </tr>\n",
       "    <tr>\n",
       "      <th>1</th>\n",
       "      <td>Snow_Class</td>\n",
       "      <td>0.036051</td>\n",
       "    </tr>\n",
       "    <tr>\n",
       "      <th>2</th>\n",
       "      <td>Longitude</td>\n",
       "      <td>0.012789</td>\n",
       "    </tr>\n",
       "    <tr>\n",
       "      <th>3</th>\n",
       "      <td>Snow_Depth</td>\n",
       "      <td>0.009000</td>\n",
       "    </tr>\n",
       "    <tr>\n",
       "      <th>4</th>\n",
       "      <td>Latitude</td>\n",
       "      <td>0.006893</td>\n",
       "    </tr>\n",
       "    <tr>\n",
       "      <th>5</th>\n",
       "      <td>Elevation</td>\n",
       "      <td>0.004332</td>\n",
       "    </tr>\n",
       "  </tbody>\n",
       "</table>\n",
       "</div>"
      ],
      "text/plain": [
       "      Feature  Importance\n",
       "0        DOWY    0.054479\n",
       "1  Snow_Class    0.036051\n",
       "2   Longitude    0.012789\n",
       "3  Snow_Depth    0.009000\n",
       "4    Latitude    0.006893\n",
       "5   Elevation    0.004332"
      ]
     },
     "metadata": {},
     "output_type": "display_data"
    },
    {
     "data": {
      "text/html": [
       "<div>\n",
       "<style scoped>\n",
       "    .dataframe tbody tr th:only-of-type {\n",
       "        vertical-align: middle;\n",
       "    }\n",
       "\n",
       "    .dataframe tbody tr th {\n",
       "        vertical-align: top;\n",
       "    }\n",
       "\n",
       "    .dataframe thead th {\n",
       "        text-align: right;\n",
       "    }\n",
       "</style>\n",
       "<table border=\"1\" class=\"dataframe\">\n",
       "  <thead>\n",
       "    <tr style=\"text-align: right;\">\n",
       "      <th></th>\n",
       "      <th>Feature</th>\n",
       "      <th>Importance</th>\n",
       "    </tr>\n",
       "  </thead>\n",
       "  <tbody>\n",
       "    <tr>\n",
       "      <th>0</th>\n",
       "      <td>DOWY</td>\n",
       "      <td>0.054727</td>\n",
       "    </tr>\n",
       "    <tr>\n",
       "      <th>1</th>\n",
       "      <td>Snow_Class</td>\n",
       "      <td>0.011538</td>\n",
       "    </tr>\n",
       "    <tr>\n",
       "      <th>2</th>\n",
       "      <td>Snow_Depth</td>\n",
       "      <td>0.010618</td>\n",
       "    </tr>\n",
       "    <tr>\n",
       "      <th>3</th>\n",
       "      <td>Longitude</td>\n",
       "      <td>0.007640</td>\n",
       "    </tr>\n",
       "    <tr>\n",
       "      <th>4</th>\n",
       "      <td>Latitude</td>\n",
       "      <td>0.006665</td>\n",
       "    </tr>\n",
       "    <tr>\n",
       "      <th>5</th>\n",
       "      <td>Elevation</td>\n",
       "      <td>0.002637</td>\n",
       "    </tr>\n",
       "  </tbody>\n",
       "</table>\n",
       "</div>"
      ],
      "text/plain": [
       "      Feature  Importance\n",
       "0        DOWY    0.054727\n",
       "1  Snow_Class    0.011538\n",
       "2  Snow_Depth    0.010618\n",
       "3   Longitude    0.007640\n",
       "4    Latitude    0.006665\n",
       "5   Elevation    0.002637"
      ]
     },
     "metadata": {},
     "output_type": "display_data"
    },
    {
     "data": {
      "text/html": [
       "<div>\n",
       "<style scoped>\n",
       "    .dataframe tbody tr th:only-of-type {\n",
       "        vertical-align: middle;\n",
       "    }\n",
       "\n",
       "    .dataframe tbody tr th {\n",
       "        vertical-align: top;\n",
       "    }\n",
       "\n",
       "    .dataframe thead th {\n",
       "        text-align: right;\n",
       "    }\n",
       "</style>\n",
       "<table border=\"1\" class=\"dataframe\">\n",
       "  <thead>\n",
       "    <tr style=\"text-align: right;\">\n",
       "      <th></th>\n",
       "      <th>Feature</th>\n",
       "      <th>Importance</th>\n",
       "    </tr>\n",
       "  </thead>\n",
       "  <tbody>\n",
       "    <tr>\n",
       "      <th>0</th>\n",
       "      <td>DOWY</td>\n",
       "      <td>0.041203</td>\n",
       "    </tr>\n",
       "    <tr>\n",
       "      <th>1</th>\n",
       "      <td>Latitude</td>\n",
       "      <td>0.037300</td>\n",
       "    </tr>\n",
       "    <tr>\n",
       "      <th>2</th>\n",
       "      <td>Snow_Class</td>\n",
       "      <td>0.014623</td>\n",
       "    </tr>\n",
       "    <tr>\n",
       "      <th>3</th>\n",
       "      <td>Snow_Depth</td>\n",
       "      <td>0.010204</td>\n",
       "    </tr>\n",
       "    <tr>\n",
       "      <th>4</th>\n",
       "      <td>Longitude</td>\n",
       "      <td>0.003872</td>\n",
       "    </tr>\n",
       "    <tr>\n",
       "      <th>5</th>\n",
       "      <td>Elevation</td>\n",
       "      <td>0.001870</td>\n",
       "    </tr>\n",
       "  </tbody>\n",
       "</table>\n",
       "</div>"
      ],
      "text/plain": [
       "      Feature  Importance\n",
       "0        DOWY    0.041203\n",
       "1    Latitude    0.037300\n",
       "2  Snow_Class    0.014623\n",
       "3  Snow_Depth    0.010204\n",
       "4   Longitude    0.003872\n",
       "5   Elevation    0.001870"
      ]
     },
     "metadata": {},
     "output_type": "display_data"
    },
    {
     "data": {
      "image/png": "[encoded data removed]",
      "text/plain": [
       "<Figure size 1000x1700 with 6 Axes>"
      ]
     },
     "metadata": {},
     "output_type": "display_data"
    }
   ],
   "source": [
    "fig, ax = plt.subplots(nrows=3, ncols=2, figsize=(10, 17))\n",
    "\n",
    "for sc in shap_df.Raw_snow_class.unique():\n",
    "\n",
    "    current_class = shap_df.query(\"Raw_snow_class == @sc\").drop('Raw_snow_class', axis = 1).mean().sort_values(ascending=False)\n",
    "\n",
    "    current_class= current_class.to_frame().reset_index().rename(columns={\n",
    "        'index': 'Feature',\n",
    "        0 : 'Importance'\n",
    "    })\n",
    "    \n",
    "    \n",
    "    sns.barplot(x=\"Importance\", y=\"Feature\", data=current_class, ax=ax[1, 0])\n",
    "    ax[1, 0].set_xlabel(\"Gain $f_{MAIN}$\", fontsize=16)\n",
    "    ax[1, 0].set_ylabel(\"Feature\", fontsize=18)\n",
    "    ax[1, 0].tick_params(labelsize=12)\n",
    "    ax[1, 0].text(0.90, 0.10, 'c)', transform=ax[1, 0].transAxes, fontsize=18, va='top', ha='right')\n",
    "    # display(current_class)"
   ]
  },
  {
   "cell_type": "code",
   "execution_count": 32,
   "metadata": {},
   "outputs": [
    {
     "name": "stdout",
     "output_type": "stream",
     "text": [
      "~~~~~Snow class: Prairie~~~~~~~\n"
     ]
    },
    {
     "data": {
      "text/plain": [
       "DOWY          0.047447\n",
       "Longitude     0.011445\n",
       "Snow_Depth    0.011112\n",
       "Snow_Class    0.005056\n",
       "Elevation     0.003387\n",
       "Latitude      0.002916\n",
       "dtype: float64"
      ]
     },
     "metadata": {},
     "output_type": "display_data"
    },
    {
     "name": "stdout",
     "output_type": "stream",
     "text": [
      "~~~~~Snow class: Alpine~~~~~~~\n"
     ]
    },
    {
     "data": {
      "text/plain": [
       "DOWY          0.052580\n",
       "Snow_Depth    0.011603\n",
       "Longitude     0.010219\n",
       "Snow_Class    0.005207\n",
       "Latitude      0.005080\n",
       "Elevation     0.003451\n",
       "dtype: float64"
      ]
     },
     "metadata": {},
     "output_type": "display_data"
    },
    {
     "name": "stdout",
     "output_type": "stream",
     "text": [
      "~~~~~Snow class: Ephemeral~~~~~~~\n"
     ]
    },
    {
     "data": {
      "text/plain": [
       "DOWY          0.037518\n",
       "Snow_Class    0.026664\n",
       "Snow_Depth    0.014623\n",
       "Longitude     0.013802\n",
       "Latitude      0.005014\n",
       "Elevation     0.002844\n",
       "dtype: float64"
      ]
     },
     "metadata": {},
     "output_type": "display_data"
    },
    {
     "name": "stdout",
     "output_type": "stream",
     "text": [
      "~~~~~Snow class: Maritime~~~~~~~\n"
     ]
    },
    {
     "data": {
      "text/plain": [
       "DOWY          0.054479\n",
       "Snow_Class    0.036051\n",
       "Longitude     0.012789\n",
       "Snow_Depth    0.009000\n",
       "Latitude      0.006893\n",
       "Elevation     0.004332\n",
       "dtype: float64"
      ]
     },
     "metadata": {},
     "output_type": "display_data"
    },
    {
     "name": "stdout",
     "output_type": "stream",
     "text": [
      "~~~~~Snow class: Taiga~~~~~~~\n"
     ]
    },
    {
     "data": {
      "text/plain": [
       "DOWY          0.054727\n",
       "Snow_Class    0.011538\n",
       "Snow_Depth    0.010618\n",
       "Longitude     0.007640\n",
       "Latitude      0.006665\n",
       "Elevation     0.002637\n",
       "dtype: float64"
      ]
     },
     "metadata": {},
     "output_type": "display_data"
    },
    {
     "name": "stdout",
     "output_type": "stream",
     "text": [
      "~~~~~Snow class: Tundra~~~~~~~\n"
     ]
    },
    {
     "data": {
      "text/plain": [
       "DOWY          0.041203\n",
       "Latitude      0.037300\n",
       "Snow_Class    0.014623\n",
       "Snow_Depth    0.010204\n",
       "Longitude     0.003872\n",
       "Elevation     0.001870\n",
       "dtype: float64"
      ]
     },
     "metadata": {},
     "output_type": "display_data"
    }
   ],
   "source": [
    "for sc in shap_df.Raw_snow_class.unique():\n",
    "\n",
    "    current_class = shap_df.query(\"Raw_snow_class == @sc\").drop('Raw_snow_class', axis = 1)\n",
    "    print(f'~~~~~Snow class: {sc}~~~~~~~')\n",
    "    display(current_class.mean().sort_values(ascending=False))"
   ]
  },
  {
   "cell_type": "code",
   "execution_count": 26,
   "metadata": {},
   "outputs": [
    {
     "data": {
      "text/plain": [
       "Index(['Elevation', 'Snow_Depth', 'DOWY', 'Latitude', 'Longitude',\n",
       "       'Snow_Class', 'Raw_snow_class'],\n",
       "      dtype='object')"
      ]
     },
     "execution_count": 26,
     "metadata": {},
     "output_type": "execute_result"
    }
   ],
   "source": [
    "shap_df.columns"
   ]
  },
  {
   "cell_type": "code",
   "execution_count": null,
   "metadata": {},
   "outputs": [],
   "source": []
  },
  {
   "cell_type": "code",
   "execution_count": 10,
   "metadata": {},
   "outputs": [
    {
     "data": {
      "image/png": "[encoded data removed]",
      "text/plain": [
       "<Figure size 800x450 with 1 Axes>"
      ]
     },
     "metadata": {},
     "output_type": "display_data"
    }
   ],
   "source": [
    "shap.plots.bar(shap_values)"
   ]
  },
  {
   "cell_type": "code",
   "execution_count": 16,
   "metadata": {},
   "outputs": [],
   "source": [
    "# shap.plots.bar(shap_values.abs.max(0))"
   ]
  },
  {
   "cell_type": "markdown",
   "metadata": {},
   "source": [
    "### XGBoost"
   ]
  },
  {
   "cell_type": "code",
   "execution_count": 11,
   "metadata": {},
   "outputs": [],
   "source": [
    "with open('../experiments/results/tune_new/xgboost_main_tune_target_20250902_200431.yaml', mode='r', encoding=\"utf-8\") as file:\n",
    "            raw_config = yaml.safe_load(file)\n",
    "\n",
    "sampling_method = \"gradient_based\" if xgb_device == \"cuda\" else \"uniform\"\n",
    "default_params_xgb = {\n",
    "    \"objective\": \"reg:squarederror\",\n",
    "    \"seed\": all_config.global_cfg.seed,\n",
    "    \"tree_method\": \"hist\",\n",
    "    \"device\": xgb_device,\n",
    "    \"verbosity\": 0,\n",
    "    \"sampling_method\": sampling_method\n",
    "}\n",
    "\n",
    "\n",
    "xgb_params_from_optuna=raw_config['performance']['hyperparameters']\n",
    "xgb_params_from_optuna.update(default_params_xgb)\n",
    "\n",
    "dtrain = xgb.DMatrix(X_train_main, label=y_train)\n",
    "dtest = xgb.DMatrix(X_test_main)\n",
    "\n",
    "xgb_main = xgb.train(\n",
    "    xgb_params_from_optuna,\n",
    "    dtrain,\n",
    "    num_boost_round=raw_config['performance']['metrics']['best_iteration'], \n",
    ")\n",
    "\n",
    "y_pred_xgb_main = xgb_main.predict(dtest)"
   ]
  },
  {
   "cell_type": "code",
   "execution_count": null,
   "metadata": {},
   "outputs": [
    {
     "data": {
      "text/html": [
       "<div>\n",
       "<style scoped>\n",
       "    .dataframe tbody tr th:only-of-type {\n",
       "        vertical-align: middle;\n",
       "    }\n",
       "\n",
       "    .dataframe tbody tr th {\n",
       "        vertical-align: top;\n",
       "    }\n",
       "\n",
       "    .dataframe thead th {\n",
       "        text-align: right;\n",
       "    }\n",
       "</style>\n",
       "<table border=\"1\" class=\"dataframe\">\n",
       "  <thead>\n",
       "    <tr style=\"text-align: right;\">\n",
       "      <th></th>\n",
       "      <th>Feature</th>\n",
       "      <th>Importance</th>\n",
       "    </tr>\n",
       "  </thead>\n",
       "  <tbody>\n",
       "    <tr>\n",
       "      <th>2</th>\n",
       "      <td>DOWY</td>\n",
       "      <td>93.200340</td>\n",
       "    </tr>\n",
       "    <tr>\n",
       "      <th>5</th>\n",
       "      <td>Snow_Class</td>\n",
       "      <td>42.732197</td>\n",
       "    </tr>\n",
       "    <tr>\n",
       "      <th>1</th>\n",
       "      <td>Snow_Depth</td>\n",
       "      <td>8.157521</td>\n",
       "    </tr>\n",
       "    <tr>\n",
       "      <th>4</th>\n",
       "      <td>Longitude</td>\n",
       "      <td>4.461824</td>\n",
       "    </tr>\n",
       "    <tr>\n",
       "      <th>3</th>\n",
       "      <td>Latitude</td>\n",
       "      <td>3.258300</td>\n",
       "    </tr>\n",
       "    <tr>\n",
       "      <th>0</th>\n",
       "      <td>Elevation</td>\n",
       "      <td>2.267700</td>\n",
       "    </tr>\n",
       "  </tbody>\n",
       "</table>\n",
       "</div>"
      ],
      "text/plain": [
       "      Feature  Importance\n",
       "2        DOWY   93.200340\n",
       "5  Snow_Class   42.732197\n",
       "1  Snow_Depth    8.157521\n",
       "4   Longitude    4.461824\n",
       "3    Latitude    3.258300\n",
       "0   Elevation    2.267700"
      ]
     },
     "execution_count": 38,
     "metadata": {},
     "output_type": "execute_result"
    }
   ],
   "source": [
    "pd.DataFrame(\n",
    "        data={\n",
    "            \"Feature\": xgb_main.feature_names,\n",
    "            \"Importance\": xgb_main.get_score(importance_type='gain').values()\n",
    "        }\n",
    ").sort_values(by=\"Importance\", ascending=False)"
   ]
  },
  {
   "cell_type": "code",
   "execution_count": 37,
   "metadata": {},
   "outputs": [
    {
     "data": {
      "text/html": [
       "<div>\n",
       "<style scoped>\n",
       "    .dataframe tbody tr th:only-of-type {\n",
       "        vertical-align: middle;\n",
       "    }\n",
       "\n",
       "    .dataframe tbody tr th {\n",
       "        vertical-align: top;\n",
       "    }\n",
       "\n",
       "    .dataframe thead th {\n",
       "        text-align: right;\n",
       "    }\n",
       "</style>\n",
       "<table border=\"1\" class=\"dataframe\">\n",
       "  <thead>\n",
       "    <tr style=\"text-align: right;\">\n",
       "      <th></th>\n",
       "      <th>Feature</th>\n",
       "      <th>Importance</th>\n",
       "    </tr>\n",
       "  </thead>\n",
       "  <tbody>\n",
       "    <tr>\n",
       "      <th>2</th>\n",
       "      <td>DOWY</td>\n",
       "      <td>176521.437500</td>\n",
       "    </tr>\n",
       "    <tr>\n",
       "      <th>1</th>\n",
       "      <td>Snow_Depth</td>\n",
       "      <td>28657.371094</td>\n",
       "    </tr>\n",
       "    <tr>\n",
       "      <th>5</th>\n",
       "      <td>Snow_Class</td>\n",
       "      <td>27861.392578</td>\n",
       "    </tr>\n",
       "    <tr>\n",
       "      <th>4</th>\n",
       "      <td>Longitude</td>\n",
       "      <td>17753.599609</td>\n",
       "    </tr>\n",
       "    <tr>\n",
       "      <th>3</th>\n",
       "      <td>Latitude</td>\n",
       "      <td>11765.719727</td>\n",
       "    </tr>\n",
       "    <tr>\n",
       "      <th>0</th>\n",
       "      <td>Elevation</td>\n",
       "      <td>5680.587891</td>\n",
       "    </tr>\n",
       "  </tbody>\n",
       "</table>\n",
       "</div>"
      ],
      "text/plain": [
       "      Feature     Importance\n",
       "2        DOWY  176521.437500\n",
       "1  Snow_Depth   28657.371094\n",
       "5  Snow_Class   27861.392578\n",
       "4   Longitude   17753.599609\n",
       "3    Latitude   11765.719727\n",
       "0   Elevation    5680.587891"
      ]
     },
     "execution_count": 37,
     "metadata": {},
     "output_type": "execute_result"
    }
   ],
   "source": [
    "pd.DataFrame(\n",
    "        data={\n",
    "            \"Feature\": xgb_main.feature_names,\n",
    "            \"Importance\": xgb_main.get_score(importance_type='total_gain').values()\n",
    "        }\n",
    "    ).sort_values(by=\"Importance\", ascending=False)"
   ]
  },
  {
   "cell_type": "markdown",
   "metadata": {},
   "source": [
    "## Model Comparison\n",
    "\n",
    "* Density"
   ]
  },
  {
   "cell_type": "code",
   "execution_count": 12,
   "metadata": {},
   "outputs": [
    {
     "data": {
      "text/html": [
       "<div>\n",
       "<style scoped>\n",
       "    .dataframe tbody tr th:only-of-type {\n",
       "        vertical-align: middle;\n",
       "    }\n",
       "\n",
       "    .dataframe tbody tr th {\n",
       "        vertical-align: top;\n",
       "    }\n",
       "\n",
       "    .dataframe thead th {\n",
       "        text-align: right;\n",
       "    }\n",
       "</style>\n",
       "<table border=\"1\" class=\"dataframe\">\n",
       "  <thead>\n",
       "    <tr style=\"text-align: right;\">\n",
       "      <th></th>\n",
       "      <th>EXT_Density</th>\n",
       "      <th>RF_Density</th>\n",
       "      <th>LGBM_Density</th>\n",
       "      <th>XGB_Density</th>\n",
       "      <th>True_Density</th>\n",
       "    </tr>\n",
       "  </thead>\n",
       "  <tbody>\n",
       "    <tr>\n",
       "      <th>0</th>\n",
       "      <td>0.274272</td>\n",
       "      <td>0.247755</td>\n",
       "      <td>0.254605</td>\n",
       "      <td>0.259430</td>\n",
       "      <td>0.308333</td>\n",
       "    </tr>\n",
       "    <tr>\n",
       "      <th>1</th>\n",
       "      <td>0.270857</td>\n",
       "      <td>0.248233</td>\n",
       "      <td>0.256336</td>\n",
       "      <td>0.259339</td>\n",
       "      <td>0.264286</td>\n",
       "    </tr>\n",
       "    <tr>\n",
       "      <th>2</th>\n",
       "      <td>0.277096</td>\n",
       "      <td>0.248691</td>\n",
       "      <td>0.263672</td>\n",
       "      <td>0.266172</td>\n",
       "      <td>0.300000</td>\n",
       "    </tr>\n",
       "    <tr>\n",
       "      <th>3</th>\n",
       "      <td>0.279963</td>\n",
       "      <td>0.259595</td>\n",
       "      <td>0.267992</td>\n",
       "      <td>0.270270</td>\n",
       "      <td>0.300000</td>\n",
       "    </tr>\n",
       "    <tr>\n",
       "      <th>4</th>\n",
       "      <td>0.278483</td>\n",
       "      <td>0.266122</td>\n",
       "      <td>0.270703</td>\n",
       "      <td>0.269889</td>\n",
       "      <td>0.278571</td>\n",
       "    </tr>\n",
       "  </tbody>\n",
       "</table>\n",
       "</div>"
      ],
      "text/plain": [
       "   EXT_Density  RF_Density  LGBM_Density  XGB_Density  True_Density\n",
       "0     0.274272    0.247755      0.254605     0.259430      0.308333\n",
       "1     0.270857    0.248233      0.256336     0.259339      0.264286\n",
       "2     0.277096    0.248691      0.263672     0.266172      0.300000\n",
       "3     0.279963    0.259595      0.267992     0.270270      0.300000\n",
       "4     0.278483    0.266122      0.270703     0.269889      0.278571"
      ]
     },
     "execution_count": 12,
     "metadata": {},
     "output_type": "execute_result"
    }
   ],
   "source": [
    "main_model_results=pd.DataFrame({\n",
    "    'EXT_Density': y_pred_ext_main,\n",
    "    'RF_Density': y_pred_rf_main,\n",
    "    'LGBM_Density': y_pred_lgbm_main,\n",
    "    'XGB_Density': y_pred_xgb_main,\n",
    "    'True_Density': y_test.values\n",
    "})\n",
    "\n",
    "main_model_results.head()"
   ]
  },
  {
   "cell_type": "code",
   "execution_count": 11,
   "metadata": {},
   "outputs": [
    {
     "data": {
      "text/html": [
       "<div>\n",
       "<style scoped>\n",
       "    .dataframe tbody tr th:only-of-type {\n",
       "        vertical-align: middle;\n",
       "    }\n",
       "\n",
       "    .dataframe tbody tr th {\n",
       "        vertical-align: top;\n",
       "    }\n",
       "\n",
       "    .dataframe thead th {\n",
       "        text-align: right;\n",
       "    }\n",
       "</style>\n",
       "<table border=\"1\" class=\"dataframe\">\n",
       "  <thead>\n",
       "    <tr style=\"text-align: right;\">\n",
       "      <th></th>\n",
       "      <th>EXT_Density</th>\n",
       "      <th>RF_Density</th>\n",
       "      <th>LGBM_Density</th>\n",
       "      <th>XGB_Density</th>\n",
       "      <th>True_Density</th>\n",
       "    </tr>\n",
       "  </thead>\n",
       "  <tbody>\n",
       "    <tr>\n",
       "      <th>0</th>\n",
       "      <td>0.274272</td>\n",
       "      <td>0.247755</td>\n",
       "      <td>0.254605</td>\n",
       "      <td>0.258287</td>\n",
       "      <td>0.308333</td>\n",
       "    </tr>\n",
       "    <tr>\n",
       "      <th>1</th>\n",
       "      <td>0.270857</td>\n",
       "      <td>0.248233</td>\n",
       "      <td>0.256336</td>\n",
       "      <td>0.260336</td>\n",
       "      <td>0.264286</td>\n",
       "    </tr>\n",
       "    <tr>\n",
       "      <th>2</th>\n",
       "      <td>0.277096</td>\n",
       "      <td>0.248691</td>\n",
       "      <td>0.263672</td>\n",
       "      <td>0.267221</td>\n",
       "      <td>0.300000</td>\n",
       "    </tr>\n",
       "    <tr>\n",
       "      <th>3</th>\n",
       "      <td>0.279963</td>\n",
       "      <td>0.259595</td>\n",
       "      <td>0.267992</td>\n",
       "      <td>0.270378</td>\n",
       "      <td>0.300000</td>\n",
       "    </tr>\n",
       "    <tr>\n",
       "      <th>4</th>\n",
       "      <td>0.278483</td>\n",
       "      <td>0.266122</td>\n",
       "      <td>0.270703</td>\n",
       "      <td>0.271092</td>\n",
       "      <td>0.278571</td>\n",
       "    </tr>\n",
       "  </tbody>\n",
       "</table>\n",
       "</div>"
      ],
      "text/plain": [
       "   EXT_Density  RF_Density  LGBM_Density  XGB_Density  True_Density\n",
       "0     0.274272    0.247755      0.254605     0.258287      0.308333\n",
       "1     0.270857    0.248233      0.256336     0.260336      0.264286\n",
       "2     0.277096    0.248691      0.263672     0.267221      0.300000\n",
       "3     0.279963    0.259595      0.267992     0.270378      0.300000\n",
       "4     0.278483    0.266122      0.270703     0.271092      0.278571"
      ]
     },
     "execution_count": 11,
     "metadata": {},
     "output_type": "execute_result"
    }
   ],
   "source": [
    "main_model_results=pd.DataFrame({\n",
    "    'EXT_Density': y_pred_ext_main,\n",
    "    'RF_Density': y_pred_rf_main,\n",
    "    'LGBM_Density': y_pred_lgbm_main,\n",
    "    'XGB_Density': y_pred_xgb_main,\n",
    "    'True_Density': y_test.values\n",
    "})\n",
    "\n",
    "main_model_results.head()"
   ]
  },
  {
   "cell_type": "code",
   "execution_count": 13,
   "metadata": {},
   "outputs": [
    {
     "data": {
      "text/html": [
       "<div>\n",
       "<style scoped>\n",
       "    .dataframe tbody tr th:only-of-type {\n",
       "        vertical-align: middle;\n",
       "    }\n",
       "\n",
       "    .dataframe tbody tr th {\n",
       "        vertical-align: top;\n",
       "    }\n",
       "\n",
       "    .dataframe thead th {\n",
       "        text-align: right;\n",
       "    }\n",
       "</style>\n",
       "<table border=\"1\" class=\"dataframe\">\n",
       "  <thead>\n",
       "    <tr style=\"text-align: right;\">\n",
       "      <th></th>\n",
       "      <th>EXT_Density</th>\n",
       "      <th>RF_Density</th>\n",
       "      <th>LGBM_Density</th>\n",
       "      <th>XGB_Density</th>\n",
       "    </tr>\n",
       "  </thead>\n",
       "  <tbody>\n",
       "    <tr>\n",
       "      <th>RMSE</th>\n",
       "      <td>0.051531</td>\n",
       "      <td>0.052996</td>\n",
       "      <td>0.051216</td>\n",
       "      <td>0.051304</td>\n",
       "    </tr>\n",
       "    <tr>\n",
       "      <th>MBE</th>\n",
       "      <td>0.001152</td>\n",
       "      <td>0.002019</td>\n",
       "      <td>0.001910</td>\n",
       "      <td>0.002050</td>\n",
       "    </tr>\n",
       "    <tr>\n",
       "      <th>RSQ</th>\n",
       "      <td>0.680795</td>\n",
       "      <td>0.662381</td>\n",
       "      <td>0.684689</td>\n",
       "      <td>0.683600</td>\n",
       "    </tr>\n",
       "  </tbody>\n",
       "</table>\n",
       "</div>"
      ],
      "text/plain": [
       "      EXT_Density  RF_Density  LGBM_Density  XGB_Density\n",
       "RMSE     0.051531    0.052996      0.051216     0.051304\n",
       "MBE      0.001152    0.002019      0.001910     0.002050\n",
       "RSQ      0.680795    0.662381      0.684689     0.683600"
      ]
     },
     "execution_count": 13,
     "metadata": {},
     "output_type": "execute_result"
    }
   ],
   "source": [
    "compare_multiple_models(main_model_results, 'True_Density')"
   ]
  },
  {
   "cell_type": "code",
   "execution_count": 12,
   "metadata": {},
   "outputs": [
    {
     "data": {
      "text/html": [
       "<div>\n",
       "<style scoped>\n",
       "    .dataframe tbody tr th:only-of-type {\n",
       "        vertical-align: middle;\n",
       "    }\n",
       "\n",
       "    .dataframe tbody tr th {\n",
       "        vertical-align: top;\n",
       "    }\n",
       "\n",
       "    .dataframe thead th {\n",
       "        text-align: right;\n",
       "    }\n",
       "</style>\n",
       "<table border=\"1\" class=\"dataframe\">\n",
       "  <thead>\n",
       "    <tr style=\"text-align: right;\">\n",
       "      <th></th>\n",
       "      <th>EXT_Density</th>\n",
       "      <th>RF_Density</th>\n",
       "      <th>LGBM_Density</th>\n",
       "      <th>XGB_Density</th>\n",
       "    </tr>\n",
       "  </thead>\n",
       "  <tbody>\n",
       "    <tr>\n",
       "      <th>RMSE</th>\n",
       "      <td>0.051531</td>\n",
       "      <td>0.052996</td>\n",
       "      <td>0.051216</td>\n",
       "      <td>0.051265</td>\n",
       "    </tr>\n",
       "    <tr>\n",
       "      <th>MBE</th>\n",
       "      <td>0.001152</td>\n",
       "      <td>0.002019</td>\n",
       "      <td>0.001910</td>\n",
       "      <td>0.002285</td>\n",
       "    </tr>\n",
       "    <tr>\n",
       "      <th>RSQ</th>\n",
       "      <td>0.680795</td>\n",
       "      <td>0.662381</td>\n",
       "      <td>0.684689</td>\n",
       "      <td>0.684076</td>\n",
       "    </tr>\n",
       "  </tbody>\n",
       "</table>\n",
       "</div>"
      ],
      "text/plain": [
       "      EXT_Density  RF_Density  LGBM_Density  XGB_Density\n",
       "RMSE     0.051531    0.052996      0.051216     0.051265\n",
       "MBE      0.001152    0.002019      0.001910     0.002285\n",
       "RSQ      0.680795    0.662381      0.684689     0.684076"
      ]
     },
     "execution_count": 12,
     "metadata": {},
     "output_type": "execute_result"
    }
   ],
   "source": [
    "compare_multiple_models(main_model_results, 'True_Density')"
   ]
  },
  {
   "cell_type": "markdown",
   "metadata": {},
   "source": [
    "* SWE"
   ]
  },
  {
   "cell_type": "code",
   "execution_count": 13,
   "metadata": {},
   "outputs": [
    {
     "data": {
      "text/html": [
       "<div>\n",
       "<style scoped>\n",
       "    .dataframe tbody tr th:only-of-type {\n",
       "        vertical-align: middle;\n",
       "    }\n",
       "\n",
       "    .dataframe tbody tr th {\n",
       "        vertical-align: top;\n",
       "    }\n",
       "\n",
       "    .dataframe thead th {\n",
       "        text-align: right;\n",
       "    }\n",
       "</style>\n",
       "<table border=\"1\" class=\"dataframe\">\n",
       "  <thead>\n",
       "    <tr style=\"text-align: right;\">\n",
       "      <th></th>\n",
       "      <th>EXT_SWE</th>\n",
       "      <th>RF_SWE</th>\n",
       "      <th>LGBM_SWE</th>\n",
       "      <th>XGB_SWE</th>\n",
       "      <th>True_SWE</th>\n",
       "    </tr>\n",
       "  </thead>\n",
       "  <tbody>\n",
       "    <tr>\n",
       "      <th>0</th>\n",
       "      <td>8.359807</td>\n",
       "      <td>7.551563</td>\n",
       "      <td>7.760360</td>\n",
       "      <td>7.872575</td>\n",
       "      <td>9.398</td>\n",
       "    </tr>\n",
       "    <tr>\n",
       "      <th>1</th>\n",
       "      <td>9.631689</td>\n",
       "      <td>8.827179</td>\n",
       "      <td>9.115292</td>\n",
       "      <td>9.257566</td>\n",
       "      <td>9.398</td>\n",
       "    </tr>\n",
       "    <tr>\n",
       "      <th>2</th>\n",
       "      <td>9.149716</td>\n",
       "      <td>8.211768</td>\n",
       "      <td>8.706452</td>\n",
       "      <td>8.823651</td>\n",
       "      <td>9.906</td>\n",
       "    </tr>\n",
       "    <tr>\n",
       "      <th>3</th>\n",
       "      <td>9.244391</td>\n",
       "      <td>8.571824</td>\n",
       "      <td>8.849098</td>\n",
       "      <td>8.927877</td>\n",
       "      <td>9.906</td>\n",
       "    </tr>\n",
       "    <tr>\n",
       "      <th>4</th>\n",
       "      <td>9.902841</td>\n",
       "      <td>9.463315</td>\n",
       "      <td>9.626202</td>\n",
       "      <td>9.640039</td>\n",
       "      <td>9.906</td>\n",
       "    </tr>\n",
       "  </tbody>\n",
       "</table>\n",
       "</div>"
      ],
      "text/plain": [
       "    EXT_SWE    RF_SWE  LGBM_SWE   XGB_SWE  True_SWE\n",
       "0  8.359807  7.551563  7.760360  7.872575     9.398\n",
       "1  9.631689  8.827179  9.115292  9.257566     9.398\n",
       "2  9.149716  8.211768  8.706452  8.823651     9.906\n",
       "3  9.244391  8.571824  8.849098  8.927877     9.906\n",
       "4  9.902841  9.463315  9.626202  9.640039     9.906"
      ]
     },
     "execution_count": 13,
     "metadata": {},
     "output_type": "execute_result"
    }
   ],
   "source": [
    "main_model_swe_results=pd.DataFrame({\n",
    "    'EXT_SWE': main_model_results.EXT_Density.values*X_test_main.Snow_Depth.values,\n",
    "    'RF_SWE': main_model_results.RF_Density.values*X_test_main.Snow_Depth.values,\n",
    "    'LGBM_SWE': main_model_results.LGBM_Density.values*X_test_main.Snow_Depth.values,\n",
    "    'XGB_SWE': main_model_results.XGB_Density.values*X_test_main.Snow_Depth.values,\n",
    "    'True_SWE': raw_data.x_val.SWE.values,\n",
    "})\n",
    "\n",
    "main_model_swe_results.head()"
   ]
  },
  {
   "cell_type": "code",
   "execution_count": 14,
   "metadata": {},
   "outputs": [
    {
     "data": {
      "text/html": [
       "<div>\n",
       "<style scoped>\n",
       "    .dataframe tbody tr th:only-of-type {\n",
       "        vertical-align: middle;\n",
       "    }\n",
       "\n",
       "    .dataframe tbody tr th {\n",
       "        vertical-align: top;\n",
       "    }\n",
       "\n",
       "    .dataframe thead th {\n",
       "        text-align: right;\n",
       "    }\n",
       "</style>\n",
       "<table border=\"1\" class=\"dataframe\">\n",
       "  <thead>\n",
       "    <tr style=\"text-align: right;\">\n",
       "      <th></th>\n",
       "      <th>EXT_SWE</th>\n",
       "      <th>RF_SWE</th>\n",
       "      <th>LGBM_SWE</th>\n",
       "      <th>XGB_SWE</th>\n",
       "      <th>True_SWE</th>\n",
       "    </tr>\n",
       "  </thead>\n",
       "  <tbody>\n",
       "    <tr>\n",
       "      <th>0</th>\n",
       "      <td>8.359807</td>\n",
       "      <td>7.551563</td>\n",
       "      <td>7.760360</td>\n",
       "      <td>7.907417</td>\n",
       "      <td>9.398</td>\n",
       "    </tr>\n",
       "    <tr>\n",
       "      <th>1</th>\n",
       "      <td>9.631689</td>\n",
       "      <td>8.827179</td>\n",
       "      <td>9.115292</td>\n",
       "      <td>9.222110</td>\n",
       "      <td>9.398</td>\n",
       "    </tr>\n",
       "    <tr>\n",
       "      <th>2</th>\n",
       "      <td>9.149716</td>\n",
       "      <td>8.211768</td>\n",
       "      <td>8.706452</td>\n",
       "      <td>8.788989</td>\n",
       "      <td>9.906</td>\n",
       "    </tr>\n",
       "    <tr>\n",
       "      <th>3</th>\n",
       "      <td>9.244391</td>\n",
       "      <td>8.571824</td>\n",
       "      <td>8.849098</td>\n",
       "      <td>8.924303</td>\n",
       "      <td>9.906</td>\n",
       "    </tr>\n",
       "    <tr>\n",
       "      <th>4</th>\n",
       "      <td>9.902841</td>\n",
       "      <td>9.463315</td>\n",
       "      <td>9.626202</td>\n",
       "      <td>9.597241</td>\n",
       "      <td>9.906</td>\n",
       "    </tr>\n",
       "  </tbody>\n",
       "</table>\n",
       "</div>"
      ],
      "text/plain": [
       "    EXT_SWE    RF_SWE  LGBM_SWE   XGB_SWE  True_SWE\n",
       "0  8.359807  7.551563  7.760360  7.907417     9.398\n",
       "1  9.631689  8.827179  9.115292  9.222110     9.398\n",
       "2  9.149716  8.211768  8.706452  8.788989     9.906\n",
       "3  9.244391  8.571824  8.849098  8.924303     9.906\n",
       "4  9.902841  9.463315  9.626202  9.597241     9.906"
      ]
     },
     "execution_count": 14,
     "metadata": {},
     "output_type": "execute_result"
    }
   ],
   "source": [
    "main_model_swe_results=pd.DataFrame({\n",
    "    'EXT_SWE': main_model_results.EXT_Density.values*X_test_main.Snow_Depth.values,\n",
    "    'RF_SWE': main_model_results.RF_Density.values*X_test_main.Snow_Depth.values,\n",
    "    'LGBM_SWE': main_model_results.LGBM_Density.values*X_test_main.Snow_Depth.values,\n",
    "    'XGB_SWE': main_model_results.XGB_Density.values*X_test_main.Snow_Depth.values,\n",
    "    'True_SWE': raw_data.x_val.SWE.values,\n",
    "})\n",
    "\n",
    "main_model_swe_results.head()"
   ]
  },
  {
   "cell_type": "code",
   "execution_count": 15,
   "metadata": {},
   "outputs": [
    {
     "data": {
      "text/html": [
       "<div>\n",
       "<style scoped>\n",
       "    .dataframe tbody tr th:only-of-type {\n",
       "        vertical-align: middle;\n",
       "    }\n",
       "\n",
       "    .dataframe tbody tr th {\n",
       "        vertical-align: top;\n",
       "    }\n",
       "\n",
       "    .dataframe thead th {\n",
       "        text-align: right;\n",
       "    }\n",
       "</style>\n",
       "<table border=\"1\" class=\"dataframe\">\n",
       "  <thead>\n",
       "    <tr style=\"text-align: right;\">\n",
       "      <th></th>\n",
       "      <th>EXT_SWE</th>\n",
       "      <th>RF_SWE</th>\n",
       "      <th>LGBM_SWE</th>\n",
       "      <th>XGB_SWE</th>\n",
       "    </tr>\n",
       "  </thead>\n",
       "  <tbody>\n",
       "    <tr>\n",
       "      <th>RMSE</th>\n",
       "      <td>5.493810</td>\n",
       "      <td>5.752251</td>\n",
       "      <td>5.393536</td>\n",
       "      <td>5.387922</td>\n",
       "    </tr>\n",
       "    <tr>\n",
       "      <th>MBE</th>\n",
       "      <td>0.075129</td>\n",
       "      <td>0.117492</td>\n",
       "      <td>0.171727</td>\n",
       "      <td>0.177806</td>\n",
       "    </tr>\n",
       "    <tr>\n",
       "      <th>RSQ</th>\n",
       "      <td>0.964327</td>\n",
       "      <td>0.960892</td>\n",
       "      <td>0.965618</td>\n",
       "      <td>0.965689</td>\n",
       "    </tr>\n",
       "  </tbody>\n",
       "</table>\n",
       "</div>"
      ],
      "text/plain": [
       "       EXT_SWE    RF_SWE  LGBM_SWE   XGB_SWE\n",
       "RMSE  5.493810  5.752251  5.393536  5.387922\n",
       "MBE   0.075129  0.117492  0.171727  0.177806\n",
       "RSQ   0.964327  0.960892  0.965618  0.965689"
      ]
     },
     "execution_count": 15,
     "metadata": {},
     "output_type": "execute_result"
    }
   ],
   "source": [
    "compare_multiple_models(main_model_swe_results, 'True_SWE')"
   ]
  },
  {
   "cell_type": "code",
   "execution_count": 14,
   "metadata": {},
   "outputs": [
    {
     "data": {
      "text/html": [
       "<div>\n",
       "<style scoped>\n",
       "    .dataframe tbody tr th:only-of-type {\n",
       "        vertical-align: middle;\n",
       "    }\n",
       "\n",
       "    .dataframe tbody tr th {\n",
       "        vertical-align: top;\n",
       "    }\n",
       "\n",
       "    .dataframe thead th {\n",
       "        text-align: right;\n",
       "    }\n",
       "</style>\n",
       "<table border=\"1\" class=\"dataframe\">\n",
       "  <thead>\n",
       "    <tr style=\"text-align: right;\">\n",
       "      <th></th>\n",
       "      <th>EXT_SWE</th>\n",
       "      <th>RF_SWE</th>\n",
       "      <th>LGBM_SWE</th>\n",
       "      <th>XGB_SWE</th>\n",
       "    </tr>\n",
       "  </thead>\n",
       "  <tbody>\n",
       "    <tr>\n",
       "      <th>RMSE</th>\n",
       "      <td>5.493810</td>\n",
       "      <td>5.752251</td>\n",
       "      <td>5.393536</td>\n",
       "      <td>5.349604</td>\n",
       "    </tr>\n",
       "    <tr>\n",
       "      <th>MBE</th>\n",
       "      <td>0.075129</td>\n",
       "      <td>0.117492</td>\n",
       "      <td>0.171727</td>\n",
       "      <td>0.188284</td>\n",
       "    </tr>\n",
       "    <tr>\n",
       "      <th>RSQ</th>\n",
       "      <td>0.964327</td>\n",
       "      <td>0.960892</td>\n",
       "      <td>0.965618</td>\n",
       "      <td>0.966175</td>\n",
       "    </tr>\n",
       "  </tbody>\n",
       "</table>\n",
       "</div>"
      ],
      "text/plain": [
       "       EXT_SWE    RF_SWE  LGBM_SWE   XGB_SWE\n",
       "RMSE  5.493810  5.752251  5.393536  5.349604\n",
       "MBE   0.075129  0.117492  0.171727  0.188284\n",
       "RSQ   0.964327  0.960892  0.965618  0.966175"
      ]
     },
     "execution_count": 14,
     "metadata": {},
     "output_type": "execute_result"
    }
   ],
   "source": [
    "compare_multiple_models(main_model_swe_results, 'True_SWE')"
   ]
  },
  {
   "cell_type": "markdown",
   "metadata": {},
   "source": [
    "* LightGBM for the Win - it did slightly better in density estimation."
   ]
  },
  {
   "cell_type": "markdown",
   "metadata": {},
   "source": [
    "## Adding Climatology\n",
    "\n",
    "### Extra Trees"
   ]
  },
  {
   "cell_type": "code",
   "execution_count": 53,
   "metadata": {},
   "outputs": [],
   "source": [
    "climate7d_config = model_variant_selector(variant='climate_7d', data=raw_data)\n",
    "\n",
    "processed_data_cat_7d=ecnoder_preprocessor(\n",
    "    encoder='target',\n",
    "    cfg=all_config.global_cfg,\n",
    "    data=climate7d_config\n",
    ")\n",
    "\n",
    "\n",
    "X_train_7d = processed_data_cat_7d.x_train\n",
    "X_test_7d = processed_data_cat_7d.x_val"
   ]
  },
  {
   "cell_type": "code",
   "execution_count": 20,
   "metadata": {},
   "outputs": [],
   "source": [
    "with open('../experiments/results/tune_new/extratrees_climate_7d_tune_target_20250902_232842.yaml', mode='r', encoding=\"utf-8\") as file:\n",
    "            raw_config = yaml.safe_load(file)\n",
    "\n",
    "ext_hyp_from_optuna = raw_config['performance']['hyperparameters']\n",
    "\n",
    "\n",
    "ext_trees_7=ExtraTreesRegressor(**ext_hyp_from_optuna, random_state=all_config.global_cfg.seed, n_jobs=all_config.global_cfg.n_jobs)\n",
    "\n",
    "ext_trees_7.fit(X_train_7d, y_train)\n",
    "y_pred_ext_7 = ext_trees_7.predict(X_test_7d)"
   ]
  },
  {
   "cell_type": "code",
   "execution_count": 79,
   "metadata": {},
   "outputs": [
    {
     "ename": "NameError",
     "evalue": "name 'ext_trees' is not defined",
     "output_type": "error",
     "traceback": [
      "\u001b[0;31m---------------------------------------------------------------------------\u001b[0m",
      "\u001b[0;31mNameError\u001b[0m                                 Traceback (most recent call last)",
      "Cell \u001b[0;32mIn[79], line 1\u001b[0m\n\u001b[0;32m----> 1\u001b[0m \u001b[43mext_trees\u001b[49m\n",
      "\u001b[0;31mNameError\u001b[0m: name 'ext_trees' is not defined"
     ]
    }
   ],
   "source": [
    "ext_trees"
   ]
  },
  {
   "cell_type": "markdown",
   "metadata": {},
   "source": [
    "### Random Forest"
   ]
  },
  {
   "cell_type": "code",
   "execution_count": 21,
   "metadata": {},
   "outputs": [],
   "source": [
    "with open('../experiments/results/tune_new/rf_climate_7d_tune_target_20250902_232842.yaml', mode='r', encoding=\"utf-8\") as file:\n",
    "            raw_config = yaml.safe_load(file)\n",
    "\n",
    "rf_hyp_from_optuna = raw_config['performance']['hyperparameters']\n",
    "\n",
    "\n",
    "rf_trees_7=RandomForestRegressor(**rf_hyp_from_optuna, random_state=all_config.global_cfg.seed, n_jobs=all_config.global_cfg.n_jobs)\n",
    "\n",
    "rf_trees_7.fit(X_train_7d, y_train)\n",
    "y_pred_rf_7 = rf_trees_7.predict(X_test_7d)"
   ]
  },
  {
   "cell_type": "markdown",
   "metadata": {},
   "source": [
    "### LightGBM"
   ]
  },
  {
   "cell_type": "code",
   "execution_count": 72,
   "metadata": {},
   "outputs": [],
   "source": [
    "with open('../experiments/results/tune_new/lightgbm_climate_7d_tune_target_20250902_200431.yaml', mode='r', encoding=\"utf-8\") as file:\n",
    "            raw_config = yaml.safe_load(file)\n",
    "\n",
    "default_params= {\n",
    "    'objective': 'regression',\n",
    "    'metric': 'rmse',\n",
    "    'random_state': all_config.global_cfg.seed,\n",
    "    \"force_col_wise\": True,\n",
    "    \"verbosity\": all_config.global_cfg.verbosity,\n",
    "    \"deterministic\": True\n",
    "}\n",
    "\n",
    "params_from_optuna = raw_config['performance']['hyperparameters']\n",
    "params_from_optuna.update(default_params)\n",
    "\n",
    "train_data = lgb.Dataset(X_train_7d, label=y_train)\n",
    "\n",
    "lgbm_7 = lgb.train(\n",
    "    params_from_optuna,\n",
    "    train_data,\n",
    "    num_boost_round=raw_config['performance']['metrics']['best_iteration'] # best iteration from Optuna\n",
    ")\n",
    "\n",
    "y_pred_lgbm_7 = lgbm_7.predict(X_test_7d)"
   ]
  },
  {
   "cell_type": "code",
   "execution_count": 72,
   "metadata": {},
   "outputs": [
    {
     "data": {
      "text/plain": [
       "(99,\n",
       " {'num_leaves': 202,\n",
       "  'learning_rate': 0.04239942996444115,\n",
       "  'min_child_samples': 86,\n",
       "  'reg_alpha': 1.0290351857869753e-05,\n",
       "  'reg_lambda': 0.005880313324688824,\n",
       "  'max_depth': 9,\n",
       "  'objective': 'regression',\n",
       "  'metric': 'rmse',\n",
       "  'random_state': 10,\n",
       "  'force_col_wise': True,\n",
       "  'verbosity': -1,\n",
       "  'deterministic': True})"
      ]
     },
     "execution_count": 72,
     "metadata": {},
     "output_type": "execute_result"
    }
   ],
   "source": [
    "raw_config['performance']['metrics']['best_iteration'], params_from_optuna"
   ]
  },
  {
   "cell_type": "markdown",
   "metadata": {},
   "source": [
    "### XGBoost"
   ]
  },
  {
   "cell_type": "code",
   "execution_count": 23,
   "metadata": {},
   "outputs": [],
   "source": [
    "with open('../experiments/results/tune_new/xgboost_climate_7d_tune_target_20250902_200431.yaml', mode='r', encoding=\"utf-8\") as file:\n",
    "            raw_config = yaml.safe_load(file)\n",
    "\n",
    "sampling_method = \"gradient_based\" if xgb_device == \"cuda\" else \"uniform\"\n",
    "default_params_xgb = {\n",
    "    \"objective\": \"reg:squarederror\",\n",
    "    \"seed\": all_config.global_cfg.seed,\n",
    "    \"tree_method\": \"hist\",\n",
    "    \"device\": xgb_device,\n",
    "    \"verbosity\": 0,\n",
    "    \"sampling_method\": sampling_method\n",
    "}\n",
    "\n",
    "\n",
    "xgb_params_from_optuna=raw_config['performance']['hyperparameters']\n",
    "xgb_params_from_optuna.update(default_params_xgb)\n",
    "\n",
    "dtrain = xgb.DMatrix(X_train_7d, label=y_train)\n",
    "dtest = xgb.DMatrix(X_test_7d)\n",
    "\n",
    "xgb_7 = xgb.train(\n",
    "    xgb_params_from_optuna,\n",
    "    dtrain,\n",
    "    num_boost_round=raw_config['performance']['metrics']['best_iteration'], \n",
    ")\n",
    "\n",
    "y_pred_xgb_7 = xgb_7.predict(dtest)"
   ]
  },
  {
   "cell_type": "code",
   "execution_count": 24,
   "metadata": {},
   "outputs": [
    {
     "data": {
      "text/html": [
       "<div>\n",
       "<style scoped>\n",
       "    .dataframe tbody tr th:only-of-type {\n",
       "        vertical-align: middle;\n",
       "    }\n",
       "\n",
       "    .dataframe tbody tr th {\n",
       "        vertical-align: top;\n",
       "    }\n",
       "\n",
       "    .dataframe thead th {\n",
       "        text-align: right;\n",
       "    }\n",
       "</style>\n",
       "<table border=\"1\" class=\"dataframe\">\n",
       "  <thead>\n",
       "    <tr style=\"text-align: right;\">\n",
       "      <th></th>\n",
       "      <th>Feature</th>\n",
       "      <th>Importance</th>\n",
       "    </tr>\n",
       "  </thead>\n",
       "  <tbody>\n",
       "    <tr>\n",
       "      <th>2</th>\n",
       "      <td>DOWY</td>\n",
       "      <td>47.599949</td>\n",
       "    </tr>\n",
       "    <tr>\n",
       "      <th>6</th>\n",
       "      <td>TAVG_lag_7d</td>\n",
       "      <td>24.069271</td>\n",
       "    </tr>\n",
       "    <tr>\n",
       "      <th>7</th>\n",
       "      <td>Snow_Class</td>\n",
       "      <td>10.142427</td>\n",
       "    </tr>\n",
       "    <tr>\n",
       "      <th>1</th>\n",
       "      <td>Snow_Depth</td>\n",
       "      <td>7.120821</td>\n",
       "    </tr>\n",
       "    <tr>\n",
       "      <th>4</th>\n",
       "      <td>Longitude</td>\n",
       "      <td>2.119342</td>\n",
       "    </tr>\n",
       "    <tr>\n",
       "      <th>5</th>\n",
       "      <td>PRECIPITATION_lag_7d</td>\n",
       "      <td>1.862609</td>\n",
       "    </tr>\n",
       "    <tr>\n",
       "      <th>3</th>\n",
       "      <td>Latitude</td>\n",
       "      <td>1.591218</td>\n",
       "    </tr>\n",
       "    <tr>\n",
       "      <th>0</th>\n",
       "      <td>Elevation</td>\n",
       "      <td>1.162162</td>\n",
       "    </tr>\n",
       "  </tbody>\n",
       "</table>\n",
       "</div>"
      ],
      "text/plain": [
       "                Feature  Importance\n",
       "2                  DOWY   47.599949\n",
       "6           TAVG_lag_7d   24.069271\n",
       "7            Snow_Class   10.142427\n",
       "1            Snow_Depth    7.120821\n",
       "4             Longitude    2.119342\n",
       "5  PRECIPITATION_lag_7d    1.862609\n",
       "3              Latitude    1.591218\n",
       "0             Elevation    1.162162"
      ]
     },
     "execution_count": 24,
     "metadata": {},
     "output_type": "execute_result"
    }
   ],
   "source": [
    "pd.DataFrame(\n",
    "        data={\n",
    "            \"Feature\": xgb_7.feature_names,\n",
    "            \"Importance\": xgb_7.get_score(importance_type='gain').values()\n",
    "        }\n",
    "    ).sort_values(by=\"Importance\", ascending=False)"
   ]
  },
  {
   "cell_type": "markdown",
   "metadata": {},
   "source": [
    "## Model Comparison"
   ]
  },
  {
   "cell_type": "code",
   "execution_count": 27,
   "metadata": {},
   "outputs": [
    {
     "data": {
      "text/html": [
       "<div>\n",
       "<style scoped>\n",
       "    .dataframe tbody tr th:only-of-type {\n",
       "        vertical-align: middle;\n",
       "    }\n",
       "\n",
       "    .dataframe tbody tr th {\n",
       "        vertical-align: top;\n",
       "    }\n",
       "\n",
       "    .dataframe thead th {\n",
       "        text-align: right;\n",
       "    }\n",
       "</style>\n",
       "<table border=\"1\" class=\"dataframe\">\n",
       "  <thead>\n",
       "    <tr style=\"text-align: right;\">\n",
       "      <th></th>\n",
       "      <th>EXT_Density_climate</th>\n",
       "      <th>RF_Density_climate</th>\n",
       "      <th>LGBM_Density_climate</th>\n",
       "      <th>XGB_Density_climate</th>\n",
       "      <th>True_Density</th>\n",
       "    </tr>\n",
       "  </thead>\n",
       "  <tbody>\n",
       "    <tr>\n",
       "      <th>0</th>\n",
       "      <td>0.266471</td>\n",
       "      <td>0.247584</td>\n",
       "      <td>0.239944</td>\n",
       "      <td>0.240130</td>\n",
       "      <td>0.308333</td>\n",
       "    </tr>\n",
       "    <tr>\n",
       "      <th>1</th>\n",
       "      <td>0.266803</td>\n",
       "      <td>0.247646</td>\n",
       "      <td>0.238482</td>\n",
       "      <td>0.239190</td>\n",
       "      <td>0.264286</td>\n",
       "    </tr>\n",
       "    <tr>\n",
       "      <th>2</th>\n",
       "      <td>0.268182</td>\n",
       "      <td>0.247646</td>\n",
       "      <td>0.242394</td>\n",
       "      <td>0.244625</td>\n",
       "      <td>0.300000</td>\n",
       "    </tr>\n",
       "    <tr>\n",
       "      <th>3</th>\n",
       "      <td>0.269955</td>\n",
       "      <td>0.247646</td>\n",
       "      <td>0.246544</td>\n",
       "      <td>0.249720</td>\n",
       "      <td>0.300000</td>\n",
       "    </tr>\n",
       "    <tr>\n",
       "      <th>4</th>\n",
       "      <td>0.270879</td>\n",
       "      <td>0.247646</td>\n",
       "      <td>0.249270</td>\n",
       "      <td>0.250659</td>\n",
       "      <td>0.278571</td>\n",
       "    </tr>\n",
       "  </tbody>\n",
       "</table>\n",
       "</div>"
      ],
      "text/plain": [
       "   EXT_Density_climate  RF_Density_climate  LGBM_Density_climate  \\\n",
       "0             0.266471            0.247584              0.239944   \n",
       "1             0.266803            0.247646              0.238482   \n",
       "2             0.268182            0.247646              0.242394   \n",
       "3             0.269955            0.247646              0.246544   \n",
       "4             0.270879            0.247646              0.249270   \n",
       "\n",
       "   XGB_Density_climate  True_Density  \n",
       "0             0.240130      0.308333  \n",
       "1             0.239190      0.264286  \n",
       "2             0.244625      0.300000  \n",
       "3             0.249720      0.300000  \n",
       "4             0.250659      0.278571  "
      ]
     },
     "execution_count": 27,
     "metadata": {},
     "output_type": "execute_result"
    }
   ],
   "source": [
    "climate_density_results=pd.DataFrame({\n",
    "    'EXT_Density_climate': y_pred_ext_7,\n",
    "    'RF_Density_climate': y_pred_rf_7,\n",
    "    'LGBM_Density_climate': y_pred_lgbm_7,\n",
    "    'XGB_Density_climate': y_pred_xgb_7,\n",
    "    'True_Density': y_test.values\n",
    "})\n",
    "\n",
    "climate_density_results.head()"
   ]
  },
  {
   "cell_type": "code",
   "execution_count": 28,
   "metadata": {},
   "outputs": [
    {
     "data": {
      "text/html": [
       "<div>\n",
       "<style scoped>\n",
       "    .dataframe tbody tr th:only-of-type {\n",
       "        vertical-align: middle;\n",
       "    }\n",
       "\n",
       "    .dataframe tbody tr th {\n",
       "        vertical-align: top;\n",
       "    }\n",
       "\n",
       "    .dataframe thead th {\n",
       "        text-align: right;\n",
       "    }\n",
       "</style>\n",
       "<table border=\"1\" class=\"dataframe\">\n",
       "  <thead>\n",
       "    <tr style=\"text-align: right;\">\n",
       "      <th></th>\n",
       "      <th>EXT_Density_climate</th>\n",
       "      <th>RF_Density_climate</th>\n",
       "      <th>LGBM_Density_climate</th>\n",
       "      <th>XGB_Density_climate</th>\n",
       "    </tr>\n",
       "  </thead>\n",
       "  <tbody>\n",
       "    <tr>\n",
       "      <th>RMSE</th>\n",
       "      <td>0.048647</td>\n",
       "      <td>0.049515</td>\n",
       "      <td>0.048000</td>\n",
       "      <td>0.048148</td>\n",
       "    </tr>\n",
       "    <tr>\n",
       "      <th>MBE</th>\n",
       "      <td>0.001702</td>\n",
       "      <td>0.001681</td>\n",
       "      <td>0.002265</td>\n",
       "      <td>0.002721</td>\n",
       "    </tr>\n",
       "    <tr>\n",
       "      <th>RSQ</th>\n",
       "      <td>0.715522</td>\n",
       "      <td>0.705277</td>\n",
       "      <td>0.723036</td>\n",
       "      <td>0.721324</td>\n",
       "    </tr>\n",
       "  </tbody>\n",
       "</table>\n",
       "</div>"
      ],
      "text/plain": [
       "      EXT_Density_climate  RF_Density_climate  LGBM_Density_climate  \\\n",
       "RMSE             0.048647            0.049515              0.048000   \n",
       "MBE              0.001702            0.001681              0.002265   \n",
       "RSQ              0.715522            0.705277              0.723036   \n",
       "\n",
       "      XGB_Density_climate  \n",
       "RMSE             0.048148  \n",
       "MBE              0.002721  \n",
       "RSQ              0.721324  "
      ]
     },
     "execution_count": 28,
     "metadata": {},
     "output_type": "execute_result"
    }
   ],
   "source": [
    "compare_multiple_models(climate_density_results, 'True_Density')"
   ]
  },
  {
   "cell_type": "code",
   "execution_count": 29,
   "metadata": {},
   "outputs": [
    {
     "data": {
      "image/png": "[encoded data removed]",
      "text/plain": [
       "<Figure size 700x600 with 1 Axes>"
      ]
     },
     "metadata": {},
     "output_type": "display_data"
    }
   ],
   "source": [
    "from matplotlib import pyplot as plt\n",
    "# Plot feature importance using Split\n",
    "lgb.plot_importance(lgbm_7, importance_type=\"gain\", figsize=(7,6), title=\"LightGBM Feature Importance (Gain)\")\n",
    "plt.show()"
   ]
  },
  {
   "cell_type": "code",
   "execution_count": 73,
   "metadata": {},
   "outputs": [],
   "source": [
    "import shap\n",
    "\n",
    "explainer_7 = shap.TreeExplainer(lgbm_7)\n",
    "shap_values_7 = explainer_7(X_test_7d)"
   ]
  },
  {
   "cell_type": "code",
   "execution_count": 75,
   "metadata": {},
   "outputs": [],
   "source": [
    "shap_df_7=pd.DataFrame(abs(shap_values_7.values), columns=lgbm_7.feature_name())\n",
    "\n",
    "shap_df_7=shap_df_7.assign(Raw_snow_class = raw_data.x_val.Snow_Class.values)\n",
    "\n",
    "shap_df_7 = shap_df_7.rename(columns={\n",
    "        'Snow_Class': 'Snow Class',\n",
    "        'Snow_Depth': 'Snow Depth',\n",
    "        'TAVG_lag_7d': r'$\\bar{t}_{-7}$',\n",
    "        'PRECIPITATION_lag_7d': r'$\\bar{p}_{-7}$'\n",
    "    })"
   ]
  },
  {
   "cell_type": "code",
   "execution_count": 77,
   "metadata": {},
   "outputs": [
    {
     "data": {
      "image/png": "[encoded data removed]",
      "text/plain": [
       "<Figure size 1700x800 with 6 Axes>"
      ]
     },
     "metadata": {},
     "output_type": "display_data"
    }
   ],
   "source": [
    "fig, ax = plt.subplots(nrows=2, ncols=3, figsize=(17, 8))\n",
    "ax = ax.flatten()  # flatten the 2D array of axes into 1D\n",
    "\n",
    "for i, sc in enumerate(shap_df_7.Raw_snow_class.unique()):\n",
    "    current_class = (\n",
    "        shap_df_7.query(\"Raw_snow_class == @sc\")\n",
    "        .drop('Raw_snow_class', axis=1)\n",
    "        .mean()\n",
    "        .sort_values(ascending=False)\n",
    "        .to_frame()\n",
    "        .reset_index()\n",
    "        .rename(columns={'index': 'Feature', 0: 'Importance'})\n",
    "    )\n",
    "    \n",
    "    sns.barplot(x=\"Importance\", y=\"Feature\", data=current_class, ax=ax[i])\n",
    "    ax[i].set_title(f\"Snow class: {sc}\", fontsize=18)\n",
    "    ax[i].set_xlabel(\"SHAP $f_{CLIMATE, 7}$\", fontsize=18)\n",
    "    ax[i].set_ylabel(\"Feature\", fontsize=18)\n",
    "    ax[i].tick_params(labelsize=10)\n",
    "\n",
    "plt.tight_layout()\n",
    "plt.savefig('../plots/shap_by_class_clim_7.jpg', dpi=300, bbox_inches='tight')\n",
    "plt.show()\n"
   ]
  },
  {
   "cell_type": "code",
   "execution_count": 26,
   "metadata": {},
   "outputs": [
    {
     "data": {
      "image/png": "[encoded data removed]",
      "text/plain": [
       "<Figure size 800x550 with 1 Axes>"
      ]
     },
     "metadata": {},
     "output_type": "display_data"
    }
   ],
   "source": [
    "shap.plots.bar(shap_values_7)"
   ]
  },
  {
   "cell_type": "code",
   "execution_count": 30,
   "metadata": {},
   "outputs": [
    {
     "data": {
      "text/html": [
       "<div>\n",
       "<style scoped>\n",
       "    .dataframe tbody tr th:only-of-type {\n",
       "        vertical-align: middle;\n",
       "    }\n",
       "\n",
       "    .dataframe tbody tr th {\n",
       "        vertical-align: top;\n",
       "    }\n",
       "\n",
       "    .dataframe thead th {\n",
       "        text-align: right;\n",
       "    }\n",
       "</style>\n",
       "<table border=\"1\" class=\"dataframe\">\n",
       "  <thead>\n",
       "    <tr style=\"text-align: right;\">\n",
       "      <th></th>\n",
       "      <th>True_SWE</th>\n",
       "      <th>EXT_SWE_climate</th>\n",
       "      <th>RF_SWE_climate</th>\n",
       "      <th>LGBM_SWE_climate</th>\n",
       "      <th>XGB_SWE_climate</th>\n",
       "    </tr>\n",
       "  </thead>\n",
       "  <tbody>\n",
       "    <tr>\n",
       "      <th>0</th>\n",
       "      <td>9.398</td>\n",
       "      <td>8.122034</td>\n",
       "      <td>7.546353</td>\n",
       "      <td>7.313485</td>\n",
       "      <td>7.319155</td>\n",
       "    </tr>\n",
       "    <tr>\n",
       "      <th>1</th>\n",
       "      <td>9.398</td>\n",
       "      <td>9.487531</td>\n",
       "      <td>8.806277</td>\n",
       "      <td>8.480415</td>\n",
       "      <td>8.505586</td>\n",
       "    </tr>\n",
       "    <tr>\n",
       "      <th>2</th>\n",
       "      <td>9.906</td>\n",
       "      <td>8.855378</td>\n",
       "      <td>8.177257</td>\n",
       "      <td>8.003835</td>\n",
       "      <td>8.077516</td>\n",
       "    </tr>\n",
       "    <tr>\n",
       "      <th>3</th>\n",
       "      <td>9.906</td>\n",
       "      <td>8.913913</td>\n",
       "      <td>8.177257</td>\n",
       "      <td>8.140875</td>\n",
       "      <td>8.245748</td>\n",
       "    </tr>\n",
       "    <tr>\n",
       "      <th>4</th>\n",
       "      <td>9.906</td>\n",
       "      <td>9.632469</td>\n",
       "      <td>8.806277</td>\n",
       "      <td>8.864030</td>\n",
       "      <td>8.913432</td>\n",
       "    </tr>\n",
       "  </tbody>\n",
       "</table>\n",
       "</div>"
      ],
      "text/plain": [
       "   True_SWE  EXT_SWE_climate  RF_SWE_climate  LGBM_SWE_climate  \\\n",
       "0     9.398         8.122034        7.546353          7.313485   \n",
       "1     9.398         9.487531        8.806277          8.480415   \n",
       "2     9.906         8.855378        8.177257          8.003835   \n",
       "3     9.906         8.913913        8.177257          8.140875   \n",
       "4     9.906         9.632469        8.806277          8.864030   \n",
       "\n",
       "   XGB_SWE_climate  \n",
       "0         7.319155  \n",
       "1         8.505586  \n",
       "2         8.077516  \n",
       "3         8.245748  \n",
       "4         8.913432  "
      ]
     },
     "execution_count": 30,
     "metadata": {},
     "output_type": "execute_result"
    }
   ],
   "source": [
    "climate_swe_results=pd.DataFrame({\n",
    "    'True_SWE': raw_data.x_val.SWE.values,\n",
    "    'EXT_SWE_climate': climate_density_results.EXT_Density_climate.values*X_test_7d.Snow_Depth.values,\n",
    "    'RF_SWE_climate': climate_density_results.RF_Density_climate.values*X_test_7d.Snow_Depth.values,\n",
    "    'LGBM_SWE_climate': climate_density_results.LGBM_Density_climate.values*X_test_7d.Snow_Depth.values,\n",
    "    'XGB_SWE_climate': climate_density_results.XGB_Density_climate.values*X_test_7d.Snow_Depth.values,\n",
    "})\n",
    "\n",
    "climate_swe_results.head()"
   ]
  },
  {
   "cell_type": "code",
   "execution_count": 31,
   "metadata": {},
   "outputs": [
    {
     "data": {
      "text/html": [
       "<div>\n",
       "<style scoped>\n",
       "    .dataframe tbody tr th:only-of-type {\n",
       "        vertical-align: middle;\n",
       "    }\n",
       "\n",
       "    .dataframe tbody tr th {\n",
       "        vertical-align: top;\n",
       "    }\n",
       "\n",
       "    .dataframe thead th {\n",
       "        text-align: right;\n",
       "    }\n",
       "</style>\n",
       "<table border=\"1\" class=\"dataframe\">\n",
       "  <thead>\n",
       "    <tr style=\"text-align: right;\">\n",
       "      <th></th>\n",
       "      <th>EXT_Density_climate</th>\n",
       "      <th>RF_Density_climate</th>\n",
       "      <th>LGBM_Density_climate</th>\n",
       "      <th>XGB_Density_climate</th>\n",
       "    </tr>\n",
       "  </thead>\n",
       "  <tbody>\n",
       "    <tr>\n",
       "      <th>RMSE</th>\n",
       "      <td>0.048647</td>\n",
       "      <td>0.049515</td>\n",
       "      <td>0.048000</td>\n",
       "      <td>0.048148</td>\n",
       "    </tr>\n",
       "    <tr>\n",
       "      <th>MBE</th>\n",
       "      <td>0.001702</td>\n",
       "      <td>0.001681</td>\n",
       "      <td>0.002265</td>\n",
       "      <td>0.002721</td>\n",
       "    </tr>\n",
       "    <tr>\n",
       "      <th>RSQ</th>\n",
       "      <td>0.715522</td>\n",
       "      <td>0.705277</td>\n",
       "      <td>0.723036</td>\n",
       "      <td>0.721324</td>\n",
       "    </tr>\n",
       "  </tbody>\n",
       "</table>\n",
       "</div>"
      ],
      "text/plain": [
       "      EXT_Density_climate  RF_Density_climate  LGBM_Density_climate  \\\n",
       "RMSE             0.048647            0.049515              0.048000   \n",
       "MBE              0.001702            0.001681              0.002265   \n",
       "RSQ              0.715522            0.705277              0.723036   \n",
       "\n",
       "      XGB_Density_climate  \n",
       "RMSE             0.048148  \n",
       "MBE              0.002721  \n",
       "RSQ              0.721324  "
      ]
     },
     "execution_count": 31,
     "metadata": {},
     "output_type": "execute_result"
    }
   ],
   "source": [
    "compare_multiple_models(climate_density_results, 'True_Density')"
   ]
  },
  {
   "cell_type": "code",
   "execution_count": 32,
   "metadata": {},
   "outputs": [
    {
     "data": {
      "text/html": [
       "<div>\n",
       "<style scoped>\n",
       "    .dataframe tbody tr th:only-of-type {\n",
       "        vertical-align: middle;\n",
       "    }\n",
       "\n",
       "    .dataframe tbody tr th {\n",
       "        vertical-align: top;\n",
       "    }\n",
       "\n",
       "    .dataframe thead th {\n",
       "        text-align: right;\n",
       "    }\n",
       "</style>\n",
       "<table border=\"1\" class=\"dataframe\">\n",
       "  <thead>\n",
       "    <tr style=\"text-align: right;\">\n",
       "      <th></th>\n",
       "      <th>EXT_SWE_climate</th>\n",
       "      <th>RF_SWE_climate</th>\n",
       "      <th>LGBM_SWE_climate</th>\n",
       "      <th>XGB_SWE_climate</th>\n",
       "    </tr>\n",
       "  </thead>\n",
       "  <tbody>\n",
       "    <tr>\n",
       "      <th>RMSE</th>\n",
       "      <td>5.063582</td>\n",
       "      <td>5.453277</td>\n",
       "      <td>5.028539</td>\n",
       "      <td>5.012549</td>\n",
       "    </tr>\n",
       "    <tr>\n",
       "      <th>MBE</th>\n",
       "      <td>0.123620</td>\n",
       "      <td>0.128247</td>\n",
       "      <td>0.212589</td>\n",
       "      <td>0.259325</td>\n",
       "    </tr>\n",
       "    <tr>\n",
       "      <th>RSQ</th>\n",
       "      <td>0.969696</td>\n",
       "      <td>0.964852</td>\n",
       "      <td>0.970114</td>\n",
       "      <td>0.970303</td>\n",
       "    </tr>\n",
       "  </tbody>\n",
       "</table>\n",
       "</div>"
      ],
      "text/plain": [
       "      EXT_SWE_climate  RF_SWE_climate  LGBM_SWE_climate  XGB_SWE_climate\n",
       "RMSE         5.063582        5.453277          5.028539         5.012549\n",
       "MBE          0.123620        0.128247          0.212589         0.259325\n",
       "RSQ          0.969696        0.964852          0.970114         0.970303"
      ]
     },
     "execution_count": 32,
     "metadata": {},
     "output_type": "execute_result"
    }
   ],
   "source": [
    "compare_multiple_models(climate_swe_results, 'True_SWE')"
   ]
  },
  {
   "cell_type": "code",
   "execution_count": 54,
   "metadata": {},
   "outputs": [],
   "source": [
    "import seaborn as sns"
   ]
  },
  {
   "cell_type": "code",
   "execution_count": 73,
   "metadata": {},
   "outputs": [
    {
     "data": {
      "text/html": [
       "<div>\n",
       "<style scoped>\n",
       "    .dataframe tbody tr th:only-of-type {\n",
       "        vertical-align: middle;\n",
       "    }\n",
       "\n",
       "    .dataframe tbody tr th {\n",
       "        vertical-align: top;\n",
       "    }\n",
       "\n",
       "    .dataframe thead th {\n",
       "        text-align: right;\n",
       "    }\n",
       "</style>\n",
       "<table border=\"1\" class=\"dataframe\">\n",
       "  <thead>\n",
       "    <tr style=\"text-align: right;\">\n",
       "      <th></th>\n",
       "      <th>Feature</th>\n",
       "      <th>Importance</th>\n",
       "    </tr>\n",
       "  </thead>\n",
       "  <tbody>\n",
       "    <tr>\n",
       "      <th>2</th>\n",
       "      <td>DOWY</td>\n",
       "      <td>0.052164</td>\n",
       "    </tr>\n",
       "    <tr>\n",
       "      <th>5</th>\n",
       "      <td>Snow Class</td>\n",
       "      <td>0.011241</td>\n",
       "    </tr>\n",
       "    <tr>\n",
       "      <th>1</th>\n",
       "      <td>Snow_Depth</td>\n",
       "      <td>0.011115</td>\n",
       "    </tr>\n",
       "    <tr>\n",
       "      <th>4</th>\n",
       "      <td>Longitude</td>\n",
       "      <td>0.010083</td>\n",
       "    </tr>\n",
       "    <tr>\n",
       "      <th>3</th>\n",
       "      <td>Latitude</td>\n",
       "      <td>0.006069</td>\n",
       "    </tr>\n",
       "    <tr>\n",
       "      <th>0</th>\n",
       "      <td>Elevation</td>\n",
       "      <td>0.003332</td>\n",
       "    </tr>\n",
       "  </tbody>\n",
       "</table>\n",
       "</div>"
      ],
      "text/plain": [
       "      Feature  Importance\n",
       "2        DOWY    0.052164\n",
       "5  Snow Class    0.011241\n",
       "1  Snow_Depth    0.011115\n",
       "4   Longitude    0.010083\n",
       "3    Latitude    0.006069\n",
       "0   Elevation    0.003332"
      ]
     },
     "execution_count": 73,
     "metadata": {},
     "output_type": "execute_result"
    }
   ],
   "source": [
    "shap_importance_main=(\n",
    "    pd.DataFrame(\n",
    "        data={\n",
    "            \"Feature\": lgbm_main.feature_name(),\n",
    "            \"Importance\": np.abs(shap_values.values).mean(axis=0)\n",
    "        }\n",
    "    )\n",
    "    .sort_values(by=\"Importance\", ascending=False)\n",
    "    .replace({\n",
    "        'Snow_Class': 'Snow Class',\n",
    "        'Snow Depth': 'Snow Depth',\n",
    "    })\n",
    ")\n",
    "\n",
    "shap_importance_main"
   ]
  },
  {
   "cell_type": "code",
   "execution_count": 74,
   "metadata": {},
   "outputs": [
    {
     "data": {
      "text/html": [
       "<div>\n",
       "<style scoped>\n",
       "    .dataframe tbody tr th:only-of-type {\n",
       "        vertical-align: middle;\n",
       "    }\n",
       "\n",
       "    .dataframe tbody tr th {\n",
       "        vertical-align: top;\n",
       "    }\n",
       "\n",
       "    .dataframe thead th {\n",
       "        text-align: right;\n",
       "    }\n",
       "</style>\n",
       "<table border=\"1\" class=\"dataframe\">\n",
       "  <thead>\n",
       "    <tr style=\"text-align: right;\">\n",
       "      <th></th>\n",
       "      <th>Feature</th>\n",
       "      <th>Importance</th>\n",
       "    </tr>\n",
       "  </thead>\n",
       "  <tbody>\n",
       "    <tr>\n",
       "      <th>2</th>\n",
       "      <td>DOWY</td>\n",
       "      <td>0.042484</td>\n",
       "    </tr>\n",
       "    <tr>\n",
       "      <th>6</th>\n",
       "      <td>$\\bar{t}_{-7}$</td>\n",
       "      <td>0.020289</td>\n",
       "    </tr>\n",
       "    <tr>\n",
       "      <th>1</th>\n",
       "      <td>Snow Depth</td>\n",
       "      <td>0.016626</td>\n",
       "    </tr>\n",
       "    <tr>\n",
       "      <th>4</th>\n",
       "      <td>Longitude</td>\n",
       "      <td>0.007769</td>\n",
       "    </tr>\n",
       "    <tr>\n",
       "      <th>5</th>\n",
       "      <td>$\\bar{p}_{-7}$</td>\n",
       "      <td>0.006288</td>\n",
       "    </tr>\n",
       "    <tr>\n",
       "      <th>7</th>\n",
       "      <td>Snow Class</td>\n",
       "      <td>0.005933</td>\n",
       "    </tr>\n",
       "    <tr>\n",
       "      <th>3</th>\n",
       "      <td>Latitude</td>\n",
       "      <td>0.005084</td>\n",
       "    </tr>\n",
       "    <tr>\n",
       "      <th>0</th>\n",
       "      <td>Elevation</td>\n",
       "      <td>0.003326</td>\n",
       "    </tr>\n",
       "  </tbody>\n",
       "</table>\n",
       "</div>"
      ],
      "text/plain": [
       "          Feature  Importance\n",
       "2            DOWY    0.042484\n",
       "6  $\\bar{t}_{-7}$    0.020289\n",
       "1      Snow Depth    0.016626\n",
       "4       Longitude    0.007769\n",
       "5  $\\bar{p}_{-7}$    0.006288\n",
       "7      Snow Class    0.005933\n",
       "3        Latitude    0.005084\n",
       "0       Elevation    0.003326"
      ]
     },
     "execution_count": 74,
     "metadata": {},
     "output_type": "execute_result"
    }
   ],
   "source": [
    "shap_importance_climate=(\n",
    "    pd.DataFrame(\n",
    "        data={\n",
    "            \"Feature\": lgbm_7.feature_name(),\n",
    "            \"Importance\": np.abs(shap_values_7.values).mean(axis=0)\n",
    "        }\n",
    "    )\n",
    "    .sort_values(by=\"Importance\", ascending=False)\n",
    "    .replace({\n",
    "        'Snow_Class': 'Snow Class',\n",
    "        'Snow_Depth': 'Snow Depth',\n",
    "        'TAVG_lag_7d': r'$\\bar{t}_{-7}$',\n",
    "        'PRECIPITATION_lag_7d': r'$\\bar{p}_{-7}$'\n",
    "    })\n",
    ")\n",
    "\n",
    "shap_importance_climate"
   ]
  },
  {
   "cell_type": "code",
   "execution_count": 75,
   "metadata": {},
   "outputs": [
    {
     "data": {
      "text/html": [
       "<div>\n",
       "<style scoped>\n",
       "    .dataframe tbody tr th:only-of-type {\n",
       "        vertical-align: middle;\n",
       "    }\n",
       "\n",
       "    .dataframe tbody tr th {\n",
       "        vertical-align: top;\n",
       "    }\n",
       "\n",
       "    .dataframe thead th {\n",
       "        text-align: right;\n",
       "    }\n",
       "</style>\n",
       "<table border=\"1\" class=\"dataframe\">\n",
       "  <thead>\n",
       "    <tr style=\"text-align: right;\">\n",
       "      <th></th>\n",
       "      <th>Feature</th>\n",
       "      <th>Importance</th>\n",
       "    </tr>\n",
       "  </thead>\n",
       "  <tbody>\n",
       "    <tr>\n",
       "      <th>2</th>\n",
       "      <td>DOWY</td>\n",
       "      <td>0.643154</td>\n",
       "    </tr>\n",
       "    <tr>\n",
       "      <th>5</th>\n",
       "      <td>Snow Class</td>\n",
       "      <td>0.239762</td>\n",
       "    </tr>\n",
       "    <tr>\n",
       "      <th>1</th>\n",
       "      <td>Snow Depth</td>\n",
       "      <td>0.059232</td>\n",
       "    </tr>\n",
       "    <tr>\n",
       "      <th>4</th>\n",
       "      <td>Longitude</td>\n",
       "      <td>0.024709</td>\n",
       "    </tr>\n",
       "    <tr>\n",
       "      <th>3</th>\n",
       "      <td>Latitude</td>\n",
       "      <td>0.020585</td>\n",
       "    </tr>\n",
       "    <tr>\n",
       "      <th>0</th>\n",
       "      <td>Elevation</td>\n",
       "      <td>0.012558</td>\n",
       "    </tr>\n",
       "  </tbody>\n",
       "</table>\n",
       "</div>"
      ],
      "text/plain": [
       "      Feature  Importance\n",
       "2        DOWY    0.643154\n",
       "5  Snow Class    0.239762\n",
       "1  Snow Depth    0.059232\n",
       "4   Longitude    0.024709\n",
       "3    Latitude    0.020585\n",
       "0   Elevation    0.012558"
      ]
     },
     "execution_count": 75,
     "metadata": {},
     "output_type": "execute_result"
    }
   ],
   "source": [
    "splits = lgbm_main.feature_importance(importance_type='split')\n",
    "gains = lgbm_main.feature_importance(importance_type='gain')\n",
    "average_gain = np.divide(gains, splits, out=np.zeros_like(gains), where=splits!=0)\n",
    "\n",
    "# Normalize to sum to 1\n",
    "normalized_gain = average_gain / average_gain.sum()\n",
    "\n",
    "xgboost_gain_main = (\n",
    "    pd.DataFrame(\n",
    "        data={\n",
    "            \"Feature\": lgbm_main.feature_name(),\n",
    "            \"Importance\": normalized_gain  # Use normalized values\n",
    "        }\n",
    "    )\n",
    "    .sort_values(by=\"Importance\", ascending=False)\n",
    "    .replace({\n",
    "        'Snow_Class': 'Snow Class',\n",
    "        'Snow_Depth': 'Snow Depth',\n",
    "    })\n",
    ")\n",
    "\n",
    "xgboost_gain_main"
   ]
  },
  {
   "cell_type": "code",
   "execution_count": 76,
   "metadata": {},
   "outputs": [
    {
     "data": {
      "text/html": [
       "<div>\n",
       "<style scoped>\n",
       "    .dataframe tbody tr th:only-of-type {\n",
       "        vertical-align: middle;\n",
       "    }\n",
       "\n",
       "    .dataframe tbody tr th {\n",
       "        vertical-align: top;\n",
       "    }\n",
       "\n",
       "    .dataframe thead th {\n",
       "        text-align: right;\n",
       "    }\n",
       "</style>\n",
       "<table border=\"1\" class=\"dataframe\">\n",
       "  <thead>\n",
       "    <tr style=\"text-align: right;\">\n",
       "      <th></th>\n",
       "      <th>Feature</th>\n",
       "      <th>Importance</th>\n",
       "    </tr>\n",
       "  </thead>\n",
       "  <tbody>\n",
       "    <tr>\n",
       "      <th>2</th>\n",
       "      <td>DOWY</td>\n",
       "      <td>0.499621</td>\n",
       "    </tr>\n",
       "    <tr>\n",
       "      <th>6</th>\n",
       "      <td>$\\bar{t}_{-7}$</td>\n",
       "      <td>0.246644</td>\n",
       "    </tr>\n",
       "    <tr>\n",
       "      <th>7</th>\n",
       "      <td>Snow Class</td>\n",
       "      <td>0.108385</td>\n",
       "    </tr>\n",
       "    <tr>\n",
       "      <th>1</th>\n",
       "      <td>Snow Depth</td>\n",
       "      <td>0.075651</td>\n",
       "    </tr>\n",
       "    <tr>\n",
       "      <th>4</th>\n",
       "      <td>Longitude</td>\n",
       "      <td>0.021687</td>\n",
       "    </tr>\n",
       "    <tr>\n",
       "      <th>5</th>\n",
       "      <td>$\\bar{p}_{-7}$</td>\n",
       "      <td>0.019921</td>\n",
       "    </tr>\n",
       "    <tr>\n",
       "      <th>3</th>\n",
       "      <td>Latitude</td>\n",
       "      <td>0.016720</td>\n",
       "    </tr>\n",
       "    <tr>\n",
       "      <th>0</th>\n",
       "      <td>Elevation</td>\n",
       "      <td>0.011372</td>\n",
       "    </tr>\n",
       "  </tbody>\n",
       "</table>\n",
       "</div>"
      ],
      "text/plain": [
       "          Feature  Importance\n",
       "2            DOWY    0.499621\n",
       "6  $\\bar{t}_{-7}$    0.246644\n",
       "7      Snow Class    0.108385\n",
       "1      Snow Depth    0.075651\n",
       "4       Longitude    0.021687\n",
       "5  $\\bar{p}_{-7}$    0.019921\n",
       "3        Latitude    0.016720\n",
       "0       Elevation    0.011372"
      ]
     },
     "execution_count": 76,
     "metadata": {},
     "output_type": "execute_result"
    }
   ],
   "source": [
    "splits_7 = lgbm_7.feature_importance(importance_type='split')\n",
    "gains_7 = lgbm_7.feature_importance(importance_type='gain')\n",
    "average_gain_7 = np.divide(gains_7, splits_7, out=np.zeros_like(gains_7), where=splits_7!=0)\n",
    "\n",
    "normalized_gain_7 = average_gain_7 / average_gain_7.sum()\n",
    "\n",
    "xgboost_gain_climate=(\n",
    "    pd.DataFrame(\n",
    "        data={\n",
    "            \"Feature\": lgbm_7.feature_name(),\n",
    "            \"Importance\": normalized_gain_7\n",
    "        }\n",
    "    )\n",
    "    .sort_values(by=\"Importance\", ascending=False)\n",
    "    .replace({\n",
    "        'Snow_Class': 'Snow Class',\n",
    "        'Snow_Depth': 'Snow Depth',\n",
    "        'TAVG_lag_7d': r'$\\bar{t}_{-7}$',\n",
    "        'PRECIPITATION_lag_7d': r'$\\bar{p}_{-7}$'\n",
    "    })\n",
    ")\n",
    "\n",
    "xgboost_gain_climate"
   ]
  },
  {
   "cell_type": "code",
   "execution_count": 77,
   "metadata": {},
   "outputs": [],
   "source": [
    "from matplotlib.ticker import MultipleLocator"
   ]
  },
  {
   "cell_type": "code",
   "execution_count": 78,
   "metadata": {},
   "outputs": [
    {
     "data": {
      "image/png": "[encoded data removed]",
      "text/plain": [
       "<Figure size 1500x900 with 4 Axes>"
      ]
     },
     "metadata": {},
     "output_type": "display_data"
    }
   ],
   "source": [
    "fig, ax = plt.subplots(nrows=2, ncols=2, figsize=(15, 9))\n",
    "\n",
    "sns.barplot(x=\"Importance\", y=\"Feature\", data=xgboost_gain_climate, ax=ax[0, 0])\n",
    "ax[0, 0].set_xlabel(\"Gain $f_{CLIMATE, 7}$\", fontsize=16)\n",
    "ax[0, 0].set_ylabel(\"Feature\", fontsize=18)\n",
    "ax[0, 0].tick_params(labelsize=12)\n",
    "ax[0, 0].text(0.90, 0.10, 'a)', transform=ax[0, 0].transAxes, fontsize=18, va='top', ha='right')\n",
    "\n",
    "\n",
    "\n",
    "sns.barplot(x=\"Importance\", y=\"Feature\", data=shap_importance_climate, ax=ax[0, 1])\n",
    "ax[0, 1].set_xlabel(\"SHAP $f_{CLIMATE, 7}$\", fontsize=18)\n",
    "ax[0, 1].set_ylabel(\"Feature\", fontsize=16)\n",
    "ax[0, 1].tick_params(labelsize=12)\n",
    "ax[0, 1].xaxis.set_major_locator(MultipleLocator(0.01))\n",
    "ax[0, 1].text(0.90, 0.10, 'b)', transform=ax[0, 1].transAxes, fontsize=18, va='top', ha='right')\n",
    "\n",
    "\n",
    "\n",
    "sns.barplot(x=\"Importance\", y=\"Feature\", data=xgboost_gain_main, ax=ax[1, 0])\n",
    "ax[1, 0].set_xlabel(\"Gain $f_{MAIN}$\", fontsize=16)\n",
    "ax[1, 0].set_ylabel(\"Feature\", fontsize=18)\n",
    "ax[1, 0].tick_params(labelsize=12)\n",
    "ax[1, 0].text(0.90, 0.10, 'c)', transform=ax[1, 0].transAxes, fontsize=18, va='top', ha='right')\n",
    "\n",
    "\n",
    "\n",
    "sns.barplot(x=\"Importance\", y=\"Feature\", data=shap_importance_main, ax=ax[1, 1])\n",
    "ax[1, 1].set_xlabel(\"SHAP $f_{MAIN}$\", fontsize=16)\n",
    "ax[1, 1].set_ylabel(\"Feature\", fontsize=18)\n",
    "ax[1, 1].tick_params(labelsize=12)\n",
    "ax[1, 1].text(0.90, 0.10, 'd)', transform=ax[1, 1].transAxes, fontsize=18, va='top', ha='right')\n",
    "\n",
    "plt.tight_layout()\n",
    "plt.savefig('../plots/figure10.jpg', dpi=300, bbox_inches='tight')\n",
    "plt.show()"
   ]
  },
  {
   "cell_type": "markdown",
   "metadata": {},
   "source": [
    "## Climate 14"
   ]
  },
  {
   "cell_type": "code",
   "execution_count": null,
   "metadata": {},
   "outputs": [],
   "source": []
  },
  {
   "cell_type": "markdown",
   "metadata": {},
   "source": [
    "### LightGBM Wins!\n",
    "\n",
    "We'll save the model weights and encoder for later use."
   ]
  },
  {
   "cell_type": "code",
   "execution_count": 25,
   "metadata": {},
   "outputs": [
    {
     "name": "stdout",
     "output_type": "stream",
     "text": [
      "Folder already exists\n"
     ]
    }
   ],
   "source": [
    "if not os.path.exists('../ML_weights'):\n",
    "    os.makedirs('../ML_weights')\n",
    "else:\n",
    "    print('Folder already exists')"
   ]
  },
  {
   "cell_type": "code",
   "execution_count": 26,
   "metadata": {},
   "outputs": [],
   "source": [
    "xgb_main.save_model(\"../ML_weights/main_density_model.ubj\") # Non climate\n",
    "xgb_climate.save_model(\"../ML_weights/climate_density_model.ubj\") # Climate Enhanced"
   ]
  },
  {
   "cell_type": "code",
   "execution_count": 27,
   "metadata": {},
   "outputs": [],
   "source": [
    "# Save the encoders to a file\n",
    "with open('../ML_weights/encoder_climate.pkl', 'wb') as f:\n",
    "    pickle.dump(encoder_climate, f)\n",
    "\n",
    "with open('../ML_weights/encoder.pkl', 'wb') as f:\n",
    "    pickle.dump(encoder, f)"
   ]
  },
  {
   "cell_type": "markdown",
   "metadata": {},
   "source": [
    "### Store Predictions"
   ]
  },
  {
   "cell_type": "code",
   "execution_count": 33,
   "metadata": {},
   "outputs": [],
   "source": [
    "main_model_results.drop('True_Density', axis=1).to_parquet('../results/density/ML_models_predictions_baseline.parquet', index=False, compression='gzip')\n",
    "main_model_swe_results.drop('True_SWE', axis=1).to_parquet('../results/swe/ML_models_predictions_baseline.parquet', index=False, compression='gzip')"
   ]
  },
  {
   "cell_type": "code",
   "execution_count": 34,
   "metadata": {},
   "outputs": [],
   "source": [
    "climate_density_results.drop('True_Density', axis=1).to_parquet('../results/density/ML_models_predictions_climate.parquet', index=True, compression='gzip')\n",
    "climate_swe_results.drop('True_SWE', axis=1).to_parquet('../results/swe/ML_models_predictions_climate.parquet', index=True, compression='gzip')"
   ]
  },
  {
   "cell_type": "markdown",
   "metadata": {},
   "source": [
    "# The End!"
   ]
  }
 ],
 "metadata": {
  "kernelspec": {
   "display_name": "ml_density_env",
   "language": "python",
   "name": "python3"
  },
  "language_info": {
   "codemirror_mode": {
    "name": "ipython",
    "version": 3
   },
   "file_extension": ".py",
   "mimetype": "text/x-python",
   "name": "python",
   "nbconvert_exporter": "python",
   "pygments_lexer": "ipython3",
   "version": "3.11.5"
  }
 },
 "nbformat": 4,
 "nbformat_minor": 2
}
